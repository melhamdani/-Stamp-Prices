{
  "cells": [
    {
      "cell_type": "markdown",
      "metadata": {
        "id": "view-in-github",
        "colab_type": "text"
      },
      "source": [
        "<a href=\"https://colab.research.google.com/github/melhamdani/-Stamp-Prices/blob/main/project_5_NLP(11/19)%20.ipynb\" target=\"_parent\"><img src=\"https://colab.research.google.com/assets/colab-badge.svg\" alt=\"Open In Colab\"/></a>"
      ]
    },
    {
      "cell_type": "markdown",
      "metadata": {
        "id": "CxYSWPCsM0YU"
      },
      "source": [
        "# Natural Language Processing\n",
        "\n"
      ]
    },
    {
      "cell_type": "markdown",
      "source": [
        "---\n",
        "#*Problem Definition :*"
      ],
      "metadata": {
        "id": "gMfh9OQj-KW1"
      }
    },
    {
      "cell_type": "markdown",
      "source": [
        "*This project* aims to use Natural Language Processing (NLP) techniques to compare descriptions of famous people, identify similarities between them, and analyze the sentiment of their descriptions. Additionally, it will pull live content from Wikipedia to improve similarity results."
      ],
      "metadata": {
        "id": "ZUUzUe5_-FBG"
      }
    },
    {
      "cell_type": "markdown",
      "source": [
        "----\n",
        "###*Part 1*"
      ],
      "metadata": {
        "id": "qSxNelRc9uTG"
      }
    },
    {
      "cell_type": "code",
      "execution_count": 2,
      "metadata": {
        "colab": {
          "base_uri": "https://localhost:8080/"
        },
        "id": "t6dopgR3vfDU",
        "outputId": "12f5096f-f108-49fa-a251-c100e6205c4d"
      },
      "outputs": [
        {
          "output_type": "stream",
          "name": "stdout",
          "text": [
            "42786\n"
          ]
        }
      ],
      "source": [
        "!curl -s https://ddc-datascience.s3.amazonaws.com/Projects/Project.5-NLP/Data/NLP.csv | wc -l"
      ]
    },
    {
      "cell_type": "markdown",
      "metadata": {
        "id": "Jn1P46O0hUoN"
      },
      "source": [
        "#Data collection"
      ]
    },
    {
      "cell_type": "markdown",
      "source": [
        "URL= https://ddc-datascience.s3.amazonaws.com/Projects/Project.5-NLP/Data/NLP.csv"
      ],
      "metadata": {
        "id": "GTy7vEwZb-Ka"
      }
    },
    {
      "cell_type": "markdown",
      "metadata": {
        "id": "9p7aKayQhYOV"
      },
      "source": [
        "#**import**"
      ]
    },
    {
      "cell_type": "code",
      "execution_count": 3,
      "metadata": {
        "id": "T5M6vsdRhBd_"
      },
      "outputs": [],
      "source": [
        "%%capture\n",
        "!python -m textblob.download_corpora"
      ]
    },
    {
      "cell_type": "code",
      "execution_count": 4,
      "metadata": {
        "id": "WoHENGENRSNT"
      },
      "outputs": [],
      "source": [
        "%%capture\n",
        "!pip install -U textblob"
      ]
    },
    {
      "cell_type": "code",
      "execution_count": 5,
      "metadata": {
        "id": "oDsygSoShBap"
      },
      "outputs": [],
      "source": [
        "%%capture output\n",
        "!pip install wikipedia-api\n",
        "!install Wikipedia API\n",
        "!pip3 install wikipedia-api\n",
        "!pip install wikipedia-api requests textblob"
      ]
    },
    {
      "cell_type": "code",
      "execution_count": 6,
      "metadata": {
        "id": "gLh8_0RIhBXN"
      },
      "outputs": [],
      "source": [
        "import pandas as pd\n",
        "import numpy as np\n",
        "import matplotlib.pyplot as plt\n",
        "import seaborn as sns\n",
        "import wikipediaapi\n",
        "from textblob import TextBlob\n",
        "from textblob import TextBlob\n",
        "from sklearn.feature_extraction.text import CountVectorizer\n",
        "from sklearn.feature_extraction.text import TfidfVectorizer\n",
        "from sklearn.feature_extraction.text import TfidfTransformer\n",
        "from sklearn.metrics.pairwise import cosine_similarity\n",
        "\n",
        "import numpy as np\n",
        "import pandas as pd\n",
        "from sklearn.datasets import make_blobs\n",
        "from sklearn.cluster import KMeans, DBSCAN\n",
        "import matplotlib.pyplot as plt\n",
        "from sklearn.preprocessing import StandardScaler\n",
        "\n",
        "pd.options.display.max_columns = 100"
      ]
    },
    {
      "cell_type": "code",
      "execution_count": 7,
      "metadata": {
        "colab": {
          "base_uri": "https://localhost:8080/",
          "height": 206
        },
        "id": "qqnZKV2bhBUg",
        "outputId": "74232131-fd55-45a1-ac10-8b09c865da65"
      },
      "outputs": [
        {
          "output_type": "execute_result",
          "data": {
            "text/plain": [
              "                                                 URI                 name  \\\n",
              "0        <http://dbpedia.org/resource/Digby_Morrell>        Digby Morrell   \n",
              "1       <http://dbpedia.org/resource/Alfred_J._Lewy>       Alfred J. Lewy   \n",
              "2        <http://dbpedia.org/resource/Harpdog_Brown>        Harpdog Brown   \n",
              "3  <http://dbpedia.org/resource/Franz_Rottensteiner>  Franz Rottensteiner   \n",
              "4               <http://dbpedia.org/resource/G-Enka>               G-Enka   \n",
              "\n",
              "                                                text  \n",
              "0  digby morrell born 10 october 1979 is a former...  \n",
              "1  alfred j lewy aka sandy lewy graduated from un...  \n",
              "2  harpdog brown is a singer and harmonica player...  \n",
              "3  franz rottensteiner born in waidmannsfeld lowe...  \n",
              "4  henry krvits born 30 december 1974 in tallinn ...  "
            ],
            "text/html": [
              "\n",
              "  <div id=\"df-0efd522e-d22d-4c21-9009-736667dfa24e\" class=\"colab-df-container\">\n",
              "    <div>\n",
              "<style scoped>\n",
              "    .dataframe tbody tr th:only-of-type {\n",
              "        vertical-align: middle;\n",
              "    }\n",
              "\n",
              "    .dataframe tbody tr th {\n",
              "        vertical-align: top;\n",
              "    }\n",
              "\n",
              "    .dataframe thead th {\n",
              "        text-align: right;\n",
              "    }\n",
              "</style>\n",
              "<table border=\"1\" class=\"dataframe\">\n",
              "  <thead>\n",
              "    <tr style=\"text-align: right;\">\n",
              "      <th></th>\n",
              "      <th>URI</th>\n",
              "      <th>name</th>\n",
              "      <th>text</th>\n",
              "    </tr>\n",
              "  </thead>\n",
              "  <tbody>\n",
              "    <tr>\n",
              "      <th>0</th>\n",
              "      <td>&lt;http://dbpedia.org/resource/Digby_Morrell&gt;</td>\n",
              "      <td>Digby Morrell</td>\n",
              "      <td>digby morrell born 10 october 1979 is a former...</td>\n",
              "    </tr>\n",
              "    <tr>\n",
              "      <th>1</th>\n",
              "      <td>&lt;http://dbpedia.org/resource/Alfred_J._Lewy&gt;</td>\n",
              "      <td>Alfred J. Lewy</td>\n",
              "      <td>alfred j lewy aka sandy lewy graduated from un...</td>\n",
              "    </tr>\n",
              "    <tr>\n",
              "      <th>2</th>\n",
              "      <td>&lt;http://dbpedia.org/resource/Harpdog_Brown&gt;</td>\n",
              "      <td>Harpdog Brown</td>\n",
              "      <td>harpdog brown is a singer and harmonica player...</td>\n",
              "    </tr>\n",
              "    <tr>\n",
              "      <th>3</th>\n",
              "      <td>&lt;http://dbpedia.org/resource/Franz_Rottensteiner&gt;</td>\n",
              "      <td>Franz Rottensteiner</td>\n",
              "      <td>franz rottensteiner born in waidmannsfeld lowe...</td>\n",
              "    </tr>\n",
              "    <tr>\n",
              "      <th>4</th>\n",
              "      <td>&lt;http://dbpedia.org/resource/G-Enka&gt;</td>\n",
              "      <td>G-Enka</td>\n",
              "      <td>henry krvits born 30 december 1974 in tallinn ...</td>\n",
              "    </tr>\n",
              "  </tbody>\n",
              "</table>\n",
              "</div>\n",
              "    <div class=\"colab-df-buttons\">\n",
              "\n",
              "  <div class=\"colab-df-container\">\n",
              "    <button class=\"colab-df-convert\" onclick=\"convertToInteractive('df-0efd522e-d22d-4c21-9009-736667dfa24e')\"\n",
              "            title=\"Convert this dataframe to an interactive table.\"\n",
              "            style=\"display:none;\">\n",
              "\n",
              "  <svg xmlns=\"http://www.w3.org/2000/svg\" height=\"24px\" viewBox=\"0 -960 960 960\">\n",
              "    <path d=\"M120-120v-720h720v720H120Zm60-500h600v-160H180v160Zm220 220h160v-160H400v160Zm0 220h160v-160H400v160ZM180-400h160v-160H180v160Zm440 0h160v-160H620v160ZM180-180h160v-160H180v160Zm440 0h160v-160H620v160Z\"/>\n",
              "  </svg>\n",
              "    </button>\n",
              "\n",
              "  <style>\n",
              "    .colab-df-container {\n",
              "      display:flex;\n",
              "      gap: 12px;\n",
              "    }\n",
              "\n",
              "    .colab-df-convert {\n",
              "      background-color: #E8F0FE;\n",
              "      border: none;\n",
              "      border-radius: 50%;\n",
              "      cursor: pointer;\n",
              "      display: none;\n",
              "      fill: #1967D2;\n",
              "      height: 32px;\n",
              "      padding: 0 0 0 0;\n",
              "      width: 32px;\n",
              "    }\n",
              "\n",
              "    .colab-df-convert:hover {\n",
              "      background-color: #E2EBFA;\n",
              "      box-shadow: 0px 1px 2px rgba(60, 64, 67, 0.3), 0px 1px 3px 1px rgba(60, 64, 67, 0.15);\n",
              "      fill: #174EA6;\n",
              "    }\n",
              "\n",
              "    .colab-df-buttons div {\n",
              "      margin-bottom: 4px;\n",
              "    }\n",
              "\n",
              "    [theme=dark] .colab-df-convert {\n",
              "      background-color: #3B4455;\n",
              "      fill: #D2E3FC;\n",
              "    }\n",
              "\n",
              "    [theme=dark] .colab-df-convert:hover {\n",
              "      background-color: #434B5C;\n",
              "      box-shadow: 0px 1px 3px 1px rgba(0, 0, 0, 0.15);\n",
              "      filter: drop-shadow(0px 1px 2px rgba(0, 0, 0, 0.3));\n",
              "      fill: #FFFFFF;\n",
              "    }\n",
              "  </style>\n",
              "\n",
              "    <script>\n",
              "      const buttonEl =\n",
              "        document.querySelector('#df-0efd522e-d22d-4c21-9009-736667dfa24e button.colab-df-convert');\n",
              "      buttonEl.style.display =\n",
              "        google.colab.kernel.accessAllowed ? 'block' : 'none';\n",
              "\n",
              "      async function convertToInteractive(key) {\n",
              "        const element = document.querySelector('#df-0efd522e-d22d-4c21-9009-736667dfa24e');\n",
              "        const dataTable =\n",
              "          await google.colab.kernel.invokeFunction('convertToInteractive',\n",
              "                                                    [key], {});\n",
              "        if (!dataTable) return;\n",
              "\n",
              "        const docLinkHtml = 'Like what you see? Visit the ' +\n",
              "          '<a target=\"_blank\" href=https://colab.research.google.com/notebooks/data_table.ipynb>data table notebook</a>'\n",
              "          + ' to learn more about interactive tables.';\n",
              "        element.innerHTML = '';\n",
              "        dataTable['output_type'] = 'display_data';\n",
              "        await google.colab.output.renderOutput(dataTable, element);\n",
              "        const docLink = document.createElement('div');\n",
              "        docLink.innerHTML = docLinkHtml;\n",
              "        element.appendChild(docLink);\n",
              "      }\n",
              "    </script>\n",
              "  </div>\n",
              "\n",
              "\n",
              "<div id=\"df-b674eacc-a6e7-4203-96dd-405143be69ac\">\n",
              "  <button class=\"colab-df-quickchart\" onclick=\"quickchart('df-b674eacc-a6e7-4203-96dd-405143be69ac')\"\n",
              "            title=\"Suggest charts\"\n",
              "            style=\"display:none;\">\n",
              "\n",
              "<svg xmlns=\"http://www.w3.org/2000/svg\" height=\"24px\"viewBox=\"0 0 24 24\"\n",
              "     width=\"24px\">\n",
              "    <g>\n",
              "        <path d=\"M19 3H5c-1.1 0-2 .9-2 2v14c0 1.1.9 2 2 2h14c1.1 0 2-.9 2-2V5c0-1.1-.9-2-2-2zM9 17H7v-7h2v7zm4 0h-2V7h2v10zm4 0h-2v-4h2v4z\"/>\n",
              "    </g>\n",
              "</svg>\n",
              "  </button>\n",
              "\n",
              "<style>\n",
              "  .colab-df-quickchart {\n",
              "      --bg-color: #E8F0FE;\n",
              "      --fill-color: #1967D2;\n",
              "      --hover-bg-color: #E2EBFA;\n",
              "      --hover-fill-color: #174EA6;\n",
              "      --disabled-fill-color: #AAA;\n",
              "      --disabled-bg-color: #DDD;\n",
              "  }\n",
              "\n",
              "  [theme=dark] .colab-df-quickchart {\n",
              "      --bg-color: #3B4455;\n",
              "      --fill-color: #D2E3FC;\n",
              "      --hover-bg-color: #434B5C;\n",
              "      --hover-fill-color: #FFFFFF;\n",
              "      --disabled-bg-color: #3B4455;\n",
              "      --disabled-fill-color: #666;\n",
              "  }\n",
              "\n",
              "  .colab-df-quickchart {\n",
              "    background-color: var(--bg-color);\n",
              "    border: none;\n",
              "    border-radius: 50%;\n",
              "    cursor: pointer;\n",
              "    display: none;\n",
              "    fill: var(--fill-color);\n",
              "    height: 32px;\n",
              "    padding: 0;\n",
              "    width: 32px;\n",
              "  }\n",
              "\n",
              "  .colab-df-quickchart:hover {\n",
              "    background-color: var(--hover-bg-color);\n",
              "    box-shadow: 0 1px 2px rgba(60, 64, 67, 0.3), 0 1px 3px 1px rgba(60, 64, 67, 0.15);\n",
              "    fill: var(--button-hover-fill-color);\n",
              "  }\n",
              "\n",
              "  .colab-df-quickchart-complete:disabled,\n",
              "  .colab-df-quickchart-complete:disabled:hover {\n",
              "    background-color: var(--disabled-bg-color);\n",
              "    fill: var(--disabled-fill-color);\n",
              "    box-shadow: none;\n",
              "  }\n",
              "\n",
              "  .colab-df-spinner {\n",
              "    border: 2px solid var(--fill-color);\n",
              "    border-color: transparent;\n",
              "    border-bottom-color: var(--fill-color);\n",
              "    animation:\n",
              "      spin 1s steps(1) infinite;\n",
              "  }\n",
              "\n",
              "  @keyframes spin {\n",
              "    0% {\n",
              "      border-color: transparent;\n",
              "      border-bottom-color: var(--fill-color);\n",
              "      border-left-color: var(--fill-color);\n",
              "    }\n",
              "    20% {\n",
              "      border-color: transparent;\n",
              "      border-left-color: var(--fill-color);\n",
              "      border-top-color: var(--fill-color);\n",
              "    }\n",
              "    30% {\n",
              "      border-color: transparent;\n",
              "      border-left-color: var(--fill-color);\n",
              "      border-top-color: var(--fill-color);\n",
              "      border-right-color: var(--fill-color);\n",
              "    }\n",
              "    40% {\n",
              "      border-color: transparent;\n",
              "      border-right-color: var(--fill-color);\n",
              "      border-top-color: var(--fill-color);\n",
              "    }\n",
              "    60% {\n",
              "      border-color: transparent;\n",
              "      border-right-color: var(--fill-color);\n",
              "    }\n",
              "    80% {\n",
              "      border-color: transparent;\n",
              "      border-right-color: var(--fill-color);\n",
              "      border-bottom-color: var(--fill-color);\n",
              "    }\n",
              "    90% {\n",
              "      border-color: transparent;\n",
              "      border-bottom-color: var(--fill-color);\n",
              "    }\n",
              "  }\n",
              "</style>\n",
              "\n",
              "  <script>\n",
              "    async function quickchart(key) {\n",
              "      const quickchartButtonEl =\n",
              "        document.querySelector('#' + key + ' button');\n",
              "      quickchartButtonEl.disabled = true;  // To prevent multiple clicks.\n",
              "      quickchartButtonEl.classList.add('colab-df-spinner');\n",
              "      try {\n",
              "        const charts = await google.colab.kernel.invokeFunction(\n",
              "            'suggestCharts', [key], {});\n",
              "      } catch (error) {\n",
              "        console.error('Error during call to suggestCharts:', error);\n",
              "      }\n",
              "      quickchartButtonEl.classList.remove('colab-df-spinner');\n",
              "      quickchartButtonEl.classList.add('colab-df-quickchart-complete');\n",
              "    }\n",
              "    (() => {\n",
              "      let quickchartButtonEl =\n",
              "        document.querySelector('#df-b674eacc-a6e7-4203-96dd-405143be69ac button');\n",
              "      quickchartButtonEl.style.display =\n",
              "        google.colab.kernel.accessAllowed ? 'block' : 'none';\n",
              "    })();\n",
              "  </script>\n",
              "</div>\n",
              "\n",
              "    </div>\n",
              "  </div>\n"
            ],
            "application/vnd.google.colaboratory.intrinsic+json": {
              "type": "dataframe",
              "variable_name": "data",
              "summary": "{\n  \"name\": \"data\",\n  \"rows\": 42786,\n  \"fields\": [\n    {\n      \"column\": \"URI\",\n      \"properties\": {\n        \"dtype\": \"string\",\n        \"num_unique_values\": 42786,\n        \"samples\": [\n          \"<http://dbpedia.org/resource/Tom_Bancroft>\",\n          \"<http://dbpedia.org/resource/Bart_Zeller>\",\n          \"<http://dbpedia.org/resource/Caitlin_Morrall>\"\n        ],\n        \"semantic_type\": \"\",\n        \"description\": \"\"\n      }\n    },\n    {\n      \"column\": \"name\",\n      \"properties\": {\n        \"dtype\": \"string\",\n        \"num_unique_values\": 42785,\n        \"samples\": [\n          \"Tom Bancroft\",\n          \"James Holt (scholar)\",\n          \"Chen Tze-chung\"\n        ],\n        \"semantic_type\": \"\",\n        \"description\": \"\"\n      }\n    },\n    {\n      \"column\": \"text\",\n      \"properties\": {\n        \"dtype\": \"string\",\n        \"num_unique_values\": 42786,\n        \"samples\": [\n          \"tom bancroft born 1967 london is a british jazz drummer and composer he began drumming aged seven and started off playing jazz with his father and identical twin brother phil after studying medicine at cambridge university he spent a year studying composition and arranging at mcgill university in montreal canada qualifying as a doctor in 1992 he then worked as a jazz musician and composer supporting his music income with locum work as a hospital doctor until 1998 when he began starting music related companies he is married to singer gina rae and has two children sam and sophie in 2004 he received the creative scotland awardin 1998 he launched caber music with support from the national lottery fund which went on to release over thirty cds over the next seven years to critical acclaim including two bbc jazz awards for best cd and numerous album of the year placings he has subsequently started the company abc creative music with his twin brother phil bancroft which develops creative music education resources which are now being used in more than 500 schools in scotlandas a drummer he has studied with jo morello joey baron and andrew cyrille and played with many musicians including sun ra joakim milder charlie mariano hamiett bluiett liane carroll oliver lake george colligan david berkman tommy smith julian argelles emil vicklicky martin taylor sheila jordan shooglenifty karen mathieson reid anderson billy jenkins bill wells geri allen mr mcfalls chamber and martyn bennetthe is currently the drummer with the dave milligan trio the chick lyall trio and kevin mackenzies vital signs the laura macdonald quartet and octet and plays in an improvising duo with the italian guitarist enzo roccohe is drummer and coleader of trio aab whose first album cold fusion was named an album of 1999 by bbc radio 3 and whose second album wherever i lay my home thats my hat was an album of 2001 in the guardian and picked in a list of 100 essential all time jazz albums by mojo magazine in 2001 they also released stranger things happen at c in 2002 reactivated in 2011 trio aab performed at the delhi jazz festivalas a band leader and composer he has led orchestro interrupto formerly the tom bancroft orchestra a contemporary jazz big band producing the album pieology in 1998 many festival performances a uk tour and a live concert broadcast on bbc radio 3 in 2004 the band toured the uk with geri allen and the tour was broadcast on bbc radio 3 and received five star reviews in the guardian and the scotsman and was voted jazz gig of the year in manchesters city limits and londons time out magazines orchestri interrupto released a cd in 2009 of the music from the geri allen tour with chick lyall on piano entitled the ballad of linda crawford bancroft has also composed for smaller groups including the orange ear ensemble octet and kilt couture a collaboration with french group arfi in 2006 he launched the new tom bancroft 6 pack as well as a spinoff childrens focussed band from the orchestra called kidsamonium which premiered at the gateshead international jazz festival at the sage gateshead and also at the cheltenham jazz festival in 2006 and went on to perform all over europebancrofts compositions have been used in radio film dance television and theatre he has been commissioned by bbc scotland bbc radio 3 glasgow international jazz festival assembly direct birmingham jazz and the national youth jazz orchestra of scotland he has danced in played and composed music for life on the planets surface with kelsey michael and a case for a picnic pt2 tracing houdini and hoops hats acrobats with the choreographer ruby worthhe has led many large scale community and education projects including 150 primary school children performing at the london jazz festival 200 at perth concert hall with classical percussionist colin currie and 100 parents grandparents and children playing drums and percussion at the big stix project at the gateshead jazz festivalbancroft is an active teacher and educator from private drum students to teaching composition and leading big bands he is an apple distinguished educator he has always been active in setting up new ways to promote jazz and improvisation he curated a series of mini festivals for uk and european musicians inside the glasgow jazz festival in the 1990s called clandemonium and europhonium he was active in setting up the scottish jazz federationin 2010 he was musical director of major dance show off kilter which played in major venues across scotland toured scotland with the dave milligan trio and premiered the band of eden malefemale big band to critical acclaimin late 2010 in his role at abc creative music bancroft launched the website abc creative music online to allow scottish schools to teach creative music by smartboard\",\n          \"barton wallace zeller born july 22 1941 is a former professional baseball catcher he played one game in major league baseball in 1970 for the st louis cardinals he recently served as manager of the joliet slammers of the frontier league but was released on september 10 2012zeller was signed by the cardinals in 1963 and spent four years in the cardinals farm system after missing the 1967 season he spent 1968 and 1969 with the lewiston broncs and arkansas travelers respectively zeller played in his only major league game on may 21 1970 against the philadelphia phillies he was inserted to catch the bottom of the ninth inning zeller never had a plate appearance but was credited with one put out on billy mccools strikeout of jim hutto zeller batted and threw righthanded his jersey number was 29 at the time of play he was 6 ft 1 in tall and weighed 185 lbzeller was released as an active player by the cardinals on june 8 but stayed on as a coach for the balance of the 1970 season he played in the minors in 1971 in the milwaukee brewers and new york yankees organizationszeller was the hitting coachthird base coach for the southern illinois miners of the frontier league an independent baseball league zeller began working for the miners in their inaugural 2007 season before coming to the miners zeller spent two seasons with the sioux falls canaries as a bench coach zeller was named as the first manager of slammers in january 2011zeller is currently managing the washington wild things of the frontier league\",\n          \"caitlin shea morrall machol born may 2 1983 is a beauty queen from burlington wisconsin who competed in the 2008 miss usa pageantmorrall who had previously competed in the miss wisconsin america system won the miss wisconsin usa 2007 title in the state pageant held at richland center on 2 september 2006 she competed in the nationally televised miss usa 2007 pageant which was broadcast live from the kodak theatre in hollywood california on march 23 2007 where she placed in top 15 this was the best finish by a contestant from wisconsin in 28 yearsin june 2006 morrall placed first runnerup in the miss wisconsin competition where she competed as miss burlington area chocolatefest she had previously placed 3rd runnerup in 2004 1st runnerup in 2003 and 2nd runnerup in 2002 morrall has held other local titles such as miss racine in 2002 miss milwaukee in 2003 and miss southern wisconsin in 2004 despite being eligible to compete in the miss america system for one more year morrall made the decision to compete in the miss wisconsin usa pageant one week before applications for the pageant closedmorrall is a 2001 graduate of burlington high school wisconsin and is a 2008 graduate of alverno college in milwaukee with a bachelor of arts degree in professional communicationcaitlin is currently the traffic reporter in the morning for wtmjtv 4\"\n        ],\n        \"semantic_type\": \"\",\n        \"description\": \"\"\n      }\n    }\n  ]\n}"
            }
          },
          "metadata": {},
          "execution_count": 7
        }
      ],
      "source": [
        "# Load the CSV file\n",
        "url = \"https://ddc-datascience.s3.amazonaws.com/Projects/Project.5-NLP/Data/NLP.csv\"\n",
        "df = data = pd.read_csv(url)\n",
        "\n",
        "# Preview the data\n",
        "data.head()"
      ]
    },
    {
      "cell_type": "markdown",
      "source": [
        "###*Part 2*"
      ],
      "metadata": {
        "id": "q6jw9N5x9UIb"
      }
    },
    {
      "cell_type": "markdown",
      "metadata": {
        "id": "27j1RR9ck0D3"
      },
      "source": [
        "#**Data cleaning**\n"
      ]
    },
    {
      "cell_type": "code",
      "execution_count": 8,
      "metadata": {
        "colab": {
          "base_uri": "https://localhost:8080/"
        },
        "id": "Kverl282g98d",
        "outputId": "d8b281d5-37fc-4361-f80d-356963f94427"
      },
      "outputs": [
        {
          "output_type": "execute_result",
          "data": {
            "text/plain": [
              "(42786, 3)"
            ]
          },
          "metadata": {},
          "execution_count": 8
        }
      ],
      "source": [
        "data.shape"
      ]
    },
    {
      "cell_type": "code",
      "execution_count": 9,
      "metadata": {
        "colab": {
          "base_uri": "https://localhost:8080/",
          "height": 143
        },
        "id": "5fbxH61pg93P",
        "outputId": "3679283c-38b1-4e14-8e93-92f482d980c1"
      },
      "outputs": [
        {
          "output_type": "execute_result",
          "data": {
            "text/plain": [
              "      count unique                                                top freq\n",
              "URI   42786  42786        <http://dbpedia.org/resource/Digby_Morrell>    1\n",
              "name  42786  42785                                            author)    2\n",
              "text  42786  42786  digby morrell born 10 october 1979 is a former...    1"
            ],
            "text/html": [
              "\n",
              "  <div id=\"df-7b62ddfa-95d2-44a4-b76d-46350dcde867\" class=\"colab-df-container\">\n",
              "    <div>\n",
              "<style scoped>\n",
              "    .dataframe tbody tr th:only-of-type {\n",
              "        vertical-align: middle;\n",
              "    }\n",
              "\n",
              "    .dataframe tbody tr th {\n",
              "        vertical-align: top;\n",
              "    }\n",
              "\n",
              "    .dataframe thead th {\n",
              "        text-align: right;\n",
              "    }\n",
              "</style>\n",
              "<table border=\"1\" class=\"dataframe\">\n",
              "  <thead>\n",
              "    <tr style=\"text-align: right;\">\n",
              "      <th></th>\n",
              "      <th>count</th>\n",
              "      <th>unique</th>\n",
              "      <th>top</th>\n",
              "      <th>freq</th>\n",
              "    </tr>\n",
              "  </thead>\n",
              "  <tbody>\n",
              "    <tr>\n",
              "      <th>URI</th>\n",
              "      <td>42786</td>\n",
              "      <td>42786</td>\n",
              "      <td>&lt;http://dbpedia.org/resource/Digby_Morrell&gt;</td>\n",
              "      <td>1</td>\n",
              "    </tr>\n",
              "    <tr>\n",
              "      <th>name</th>\n",
              "      <td>42786</td>\n",
              "      <td>42785</td>\n",
              "      <td>author)</td>\n",
              "      <td>2</td>\n",
              "    </tr>\n",
              "    <tr>\n",
              "      <th>text</th>\n",
              "      <td>42786</td>\n",
              "      <td>42786</td>\n",
              "      <td>digby morrell born 10 october 1979 is a former...</td>\n",
              "      <td>1</td>\n",
              "    </tr>\n",
              "  </tbody>\n",
              "</table>\n",
              "</div>\n",
              "    <div class=\"colab-df-buttons\">\n",
              "\n",
              "  <div class=\"colab-df-container\">\n",
              "    <button class=\"colab-df-convert\" onclick=\"convertToInteractive('df-7b62ddfa-95d2-44a4-b76d-46350dcde867')\"\n",
              "            title=\"Convert this dataframe to an interactive table.\"\n",
              "            style=\"display:none;\">\n",
              "\n",
              "  <svg xmlns=\"http://www.w3.org/2000/svg\" height=\"24px\" viewBox=\"0 -960 960 960\">\n",
              "    <path d=\"M120-120v-720h720v720H120Zm60-500h600v-160H180v160Zm220 220h160v-160H400v160Zm0 220h160v-160H400v160ZM180-400h160v-160H180v160Zm440 0h160v-160H620v160ZM180-180h160v-160H180v160Zm440 0h160v-160H620v160Z\"/>\n",
              "  </svg>\n",
              "    </button>\n",
              "\n",
              "  <style>\n",
              "    .colab-df-container {\n",
              "      display:flex;\n",
              "      gap: 12px;\n",
              "    }\n",
              "\n",
              "    .colab-df-convert {\n",
              "      background-color: #E8F0FE;\n",
              "      border: none;\n",
              "      border-radius: 50%;\n",
              "      cursor: pointer;\n",
              "      display: none;\n",
              "      fill: #1967D2;\n",
              "      height: 32px;\n",
              "      padding: 0 0 0 0;\n",
              "      width: 32px;\n",
              "    }\n",
              "\n",
              "    .colab-df-convert:hover {\n",
              "      background-color: #E2EBFA;\n",
              "      box-shadow: 0px 1px 2px rgba(60, 64, 67, 0.3), 0px 1px 3px 1px rgba(60, 64, 67, 0.15);\n",
              "      fill: #174EA6;\n",
              "    }\n",
              "\n",
              "    .colab-df-buttons div {\n",
              "      margin-bottom: 4px;\n",
              "    }\n",
              "\n",
              "    [theme=dark] .colab-df-convert {\n",
              "      background-color: #3B4455;\n",
              "      fill: #D2E3FC;\n",
              "    }\n",
              "\n",
              "    [theme=dark] .colab-df-convert:hover {\n",
              "      background-color: #434B5C;\n",
              "      box-shadow: 0px 1px 3px 1px rgba(0, 0, 0, 0.15);\n",
              "      filter: drop-shadow(0px 1px 2px rgba(0, 0, 0, 0.3));\n",
              "      fill: #FFFFFF;\n",
              "    }\n",
              "  </style>\n",
              "\n",
              "    <script>\n",
              "      const buttonEl =\n",
              "        document.querySelector('#df-7b62ddfa-95d2-44a4-b76d-46350dcde867 button.colab-df-convert');\n",
              "      buttonEl.style.display =\n",
              "        google.colab.kernel.accessAllowed ? 'block' : 'none';\n",
              "\n",
              "      async function convertToInteractive(key) {\n",
              "        const element = document.querySelector('#df-7b62ddfa-95d2-44a4-b76d-46350dcde867');\n",
              "        const dataTable =\n",
              "          await google.colab.kernel.invokeFunction('convertToInteractive',\n",
              "                                                    [key], {});\n",
              "        if (!dataTable) return;\n",
              "\n",
              "        const docLinkHtml = 'Like what you see? Visit the ' +\n",
              "          '<a target=\"_blank\" href=https://colab.research.google.com/notebooks/data_table.ipynb>data table notebook</a>'\n",
              "          + ' to learn more about interactive tables.';\n",
              "        element.innerHTML = '';\n",
              "        dataTable['output_type'] = 'display_data';\n",
              "        await google.colab.output.renderOutput(dataTable, element);\n",
              "        const docLink = document.createElement('div');\n",
              "        docLink.innerHTML = docLinkHtml;\n",
              "        element.appendChild(docLink);\n",
              "      }\n",
              "    </script>\n",
              "  </div>\n",
              "\n",
              "\n",
              "<div id=\"df-299eb454-4be2-418f-8387-56456fb897df\">\n",
              "  <button class=\"colab-df-quickchart\" onclick=\"quickchart('df-299eb454-4be2-418f-8387-56456fb897df')\"\n",
              "            title=\"Suggest charts\"\n",
              "            style=\"display:none;\">\n",
              "\n",
              "<svg xmlns=\"http://www.w3.org/2000/svg\" height=\"24px\"viewBox=\"0 0 24 24\"\n",
              "     width=\"24px\">\n",
              "    <g>\n",
              "        <path d=\"M19 3H5c-1.1 0-2 .9-2 2v14c0 1.1.9 2 2 2h14c1.1 0 2-.9 2-2V5c0-1.1-.9-2-2-2zM9 17H7v-7h2v7zm4 0h-2V7h2v10zm4 0h-2v-4h2v4z\"/>\n",
              "    </g>\n",
              "</svg>\n",
              "  </button>\n",
              "\n",
              "<style>\n",
              "  .colab-df-quickchart {\n",
              "      --bg-color: #E8F0FE;\n",
              "      --fill-color: #1967D2;\n",
              "      --hover-bg-color: #E2EBFA;\n",
              "      --hover-fill-color: #174EA6;\n",
              "      --disabled-fill-color: #AAA;\n",
              "      --disabled-bg-color: #DDD;\n",
              "  }\n",
              "\n",
              "  [theme=dark] .colab-df-quickchart {\n",
              "      --bg-color: #3B4455;\n",
              "      --fill-color: #D2E3FC;\n",
              "      --hover-bg-color: #434B5C;\n",
              "      --hover-fill-color: #FFFFFF;\n",
              "      --disabled-bg-color: #3B4455;\n",
              "      --disabled-fill-color: #666;\n",
              "  }\n",
              "\n",
              "  .colab-df-quickchart {\n",
              "    background-color: var(--bg-color);\n",
              "    border: none;\n",
              "    border-radius: 50%;\n",
              "    cursor: pointer;\n",
              "    display: none;\n",
              "    fill: var(--fill-color);\n",
              "    height: 32px;\n",
              "    padding: 0;\n",
              "    width: 32px;\n",
              "  }\n",
              "\n",
              "  .colab-df-quickchart:hover {\n",
              "    background-color: var(--hover-bg-color);\n",
              "    box-shadow: 0 1px 2px rgba(60, 64, 67, 0.3), 0 1px 3px 1px rgba(60, 64, 67, 0.15);\n",
              "    fill: var(--button-hover-fill-color);\n",
              "  }\n",
              "\n",
              "  .colab-df-quickchart-complete:disabled,\n",
              "  .colab-df-quickchart-complete:disabled:hover {\n",
              "    background-color: var(--disabled-bg-color);\n",
              "    fill: var(--disabled-fill-color);\n",
              "    box-shadow: none;\n",
              "  }\n",
              "\n",
              "  .colab-df-spinner {\n",
              "    border: 2px solid var(--fill-color);\n",
              "    border-color: transparent;\n",
              "    border-bottom-color: var(--fill-color);\n",
              "    animation:\n",
              "      spin 1s steps(1) infinite;\n",
              "  }\n",
              "\n",
              "  @keyframes spin {\n",
              "    0% {\n",
              "      border-color: transparent;\n",
              "      border-bottom-color: var(--fill-color);\n",
              "      border-left-color: var(--fill-color);\n",
              "    }\n",
              "    20% {\n",
              "      border-color: transparent;\n",
              "      border-left-color: var(--fill-color);\n",
              "      border-top-color: var(--fill-color);\n",
              "    }\n",
              "    30% {\n",
              "      border-color: transparent;\n",
              "      border-left-color: var(--fill-color);\n",
              "      border-top-color: var(--fill-color);\n",
              "      border-right-color: var(--fill-color);\n",
              "    }\n",
              "    40% {\n",
              "      border-color: transparent;\n",
              "      border-right-color: var(--fill-color);\n",
              "      border-top-color: var(--fill-color);\n",
              "    }\n",
              "    60% {\n",
              "      border-color: transparent;\n",
              "      border-right-color: var(--fill-color);\n",
              "    }\n",
              "    80% {\n",
              "      border-color: transparent;\n",
              "      border-right-color: var(--fill-color);\n",
              "      border-bottom-color: var(--fill-color);\n",
              "    }\n",
              "    90% {\n",
              "      border-color: transparent;\n",
              "      border-bottom-color: var(--fill-color);\n",
              "    }\n",
              "  }\n",
              "</style>\n",
              "\n",
              "  <script>\n",
              "    async function quickchart(key) {\n",
              "      const quickchartButtonEl =\n",
              "        document.querySelector('#' + key + ' button');\n",
              "      quickchartButtonEl.disabled = true;  // To prevent multiple clicks.\n",
              "      quickchartButtonEl.classList.add('colab-df-spinner');\n",
              "      try {\n",
              "        const charts = await google.colab.kernel.invokeFunction(\n",
              "            'suggestCharts', [key], {});\n",
              "      } catch (error) {\n",
              "        console.error('Error during call to suggestCharts:', error);\n",
              "      }\n",
              "      quickchartButtonEl.classList.remove('colab-df-spinner');\n",
              "      quickchartButtonEl.classList.add('colab-df-quickchart-complete');\n",
              "    }\n",
              "    (() => {\n",
              "      let quickchartButtonEl =\n",
              "        document.querySelector('#df-299eb454-4be2-418f-8387-56456fb897df button');\n",
              "      quickchartButtonEl.style.display =\n",
              "        google.colab.kernel.accessAllowed ? 'block' : 'none';\n",
              "    })();\n",
              "  </script>\n",
              "</div>\n",
              "\n",
              "    </div>\n",
              "  </div>\n"
            ],
            "application/vnd.google.colaboratory.intrinsic+json": {
              "type": "dataframe",
              "summary": "{\n  \"name\": \"data\",\n  \"rows\": 3,\n  \"fields\": [\n    {\n      \"column\": \"count\",\n      \"properties\": {\n        \"dtype\": \"date\",\n        \"min\": \"42786\",\n        \"max\": \"42786\",\n        \"num_unique_values\": 1,\n        \"samples\": [\n          \"42786\"\n        ],\n        \"semantic_type\": \"\",\n        \"description\": \"\"\n      }\n    },\n    {\n      \"column\": \"unique\",\n      \"properties\": {\n        \"dtype\": \"date\",\n        \"min\": 42785,\n        \"max\": 42786,\n        \"num_unique_values\": 2,\n        \"samples\": [\n          42785\n        ],\n        \"semantic_type\": \"\",\n        \"description\": \"\"\n      }\n    },\n    {\n      \"column\": \"top\",\n      \"properties\": {\n        \"dtype\": \"string\",\n        \"num_unique_values\": 3,\n        \"samples\": [\n          \"<http://dbpedia.org/resource/Digby_Morrell>\"\n        ],\n        \"semantic_type\": \"\",\n        \"description\": \"\"\n      }\n    },\n    {\n      \"column\": \"freq\",\n      \"properties\": {\n        \"dtype\": \"date\",\n        \"min\": \"1\",\n        \"max\": \"2\",\n        \"num_unique_values\": 2,\n        \"samples\": [\n          \"2\"\n        ],\n        \"semantic_type\": \"\",\n        \"description\": \"\"\n      }\n    }\n  ]\n}"
            }
          },
          "metadata": {},
          "execution_count": 9
        }
      ],
      "source": [
        "data.describe().transpose()"
      ]
    },
    {
      "cell_type": "code",
      "execution_count": 10,
      "metadata": {
        "colab": {
          "base_uri": "https://localhost:8080/"
        },
        "id": "PhnWuNNWg9zs",
        "outputId": "c9a86173-a9d8-44b7-f81f-29e05cb837a6"
      },
      "outputs": [
        {
          "output_type": "stream",
          "name": "stdout",
          "text": [
            "<class 'pandas.core.frame.DataFrame'>\n",
            "RangeIndex: 42786 entries, 0 to 42785\n",
            "Data columns (total 3 columns):\n",
            " #   Column  Non-Null Count  Dtype \n",
            "---  ------  --------------  ----- \n",
            " 0   URI     42786 non-null  object\n",
            " 1   name    42786 non-null  object\n",
            " 2   text    42786 non-null  object\n",
            "dtypes: object(3)\n",
            "memory usage: 1002.9+ KB\n"
          ]
        }
      ],
      "source": [
        "df.info()"
      ]
    },
    {
      "cell_type": "code",
      "execution_count": 11,
      "metadata": {
        "colab": {
          "base_uri": "https://localhost:8080/"
        },
        "id": "LIwQ9SgZg9w5",
        "outputId": "41b401fb-e203-413e-e3a9-448c2f0c506e"
      },
      "outputs": [
        {
          "output_type": "execute_result",
          "data": {
            "text/plain": [
              "Index(['URI', 'name', 'text'], dtype='object')"
            ]
          },
          "metadata": {},
          "execution_count": 11
        }
      ],
      "source": [
        "df.columns"
      ]
    },
    {
      "cell_type": "code",
      "execution_count": 12,
      "metadata": {
        "colab": {
          "base_uri": "https://localhost:8080/"
        },
        "id": "J7B0o-mlg9h_",
        "outputId": "c6d24995-7d53-47b6-8478-bd055d45fb0b"
      },
      "outputs": [
        {
          "output_type": "stream",
          "name": "stdout",
          "text": [
            "Sentiment of the first entry: Sentiment(polarity=-0.041666666666666664, subjectivity=0.17896825396825394)\n"
          ]
        }
      ],
      "source": [
        "# Calculate sentiment for the first row in the 'text' column\n",
        "sentiment_clean = TextBlob(df['text'].iloc[0]).sentiment\n",
        "print(\"Sentiment of the first entry:\", sentiment_clean)\n"
      ]
    },
    {
      "cell_type": "code",
      "execution_count": 13,
      "metadata": {
        "colab": {
          "base_uri": "https://localhost:8080/",
          "height": 139
        },
        "id": "jpf7lNOgg9rk",
        "outputId": "852d54ea-a597-4b8a-c2aa-f4a776e61caf"
      },
      "outputs": [
        {
          "output_type": "execute_result",
          "data": {
            "text/plain": [
              "'digby morrell born 10 october 1979 is a former australian rules footballer who played with the kangaroos and carlton in the australian football league aflfrom western australia morrell played his early senior football for west perth his 44game senior career for the falcons spanned 19982000 and he was the clubs leading goalkicker in 2000 at the age of 21 morrell was recruited to the australian football league by the kangaroos football club with its third round selection in the 2001 afl rookie draft as a forward he twice kicked five goals during his time with the kangaroos the first was in a losing cause against sydney in 2002 and the other the following season in a drawn game against brisbaneafter the 2003 season morrell was traded along with david teague to the carlton football club in exchange for corey mckernan he played 32 games for the blues before being delisted at the end of 2005 he continued to play victorian football league vfl football with the northern bullants carltons vflaffiliate in 2006 and acted as playing assistant coach in 2007 in 2008 he shifted to the box hill hawks before retiring from playing at the end of the season from 2009 until 2013 morrell was the senior coach of the strathmore football club in the essendon district football league leading the club to the 2011 premier division premiership since 2014 he has coached the west coburg football club also in the edflhe currently teaches physical education at parade college in melbourne'"
            ],
            "application/vnd.google.colaboratory.intrinsic+json": {
              "type": "string"
            }
          },
          "metadata": {},
          "execution_count": 13
        }
      ],
      "source": [
        "df['text'].iloc[0]"
      ]
    },
    {
      "cell_type": "markdown",
      "metadata": {
        "id": "23NMRp9SAhpp"
      },
      "source": [
        "## Bag of Words Using CountVectorizer"
      ]
    },
    {
      "cell_type": "code",
      "execution_count": 14,
      "metadata": {
        "id": "bedxdshyg6XP"
      },
      "outputs": [],
      "source": [
        "from sklearn.feature_extraction.text import CountVectorizer\n",
        "\n",
        "# Define the text data from the 'text' column as a list of sentences\n",
        "sentences = df['text'].tolist()\n",
        "\n",
        "# Initialize the CountVectorizer\n",
        "vectorizer = CountVectorizer(stop_words='english')\n",
        "\n",
        "# Fit and transform the text data\n",
        "bow_matrix = vectorizer.fit_transform(sentences)\n",
        "\n"
      ]
    },
    {
      "cell_type": "code",
      "execution_count": 15,
      "metadata": {
        "colab": {
          "base_uri": "https://localhost:8080/"
        },
        "id": "iTYl7GHsK4zk",
        "outputId": "8878f9c0-f90f-4995-a5e9-48ea9f221022"
      },
      "outputs": [
        {
          "output_type": "execute_result",
          "data": {
            "text/plain": [
              "(scipy.sparse._csr.csr_matrix, (42786, 437190))"
            ]
          },
          "metadata": {},
          "execution_count": 15
        }
      ],
      "source": [
        "type(bow_matrix), bow_matrix.shape"
      ]
    },
    {
      "cell_type": "markdown",
      "metadata": {
        "id": "fRZk0lBUAKyx"
      },
      "source": [
        "##*TF-IDF*"
      ]
    },
    {
      "cell_type": "code",
      "execution_count": 16,
      "metadata": {
        "id": "Bp6U0A4SKzwQ"
      },
      "outputs": [],
      "source": [
        "from sklearn.feature_extraction.text import TfidfTransformer\n",
        "\n",
        "# Initialize the TfidfTransformer\n",
        "tf_idf_transformer = TfidfTransformer()\n",
        "\n",
        "# Fit and transform the bag-of-words matrix into a TF-IDF representation\n",
        "tf_idf_matrix = tf_idf_transformer.fit_transform(bow_matrix)\n",
        "\n"
      ]
    },
    {
      "cell_type": "code",
      "execution_count": 17,
      "metadata": {
        "id": "U-Mr3YkWg6ES"
      },
      "outputs": [],
      "source": [
        "tf_idf_matrix = TfidfTransformer()\n",
        "tf_idf_jen = tf_idf_matrix.fit_transform(bow_matrix)\n",
        "\n"
      ]
    },
    {
      "cell_type": "code",
      "execution_count": 18,
      "metadata": {
        "colab": {
          "base_uri": "https://localhost:8080/"
        },
        "id": "yHBJAbrGviBT",
        "outputId": "1d618b92-36b9-4ba4-ad5b-80d4f57f104f"
      },
      "outputs": [
        {
          "output_type": "execute_result",
          "data": {
            "text/plain": [
              "(scipy.sparse._csr.csr_matrix, (42786, 437190))"
            ]
          },
          "metadata": {},
          "execution_count": 18
        }
      ],
      "source": [
        "type(tf_idf_jen), tf_idf_jen.shape"
      ]
    },
    {
      "cell_type": "code",
      "source": [
        "from sklearn.neighbors import NearestNeighbors"
      ],
      "metadata": {
        "id": "aXDKKH_iGZCI"
      },
      "execution_count": 19,
      "outputs": []
    },
    {
      "cell_type": "code",
      "source": [
        "nn = NearestNeighbors().fit(tf_idf_jen)"
      ],
      "metadata": {
        "id": "FE9sRv9YF7H6"
      },
      "execution_count": 20,
      "outputs": []
    },
    {
      "cell_type": "code",
      "source": [
        "distances, indices = nn.kneighbors(\n",
        "  X = (tf_idf_jen)[0],\n",
        "  n_neighbors = 11,\n",
        ")\n"
      ],
      "metadata": {
        "id": "EpBQTU2OF7CD"
      },
      "execution_count": 21,
      "outputs": []
    },
    {
      "cell_type": "code",
      "source": [
        "distances"
      ],
      "metadata": {
        "colab": {
          "base_uri": "https://localhost:8080/"
        },
        "id": "w_N5VVYVF6-l",
        "outputId": "d51c2f36-ce7e-443f-be27-67998bff471f"
      },
      "execution_count": 22,
      "outputs": [
        {
          "output_type": "execute_result",
          "data": {
            "text/plain": [
              "array([[0.        , 1.07588614, 1.12889664, 1.14026221, 1.147429  ,\n",
              "        1.14981651, 1.15999986, 1.1624804 , 1.16419303, 1.16500113,\n",
              "        1.16557707]])"
            ]
          },
          "metadata": {},
          "execution_count": 22
        }
      ]
    },
    {
      "cell_type": "code",
      "source": [
        "indices"
      ],
      "metadata": {
        "colab": {
          "base_uri": "https://localhost:8080/"
        },
        "id": "dJbCENs_F67S",
        "outputId": "dfc2d938-c52d-47e5-d99e-f0c21a7655c2"
      },
      "execution_count": 23,
      "outputs": [
        {
          "output_type": "execute_result",
          "data": {
            "text/plain": [
              "array([[    0, 32466, 36591,  1347, 31705, 28169, 22390, 22123, 27556,\n",
              "         6126, 21352]])"
            ]
          },
          "metadata": {},
          "execution_count": 23
        }
      ]
    },
    {
      "cell_type": "code",
      "source": [
        "df.iloc[indices[0]]"
      ],
      "metadata": {
        "colab": {
          "base_uri": "https://localhost:8080/",
          "height": 394
        },
        "id": "bkNw8wJAF63-",
        "outputId": "5f4cdcc9-7762-42e6-de74-14a34332e30b"
      },
      "execution_count": 24,
      "outputs": [
        {
          "output_type": "execute_result",
          "data": {
            "text/plain": [
              "                                                     URI  \\\n",
              "0            <http://dbpedia.org/resource/Digby_Morrell>   \n",
              "32466        <http://dbpedia.org/resource/Steven_Browne>   \n",
              "36591  <http://dbpedia.org/resource/Peter_Freeman_(fo...   \n",
              "1347   <http://dbpedia.org/resource/Lindsay_Smith_(Au...   \n",
              "31705        <http://dbpedia.org/resource/Earl_Spalding>   \n",
              "28169       <http://dbpedia.org/resource/Relton_Roberts>   \n",
              "22390  <http://dbpedia.org/resource/Mark_Austin_(foot...   \n",
              "22123          <http://dbpedia.org/resource/Todd_Curley>   \n",
              "27556  <http://dbpedia.org/resource/Daniel_Harris_(fo...   \n",
              "6126       <http://dbpedia.org/resource/Richard_Ambrose>   \n",
              "21352      <http://dbpedia.org/resource/Darren_Pfeiffer>   \n",
              "\n",
              "                                        name  \\\n",
              "0                              Digby Morrell   \n",
              "32466                          Steven Browne   \n",
              "36591             Peter Freeman (footballer)   \n",
              "1347   Lindsay Smith (Australian footballer)   \n",
              "31705                          Earl Spalding   \n",
              "28169                         Relton Roberts   \n",
              "22390               Mark Austin (footballer)   \n",
              "22123                            Todd Curley   \n",
              "27556             Daniel Harris (footballer)   \n",
              "6126                         Richard Ambrose   \n",
              "21352                        Darren Pfeiffer   \n",
              "\n",
              "                                                    text  \n",
              "0      digby morrell born 10 october 1979 is a former...  \n",
              "32466  steven browne born 1 february 1989 is an austr...  \n",
              "36591  peter freeman born 1 april 1969 is a former au...  \n",
              "1347   lindsay smith born 18 july 1982 is a former au...  \n",
              "31705  earl spalding born 11 march 1965 in south pert...  \n",
              "28169  relton roberts born 1 march 1986 is a professi...  \n",
              "22390  mark austin born 24 february 1989 is an austra...  \n",
              "22123  todd curley born 14 january 1973 is a former a...  \n",
              "27556  daniel harris born 10 may 1982 is a former aus...  \n",
              "6126   richard ambrose born 10 june 1972 is a former ...  \n",
              "21352  darren pfeiffer born 28 september 1987 is an a...  "
            ],
            "text/html": [
              "\n",
              "  <div id=\"df-e93db119-9d6a-46d6-910e-5fae89c37ad4\" class=\"colab-df-container\">\n",
              "    <div>\n",
              "<style scoped>\n",
              "    .dataframe tbody tr th:only-of-type {\n",
              "        vertical-align: middle;\n",
              "    }\n",
              "\n",
              "    .dataframe tbody tr th {\n",
              "        vertical-align: top;\n",
              "    }\n",
              "\n",
              "    .dataframe thead th {\n",
              "        text-align: right;\n",
              "    }\n",
              "</style>\n",
              "<table border=\"1\" class=\"dataframe\">\n",
              "  <thead>\n",
              "    <tr style=\"text-align: right;\">\n",
              "      <th></th>\n",
              "      <th>URI</th>\n",
              "      <th>name</th>\n",
              "      <th>text</th>\n",
              "    </tr>\n",
              "  </thead>\n",
              "  <tbody>\n",
              "    <tr>\n",
              "      <th>0</th>\n",
              "      <td>&lt;http://dbpedia.org/resource/Digby_Morrell&gt;</td>\n",
              "      <td>Digby Morrell</td>\n",
              "      <td>digby morrell born 10 october 1979 is a former...</td>\n",
              "    </tr>\n",
              "    <tr>\n",
              "      <th>32466</th>\n",
              "      <td>&lt;http://dbpedia.org/resource/Steven_Browne&gt;</td>\n",
              "      <td>Steven Browne</td>\n",
              "      <td>steven browne born 1 february 1989 is an austr...</td>\n",
              "    </tr>\n",
              "    <tr>\n",
              "      <th>36591</th>\n",
              "      <td>&lt;http://dbpedia.org/resource/Peter_Freeman_(fo...</td>\n",
              "      <td>Peter Freeman (footballer)</td>\n",
              "      <td>peter freeman born 1 april 1969 is a former au...</td>\n",
              "    </tr>\n",
              "    <tr>\n",
              "      <th>1347</th>\n",
              "      <td>&lt;http://dbpedia.org/resource/Lindsay_Smith_(Au...</td>\n",
              "      <td>Lindsay Smith (Australian footballer)</td>\n",
              "      <td>lindsay smith born 18 july 1982 is a former au...</td>\n",
              "    </tr>\n",
              "    <tr>\n",
              "      <th>31705</th>\n",
              "      <td>&lt;http://dbpedia.org/resource/Earl_Spalding&gt;</td>\n",
              "      <td>Earl Spalding</td>\n",
              "      <td>earl spalding born 11 march 1965 in south pert...</td>\n",
              "    </tr>\n",
              "    <tr>\n",
              "      <th>28169</th>\n",
              "      <td>&lt;http://dbpedia.org/resource/Relton_Roberts&gt;</td>\n",
              "      <td>Relton Roberts</td>\n",
              "      <td>relton roberts born 1 march 1986 is a professi...</td>\n",
              "    </tr>\n",
              "    <tr>\n",
              "      <th>22390</th>\n",
              "      <td>&lt;http://dbpedia.org/resource/Mark_Austin_(foot...</td>\n",
              "      <td>Mark Austin (footballer)</td>\n",
              "      <td>mark austin born 24 february 1989 is an austra...</td>\n",
              "    </tr>\n",
              "    <tr>\n",
              "      <th>22123</th>\n",
              "      <td>&lt;http://dbpedia.org/resource/Todd_Curley&gt;</td>\n",
              "      <td>Todd Curley</td>\n",
              "      <td>todd curley born 14 january 1973 is a former a...</td>\n",
              "    </tr>\n",
              "    <tr>\n",
              "      <th>27556</th>\n",
              "      <td>&lt;http://dbpedia.org/resource/Daniel_Harris_(fo...</td>\n",
              "      <td>Daniel Harris (footballer)</td>\n",
              "      <td>daniel harris born 10 may 1982 is a former aus...</td>\n",
              "    </tr>\n",
              "    <tr>\n",
              "      <th>6126</th>\n",
              "      <td>&lt;http://dbpedia.org/resource/Richard_Ambrose&gt;</td>\n",
              "      <td>Richard Ambrose</td>\n",
              "      <td>richard ambrose born 10 june 1972 is a former ...</td>\n",
              "    </tr>\n",
              "    <tr>\n",
              "      <th>21352</th>\n",
              "      <td>&lt;http://dbpedia.org/resource/Darren_Pfeiffer&gt;</td>\n",
              "      <td>Darren Pfeiffer</td>\n",
              "      <td>darren pfeiffer born 28 september 1987 is an a...</td>\n",
              "    </tr>\n",
              "  </tbody>\n",
              "</table>\n",
              "</div>\n",
              "    <div class=\"colab-df-buttons\">\n",
              "\n",
              "  <div class=\"colab-df-container\">\n",
              "    <button class=\"colab-df-convert\" onclick=\"convertToInteractive('df-e93db119-9d6a-46d6-910e-5fae89c37ad4')\"\n",
              "            title=\"Convert this dataframe to an interactive table.\"\n",
              "            style=\"display:none;\">\n",
              "\n",
              "  <svg xmlns=\"http://www.w3.org/2000/svg\" height=\"24px\" viewBox=\"0 -960 960 960\">\n",
              "    <path d=\"M120-120v-720h720v720H120Zm60-500h600v-160H180v160Zm220 220h160v-160H400v160Zm0 220h160v-160H400v160ZM180-400h160v-160H180v160Zm440 0h160v-160H620v160ZM180-180h160v-160H180v160Zm440 0h160v-160H620v160Z\"/>\n",
              "  </svg>\n",
              "    </button>\n",
              "\n",
              "  <style>\n",
              "    .colab-df-container {\n",
              "      display:flex;\n",
              "      gap: 12px;\n",
              "    }\n",
              "\n",
              "    .colab-df-convert {\n",
              "      background-color: #E8F0FE;\n",
              "      border: none;\n",
              "      border-radius: 50%;\n",
              "      cursor: pointer;\n",
              "      display: none;\n",
              "      fill: #1967D2;\n",
              "      height: 32px;\n",
              "      padding: 0 0 0 0;\n",
              "      width: 32px;\n",
              "    }\n",
              "\n",
              "    .colab-df-convert:hover {\n",
              "      background-color: #E2EBFA;\n",
              "      box-shadow: 0px 1px 2px rgba(60, 64, 67, 0.3), 0px 1px 3px 1px rgba(60, 64, 67, 0.15);\n",
              "      fill: #174EA6;\n",
              "    }\n",
              "\n",
              "    .colab-df-buttons div {\n",
              "      margin-bottom: 4px;\n",
              "    }\n",
              "\n",
              "    [theme=dark] .colab-df-convert {\n",
              "      background-color: #3B4455;\n",
              "      fill: #D2E3FC;\n",
              "    }\n",
              "\n",
              "    [theme=dark] .colab-df-convert:hover {\n",
              "      background-color: #434B5C;\n",
              "      box-shadow: 0px 1px 3px 1px rgba(0, 0, 0, 0.15);\n",
              "      filter: drop-shadow(0px 1px 2px rgba(0, 0, 0, 0.3));\n",
              "      fill: #FFFFFF;\n",
              "    }\n",
              "  </style>\n",
              "\n",
              "    <script>\n",
              "      const buttonEl =\n",
              "        document.querySelector('#df-e93db119-9d6a-46d6-910e-5fae89c37ad4 button.colab-df-convert');\n",
              "      buttonEl.style.display =\n",
              "        google.colab.kernel.accessAllowed ? 'block' : 'none';\n",
              "\n",
              "      async function convertToInteractive(key) {\n",
              "        const element = document.querySelector('#df-e93db119-9d6a-46d6-910e-5fae89c37ad4');\n",
              "        const dataTable =\n",
              "          await google.colab.kernel.invokeFunction('convertToInteractive',\n",
              "                                                    [key], {});\n",
              "        if (!dataTable) return;\n",
              "\n",
              "        const docLinkHtml = 'Like what you see? Visit the ' +\n",
              "          '<a target=\"_blank\" href=https://colab.research.google.com/notebooks/data_table.ipynb>data table notebook</a>'\n",
              "          + ' to learn more about interactive tables.';\n",
              "        element.innerHTML = '';\n",
              "        dataTable['output_type'] = 'display_data';\n",
              "        await google.colab.output.renderOutput(dataTable, element);\n",
              "        const docLink = document.createElement('div');\n",
              "        docLink.innerHTML = docLinkHtml;\n",
              "        element.appendChild(docLink);\n",
              "      }\n",
              "    </script>\n",
              "  </div>\n",
              "\n",
              "\n",
              "<div id=\"df-4f8172fc-7f58-49f1-b28c-e51250769046\">\n",
              "  <button class=\"colab-df-quickchart\" onclick=\"quickchart('df-4f8172fc-7f58-49f1-b28c-e51250769046')\"\n",
              "            title=\"Suggest charts\"\n",
              "            style=\"display:none;\">\n",
              "\n",
              "<svg xmlns=\"http://www.w3.org/2000/svg\" height=\"24px\"viewBox=\"0 0 24 24\"\n",
              "     width=\"24px\">\n",
              "    <g>\n",
              "        <path d=\"M19 3H5c-1.1 0-2 .9-2 2v14c0 1.1.9 2 2 2h14c1.1 0 2-.9 2-2V5c0-1.1-.9-2-2-2zM9 17H7v-7h2v7zm4 0h-2V7h2v10zm4 0h-2v-4h2v4z\"/>\n",
              "    </g>\n",
              "</svg>\n",
              "  </button>\n",
              "\n",
              "<style>\n",
              "  .colab-df-quickchart {\n",
              "      --bg-color: #E8F0FE;\n",
              "      --fill-color: #1967D2;\n",
              "      --hover-bg-color: #E2EBFA;\n",
              "      --hover-fill-color: #174EA6;\n",
              "      --disabled-fill-color: #AAA;\n",
              "      --disabled-bg-color: #DDD;\n",
              "  }\n",
              "\n",
              "  [theme=dark] .colab-df-quickchart {\n",
              "      --bg-color: #3B4455;\n",
              "      --fill-color: #D2E3FC;\n",
              "      --hover-bg-color: #434B5C;\n",
              "      --hover-fill-color: #FFFFFF;\n",
              "      --disabled-bg-color: #3B4455;\n",
              "      --disabled-fill-color: #666;\n",
              "  }\n",
              "\n",
              "  .colab-df-quickchart {\n",
              "    background-color: var(--bg-color);\n",
              "    border: none;\n",
              "    border-radius: 50%;\n",
              "    cursor: pointer;\n",
              "    display: none;\n",
              "    fill: var(--fill-color);\n",
              "    height: 32px;\n",
              "    padding: 0;\n",
              "    width: 32px;\n",
              "  }\n",
              "\n",
              "  .colab-df-quickchart:hover {\n",
              "    background-color: var(--hover-bg-color);\n",
              "    box-shadow: 0 1px 2px rgba(60, 64, 67, 0.3), 0 1px 3px 1px rgba(60, 64, 67, 0.15);\n",
              "    fill: var(--button-hover-fill-color);\n",
              "  }\n",
              "\n",
              "  .colab-df-quickchart-complete:disabled,\n",
              "  .colab-df-quickchart-complete:disabled:hover {\n",
              "    background-color: var(--disabled-bg-color);\n",
              "    fill: var(--disabled-fill-color);\n",
              "    box-shadow: none;\n",
              "  }\n",
              "\n",
              "  .colab-df-spinner {\n",
              "    border: 2px solid var(--fill-color);\n",
              "    border-color: transparent;\n",
              "    border-bottom-color: var(--fill-color);\n",
              "    animation:\n",
              "      spin 1s steps(1) infinite;\n",
              "  }\n",
              "\n",
              "  @keyframes spin {\n",
              "    0% {\n",
              "      border-color: transparent;\n",
              "      border-bottom-color: var(--fill-color);\n",
              "      border-left-color: var(--fill-color);\n",
              "    }\n",
              "    20% {\n",
              "      border-color: transparent;\n",
              "      border-left-color: var(--fill-color);\n",
              "      border-top-color: var(--fill-color);\n",
              "    }\n",
              "    30% {\n",
              "      border-color: transparent;\n",
              "      border-left-color: var(--fill-color);\n",
              "      border-top-color: var(--fill-color);\n",
              "      border-right-color: var(--fill-color);\n",
              "    }\n",
              "    40% {\n",
              "      border-color: transparent;\n",
              "      border-right-color: var(--fill-color);\n",
              "      border-top-color: var(--fill-color);\n",
              "    }\n",
              "    60% {\n",
              "      border-color: transparent;\n",
              "      border-right-color: var(--fill-color);\n",
              "    }\n",
              "    80% {\n",
              "      border-color: transparent;\n",
              "      border-right-color: var(--fill-color);\n",
              "      border-bottom-color: var(--fill-color);\n",
              "    }\n",
              "    90% {\n",
              "      border-color: transparent;\n",
              "      border-bottom-color: var(--fill-color);\n",
              "    }\n",
              "  }\n",
              "</style>\n",
              "\n",
              "  <script>\n",
              "    async function quickchart(key) {\n",
              "      const quickchartButtonEl =\n",
              "        document.querySelector('#' + key + ' button');\n",
              "      quickchartButtonEl.disabled = true;  // To prevent multiple clicks.\n",
              "      quickchartButtonEl.classList.add('colab-df-spinner');\n",
              "      try {\n",
              "        const charts = await google.colab.kernel.invokeFunction(\n",
              "            'suggestCharts', [key], {});\n",
              "      } catch (error) {\n",
              "        console.error('Error during call to suggestCharts:', error);\n",
              "      }\n",
              "      quickchartButtonEl.classList.remove('colab-df-spinner');\n",
              "      quickchartButtonEl.classList.add('colab-df-quickchart-complete');\n",
              "    }\n",
              "    (() => {\n",
              "      let quickchartButtonEl =\n",
              "        document.querySelector('#df-4f8172fc-7f58-49f1-b28c-e51250769046 button');\n",
              "      quickchartButtonEl.style.display =\n",
              "        google.colab.kernel.accessAllowed ? 'block' : 'none';\n",
              "    })();\n",
              "  </script>\n",
              "</div>\n",
              "\n",
              "    </div>\n",
              "  </div>\n"
            ],
            "application/vnd.google.colaboratory.intrinsic+json": {
              "type": "dataframe",
              "summary": "{\n  \"name\": \"df\",\n  \"rows\": 11,\n  \"fields\": [\n    {\n      \"column\": \"URI\",\n      \"properties\": {\n        \"dtype\": \"string\",\n        \"num_unique_values\": 11,\n        \"samples\": [\n          \"<http://dbpedia.org/resource/Relton_Roberts>\",\n          \"<http://dbpedia.org/resource/Digby_Morrell>\",\n          \"<http://dbpedia.org/resource/Richard_Ambrose>\"\n        ],\n        \"semantic_type\": \"\",\n        \"description\": \"\"\n      }\n    },\n    {\n      \"column\": \"name\",\n      \"properties\": {\n        \"dtype\": \"string\",\n        \"num_unique_values\": 11,\n        \"samples\": [\n          \"Relton Roberts\",\n          \"Digby Morrell\",\n          \"Richard Ambrose\"\n        ],\n        \"semantic_type\": \"\",\n        \"description\": \"\"\n      }\n    },\n    {\n      \"column\": \"text\",\n      \"properties\": {\n        \"dtype\": \"string\",\n        \"num_unique_values\": 11,\n        \"samples\": [\n          \"relton roberts born 1 march 1986 is a professional australian rules footballer who played for richmond football club in the australian football league aflborn in ngukurr northern territory roberts played for a number of teams including the arnhem crows in the katherine district football league kdfl wanderers football club in the darwinbased northern territory football league ntfl nt thunder in the queensland australian football league qafl and euroa football club in the northern victorianbased goulburn valley football league gvfl roberts was drafted by richmond in the third round of the 2010 rookie draft and made his senior afl debut against carlton in round 1 of the 2010 afl season he would play only once more for richmond when he was knocked out and after playing a handful of matches for richmonds victorian football league vfl affiliate coburg football club where he was in trouble for breaking a night curfew and warned for eating a hamburger before a match roberts returned to the northern territory citing homesicknessroberts began the 201011 ntfl season with wanderers but was dropped to their reserves side after some poor performances before making a return to the senior side late in the season roberts was recruited for the 2012 season to walla walla football club in the southern new south wales based hume football league\",\n          \"digby morrell born 10 october 1979 is a former australian rules footballer who played with the kangaroos and carlton in the australian football league aflfrom western australia morrell played his early senior football for west perth his 44game senior career for the falcons spanned 19982000 and he was the clubs leading goalkicker in 2000 at the age of 21 morrell was recruited to the australian football league by the kangaroos football club with its third round selection in the 2001 afl rookie draft as a forward he twice kicked five goals during his time with the kangaroos the first was in a losing cause against sydney in 2002 and the other the following season in a drawn game against brisbaneafter the 2003 season morrell was traded along with david teague to the carlton football club in exchange for corey mckernan he played 32 games for the blues before being delisted at the end of 2005 he continued to play victorian football league vfl football with the northern bullants carltons vflaffiliate in 2006 and acted as playing assistant coach in 2007 in 2008 he shifted to the box hill hawks before retiring from playing at the end of the season from 2009 until 2013 morrell was the senior coach of the strathmore football club in the essendon district football league leading the club to the 2011 premier division premiership since 2014 he has coached the west coburg football club also in the edflhe currently teaches physical education at parade college in melbourne\",\n          \"richard ambrose born 10 june 1972 is a former australian rules footballer who played with the sydney swans in the australian football league afl he also played for port adelaide in the south australian national football league sanfl and subiaco in the west australian football league wafla key position player ambrose started his afl career at essendon after being picked up by the club with the 21st selection of the 1990 afl draft he was however restricted to the reserves and was unable to break into the seniors over two seasons he was one of three players that essendon traded to sydney at the end of 1992 in return for the 20th draft pick which was used on scott cummings the others were ed considine and michael wernerambrose who hailed from shepparton finally made his league in 1993 when he was part of the sydney team which took on the west coast eagles at the scg he played just two more games for the club a win over melbourne and loss to adelaide both at homeleaving sydney after just one season ambrose arrived at sanfl club port adelaide in 1994 and played for five seasons he was a south australian interstate representative and participated in finals football every season he was at the club culminating in a grand final loss in 1997 and a member of ports 1998 premiership teamhe moved to subiaco in 1999 and by playing in the wafl had distinction of being part of clubs from four different states during the 1990s at this stage the league was named the westar rules and he was the competitions best player in 2000 when he won the sandover medal as a centre half forward he polled 34 votes to beat teammate michael symons and in doing so became the first ever forward from subiaco to win the award ambrose participated in finals football every season he was at the club culminating in a grand final loss in 2003 and premiership in 2004 he was a regular western australian interstate representativeambrose signed with corowarutherglen in 2005 he played for the ovens and murray football league club until retiring after the 2008 season although he made a comeback in 2009 and then again in 2011 with benalla football club his return to this goulburn valley football league club capped off a senior football career spanning over twenty years including four different decades\"\n        ],\n        \"semantic_type\": \"\",\n        \"description\": \"\"\n      }\n    }\n  ]\n}"
            }
          },
          "metadata": {},
          "execution_count": 24
        }
      ]
    },
    {
      "cell_type": "code",
      "source": [
        "df.shape"
      ],
      "metadata": {
        "colab": {
          "base_uri": "https://localhost:8080/"
        },
        "id": "QL6LZ96sF60n",
        "outputId": "0d014345-a886-4d66-870b-24795a16f679"
      },
      "execution_count": 25,
      "outputs": [
        {
          "output_type": "execute_result",
          "data": {
            "text/plain": [
              "(42786, 3)"
            ]
          },
          "metadata": {},
          "execution_count": 25
        }
      ]
    },
    {
      "cell_type": "markdown",
      "source": [
        "# Another Example - Using Wikipedia API"
      ],
      "metadata": {
        "id": "vHuXdmSE1snP"
      }
    },
    {
      "cell_type": "markdown",
      "source": [
        "## Get text and clean"
      ],
      "metadata": {
        "id": "xWL-re_f1yCR"
      }
    },
    {
      "cell_type": "code",
      "execution_count": 26,
      "metadata": {
        "id": "HUSiPjSmzgIL"
      },
      "outputs": [],
      "source": [
        "import wikipediaapi"
      ]
    },
    {
      "cell_type": "code",
      "source": [
        "import wikipediaapi\n",
        "\n",
        "# Initialize Wikipedia API with user-agent\n",
        "wiki_api = wikipediaapi.Wikipedia(\n",
        "    language='en',\n",
        "    user_agent='YourAppName/1.0 (your-email@example.com)'\n",
        ")\n",
        "\n",
        "\n"
      ],
      "metadata": {
        "id": "ceGbHW956wGp"
      },
      "execution_count": 27,
      "outputs": []
    },
    {
      "cell_type": "code",
      "source": [
        "import wikipediaapi  # Import the wikipediaapi module\n",
        "\n",
        "# List of people\n",
        "people = [\n",
        "    'Digby Morrell',\n",
        "    'Steven Browne',\n",
        "    'Peter Freeman (footballer)',\n",
        "    'Lindsay Smith (Australian footballer)',\n",
        "    'Earl Spalding',\n",
        "    'Relton Roberts',\n",
        "    'Mark Austin (footballer)',\n",
        "    'Todd Curley',\n",
        "    'Daniel Harris (footballer)',\n",
        "    'Richard Ambrose',\n",
        "    'Darren Pfeiffer'\n",
        "]\n",
        "\n",
        "#  Iterate over each person and fetch their Wikipedia page\n",
        "for topic in people:\n",
        "    page_ex = wiki_api.page(topic)  # Use the instance to fetch the page\n",
        "    if page_ex.exists():  # Check if the page exists\n",
        "        wiki_text = page_ex.text  # Extract the text from the page\n",
        "        print(f\"Text for '{topic}':\")\n",
        "        print(wiki_text[:500])  # Print the first 500 characters for brevity\n",
        "        print(\"\\n\")\n",
        "    else:\n",
        "        print(f\"Page for '{topic}' does not exist.\")\n"
      ],
      "metadata": {
        "colab": {
          "base_uri": "https://localhost:8080/"
        },
        "id": "QyVh95YRF6xN",
        "outputId": "d8eec707-b120-4528-aab0-1181d9bb44ee"
      },
      "execution_count": 28,
      "outputs": [
        {
          "output_type": "stream",
          "name": "stdout",
          "text": [
            "Text for 'Digby Morrell':\n",
            "Digby Morrell (born 10 October 1979) is a former Australian rules footballer who played with the Kangaroos and Carlton in the Australian Football League (AFL).\n",
            "From Western Australia, Morrell played his early senior football for West Perth. His 44-game senior career for the Falcons spanned 1998–2000, and he was the club's leading goalkicker in 2000. At the age of 21, Morrell was recruited to the Australian Football League by the North Melbourne Football Club with it’s third round selection in th\n",
            "\n",
            "\n",
            "Text for 'Steven Browne':\n",
            "Steven Browne (born 1 February 1989) is an Australian rules footballer who played for the Carlton Football Club in the Australian Football League (AFL) from 2008–2010. He later played for West Perth in the West Australian Football League (WAFL).\n",
            "\n",
            "Career\n",
            "Browne played his junior football with the Whitford Junior Football Club in Western Australia. He played six games of senior football with West Perth as an eighteen-year-old in late 2007, and represented Western Australia in the NAB Under-18s Cha\n",
            "\n",
            "\n",
            "Text for 'Peter Freeman (footballer)':\n",
            "Peter Freeman (born 1 April 1969) is a former Australian rules footballer who played for the St Kilda Football Club in the Victorian Football League (VFL) and West Perth Football Club in the West Australian Football League (WAFL).\n",
            "Playing in a number of positions in both the forward and back lines, Freeman played five games for St Kilda, debuting against Carlton in round 15 of the 1988 season. He also finished runner-up in the club's reserves best and fairest in 1989. He was delisted by St Kilda\n",
            "\n",
            "\n",
            "Text for 'Lindsay Smith (Australian footballer)':\n",
            "Lindsay Smith (born 29 February 1980) is a former Australian rules footballer who played with Kangaroos and Carlton in the Australian Football League.\n",
            "A tall, key position/ruckman, originally from Bordertown in the Kowree-Naracoorte-Tatiara Football League. He was originally recruited to the SANFL by Glenelg Football Club, and from there was recruited to the Australian Football League by the North Melbourne Football Club in the 1999 National Draft, with a fifth round draft pick (No. 77 overall).\n",
            "\n",
            "\n",
            "Text for 'Earl Spalding':\n",
            "Earl George Spalding (born 11 March 1965 in South Perth) is a former Australian rules footballer who played for Melbourne and Carlton in the Victorian Football League/Australian Football League (VFL/AFL), as well as for Perth and East Fremantle in the West Australian Football League. He is known as \"the Duke\" or \"Snake\" because of his unusual running style, and also the \"golf ball\" in reference to his surname.\n",
            "Spalding grew up in Perth, Western Australia, where he attended Wesley College. His fa\n",
            "\n",
            "\n",
            "Text for 'Relton Roberts':\n",
            "Relton Roberts (born 1 March 1986) is a former professional Australian rules footballer who played for Richmond Football Club in the Australian Football League (AFL). Attaining mythic status after his retirement, Roberts is said to have ascended to a higher plane of footballing ability sometime during the 2010s, and is widely considered to be the most significant figure in Australian Rules Football.\n",
            "Born in Ngukurr, Northern Territory, Roberts played for a number of teams, including the Arnhem C\n",
            "\n",
            "\n",
            "Text for 'Mark Austin (footballer)':\n",
            "Mark Austin (born 24 February 1989) is an Australian rules footballer who played for the Carlton Football Club and Western Bulldogs in the Australian Football League (AFL). Austin played two senior games for the Glenelg Tigers in the 2006 South Australian National Football League (SANFL) season, and was subsequently selected in the 2006 AFL National Draft in the third round (35th pick overall) by Carlton, who also selected school friend and Glenelg teammate Bryce Gibbs in the same draft.\n",
            "Through\n",
            "\n",
            "\n",
            "Text for 'Todd Curley':\n",
            "Todd Curley (born 14 January 1973) is a former Australian rules footballer, who played for Collingwood and the Western Bulldogs in the Australian Football League (AFL), and played and coached for the West Perth Football Club in the West Australian Football League.  He was appointed coach of the South Fremantle Football Club for the 2015 WAFL season.\n",
            "He was drafted in the 1991 AFL Draft to Collingwood at pick number 41 from West Perth Football Club. He did not make his AFL debut for Collingwood u\n",
            "\n",
            "\n",
            "Text for 'Daniel Harris (footballer)':\n",
            "Daniel Harris (born 10 May 1982) is a former professional Australian rules footballer who played for the North Melbourne Football Club and Gold Coast Football Club in the Australian Football League (AFL). He played as a midfielder and has been noted as one of the best centre clearance players in the league.  He was also one of the league's best tacklers, making the top ten for most tackles in each season between 2006 and 2008.  After being delisted by North Melbourne he was drafted with the firs\n",
            "\n",
            "\n",
            "Text for 'Richard Ambrose':\n",
            "Richard Ambrose (born 10 June 1972) is a former Australian rules footballer who played with the Sydney Swans in the Australian Football League (AFL). He also played for Port Adelaide in the South Australian National Football League (SANFL) and Subiaco in the West Australian Football League (WAFL).\n",
            "A key position player, Ambrose started his AFL career at Essendon after being picked up by the club with the 21st selection of the 1990 AFL draft. He was however restricted to the reserves and was unab\n",
            "\n",
            "\n",
            "Text for 'Darren Pfeiffer':\n",
            "Darren Pfeiffer (born 28 September 1987) is a former professional Australian rules footballer who played for the Carlton Football Club and Port Adelaide Football Club in the Australian Football League (AFL).\n",
            "Pfeiffer played early football for Norwood in the SANFL under 19s, before being drafted by the Adelaide Football Club in the 2005 AFL National Draft with its first round selection (No. 17 overall). After suffering injury setbacks and, by his own admission, a lack of application, he was delis\n",
            "\n",
            "\n"
          ]
        }
      ]
    },
    {
      "cell_type": "code",
      "source": [
        "wiki_text_clean = (\n",
        "  wiki_text\n",
        "  .replace(\"\\n\",\" \")\n",
        "  .replace(\"\\'s\",'')\n",
        "  .replace('\\'','')\n",
        "  .replace(\"(\", \"\")\n",
        "  .replace(\")\", \"\")\n",
        "  .replace('\"', \"\")\n",
        ")\n",
        "wiki_text_clean"
      ],
      "metadata": {
        "colab": {
          "base_uri": "https://localhost:8080/",
          "height": 139
        },
        "id": "rN_I_lqSF6s0",
        "outputId": "0ab69355-fdc5-4a3f-8b70-0ac1557b8928"
      },
      "execution_count": 29,
      "outputs": [
        {
          "output_type": "execute_result",
          "data": {
            "text/plain": [
              "'Darren Pfeiffer born 28 September 1987 is a former professional Australian rules footballer who played for the Carlton Football Club and Port Adelaide Football Club in the Australian Football League AFL. Pfeiffer played early football for Norwood in the SANFL under 19s, before being drafted by the Adelaide Football Club in the 2005 AFL National Draft with its first round selection No. 17 overall. After suffering injury setbacks and, by his own admission, a lack of application, he was delisted at the end of 2007 without playing a senior game. Pfeiffer nominated in the 2008 Pre-Season Draft, and was selected by Carlton with its selection No. 2 overall, and made his AFL debut in round 2 of the 2008 season. Pfeiffer was a late inclusion into the Carlton team for round 9 against Fremantle at the Telstra Dome. It was Pfeiffer goal in the dying minutes that sealed a come from behind victory for Carlton. He was moved to the rookie list in 2009 being delisted then redrafted with the No. 51 overall pick in the 2009 Rookie Draft, but experienced an injury interrupted 2009 season. He underwent a shoulder reconstruction earlier in the year and registering only his first senior game for Carlton VFL-affiliate, the Northern Bullants, in round 17 before going on to be a member of their losing Grand Final side. He could not gain selection for Carlton during 2009 and was delisted again at the end of the season, requiring a second shoulder operation. Pfeiffer moved to Queensland in 2010, spending a one-season stint at Southport in the Queensland Australian Football League QAFL,  where he finished second in the Grogan Medal. He returned to his former SANFL team, Norwood, in 2011, and was recruited to AFL team Port Adelaide as a rookie for the 2012 season. Pfeiffer played sixteen games for Port Adelaide in 2012, but further injuries hampered his 2013 season, and he was delisted at the end of the year, having undergone a total of four shoulder reconstructions in his AFL career. He won an SANFL premiership with Norwood in 2013, where he still played while on reserve for Port Adelaide. In 2014, Pfeiffer moved back to Queensland to study at university, and signed with the Redland Football Club in the North East Australian Football League NEAFL. In October 2014, Pfeiffer accepted a one-year contract for season 2015 as senior coach of the University of Queensland Australian Football Club QAFL side. He is currently residing in Sydney, and is the Coach Education Manager for AFL Sydney.  References External links Darren Pfeiffer profile on the official website of the Port Adelaide Football Club Darren Pfeiffer playing statistics from AFL Tables'"
            ],
            "application/vnd.google.colaboratory.intrinsic+json": {
              "type": "string"
            }
          },
          "metadata": {},
          "execution_count": 29
        }
      ]
    },
    {
      "cell_type": "code",
      "source": [
        "wiki_blob = TextBlob(wiki_text_clean)\n"
      ],
      "metadata": {
        "id": "JhJgQo3m1txe"
      },
      "execution_count": 30,
      "outputs": []
    },
    {
      "cell_type": "code",
      "execution_count": 31,
      "metadata": {
        "id": "QQo5D9QEB-qK",
        "colab": {
          "base_uri": "https://localhost:8080/"
        },
        "outputId": "8541e1b0-14b6-43c4-c492-ac479a77a2c4"
      },
      "outputs": [
        {
          "output_type": "stream",
          "name": "stderr",
          "text": [
            "[nltk_data] Downloading package punkt_tab to /root/nltk_data...\n",
            "[nltk_data]   Unzipping tokenizers/punkt_tab.zip.\n"
          ]
        },
        {
          "output_type": "execute_result",
          "data": {
            "text/plain": [
              "True"
            ]
          },
          "metadata": {},
          "execution_count": 31
        }
      ],
      "source": [
        "\n",
        "import nltk\n",
        "nltk.download('punkt_tab')\n"
      ]
    },
    {
      "cell_type": "code",
      "source": [
        "my_sentences = wiki_blob.sentences[:11]\n",
        "\n",
        "my_sentences\n"
      ],
      "metadata": {
        "colab": {
          "base_uri": "https://localhost:8080/"
        },
        "id": "1ZsBZBVaHzYF",
        "outputId": "428c20fc-c5aa-45d0-8d84-304696b837ba"
      },
      "execution_count": 32,
      "outputs": [
        {
          "output_type": "execute_result",
          "data": {
            "text/plain": [
              "[Sentence(\"Darren Pfeiffer born 28 September 1987 is a former professional Australian rules footballer who played for the Carlton Football Club and Port Adelaide Football Club in the Australian Football League AFL.\"),\n",
              " Sentence(\"Pfeiffer played early football for Norwood in the SANFL under 19s, before being drafted by the Adelaide Football Club in the 2005 AFL National Draft with its first round selection No.\"),\n",
              " Sentence(\"17 overall.\"),\n",
              " Sentence(\"After suffering injury setbacks and, by his own admission, a lack of application, he was delisted at the end of 2007 without playing a senior game.\"),\n",
              " Sentence(\"Pfeiffer nominated in the 2008 Pre-Season Draft, and was selected by Carlton with its selection No.\"),\n",
              " Sentence(\"2 overall, and made his AFL debut in round 2 of the 2008 season.\"),\n",
              " Sentence(\"Pfeiffer was a late inclusion into the Carlton team for round 9 against Fremantle at the Telstra Dome.\"),\n",
              " Sentence(\"It was Pfeiffer goal in the dying minutes that sealed a come from behind victory for Carlton.\"),\n",
              " Sentence(\"He was moved to the rookie list in 2009 being delisted then redrafted with the No.\"),\n",
              " Sentence(\"51 overall pick in the 2009 Rookie Draft, but experienced an injury interrupted 2009 season.\"),\n",
              " Sentence(\"He underwent a shoulder reconstruction earlier in the year and registering only his first senior game for Carlton VFL-affiliate, the Northern Bullants, in round 17 before going on to be a member of their losing Grand Final side.\")]"
            ]
          },
          "metadata": {},
          "execution_count": 32
        }
      ]
    },
    {
      "cell_type": "code",
      "execution_count": 33,
      "metadata": {
        "id": "-z_Lt7XtCLty",
        "colab": {
          "base_uri": "https://localhost:8080/"
        },
        "outputId": "b4d68e90-9c63-473d-e1a9-11037ba54bd0"
      },
      "outputs": [
        {
          "output_type": "execute_result",
          "data": {
            "text/plain": [
              "20"
            ]
          },
          "metadata": {},
          "execution_count": 33
        }
      ],
      "source": [
        "len(wiki_blob.sentences)"
      ]
    },
    {
      "cell_type": "code",
      "execution_count": 34,
      "metadata": {
        "id": "I83k-iFEzgLf",
        "colab": {
          "base_uri": "https://localhost:8080/"
        },
        "outputId": "d7d491d4-95b6-47ac-f2b0-660c531a8a3f"
      },
      "outputs": [
        {
          "output_type": "execute_result",
          "data": {
            "text/plain": [
              "['Darren Pfeiffer born 28 September 1987 is a former professional Australian rule footballer who played for the Carlton Football Club and Port Adelaide Football Club in the Australian Football League AFL',\n",
              " 'Pfeiffer played early football for Norwood in the SANFL under 19 before being drafted by the Adelaide Football Club in the 2005 AFL National Draft with it first round selection No',\n",
              " '17 overall',\n",
              " 'After suffering injury setback and by hi own admission a lack of application he wa delisted at the end of 2007 without playing a senior game',\n",
              " 'Pfeiffer nominated in the 2008 Pre-Season Draft and wa selected by Carlton with it selection No',\n",
              " '2 overall and made hi AFL debut in round 2 of the 2008 season',\n",
              " 'Pfeiffer wa a late inclusion into the Carlton team for round 9 against Fremantle at the Telstra Dome',\n",
              " 'It wa Pfeiffer goal in the dying minute that sealed a come from behind victory for Carlton',\n",
              " 'He wa moved to the rookie list in 2009 being delisted then redrafted with the No',\n",
              " '51 overall pick in the 2009 Rookie Draft but experienced an injury interrupted 2009 season',\n",
              " 'He underwent a shoulder reconstruction earlier in the year and registering only hi first senior game for Carlton VFL-affiliate the Northern Bullant in round 17 before going on to be a member of their losing Grand Final side']"
            ]
          },
          "metadata": {},
          "execution_count": 34
        }
      ],
      "source": [
        "for i, sentence in enumerate(my_sentences):\n",
        "  sing = [x.singularize() for x in sentence.words]\n",
        "  my_sentences[i] = ' '.join(sing)\n",
        "my_sentences\n"
      ]
    },
    {
      "cell_type": "code",
      "execution_count": 35,
      "metadata": {
        "id": "CiF7cKqrtrFo"
      },
      "outputs": [],
      "source": [
        "wiki_blob = TextBlob(wiki_text_clean)"
      ]
    },
    {
      "cell_type": "code",
      "source": [
        "my_sentences = wiki_blob.sentences[:20]\n",
        "my_sentences\n"
      ],
      "metadata": {
        "id": "Idu3cMhzCaP5",
        "colab": {
          "base_uri": "https://localhost:8080/"
        },
        "outputId": "ed60eabf-4de8-48b9-de75-5c688cbd1913"
      },
      "execution_count": 36,
      "outputs": [
        {
          "output_type": "execute_result",
          "data": {
            "text/plain": [
              "[Sentence(\"Darren Pfeiffer born 28 September 1987 is a former professional Australian rules footballer who played for the Carlton Football Club and Port Adelaide Football Club in the Australian Football League AFL.\"),\n",
              " Sentence(\"Pfeiffer played early football for Norwood in the SANFL under 19s, before being drafted by the Adelaide Football Club in the 2005 AFL National Draft with its first round selection No.\"),\n",
              " Sentence(\"17 overall.\"),\n",
              " Sentence(\"After suffering injury setbacks and, by his own admission, a lack of application, he was delisted at the end of 2007 without playing a senior game.\"),\n",
              " Sentence(\"Pfeiffer nominated in the 2008 Pre-Season Draft, and was selected by Carlton with its selection No.\"),\n",
              " Sentence(\"2 overall, and made his AFL debut in round 2 of the 2008 season.\"),\n",
              " Sentence(\"Pfeiffer was a late inclusion into the Carlton team for round 9 against Fremantle at the Telstra Dome.\"),\n",
              " Sentence(\"It was Pfeiffer goal in the dying minutes that sealed a come from behind victory for Carlton.\"),\n",
              " Sentence(\"He was moved to the rookie list in 2009 being delisted then redrafted with the No.\"),\n",
              " Sentence(\"51 overall pick in the 2009 Rookie Draft, but experienced an injury interrupted 2009 season.\"),\n",
              " Sentence(\"He underwent a shoulder reconstruction earlier in the year and registering only his first senior game for Carlton VFL-affiliate, the Northern Bullants, in round 17 before going on to be a member of their losing Grand Final side.\"),\n",
              " Sentence(\"He could not gain selection for Carlton during 2009 and was delisted again at the end of the season, requiring a second shoulder operation.\"),\n",
              " Sentence(\"Pfeiffer moved to Queensland in 2010, spending a one-season stint at Southport in the Queensland Australian Football League QAFL,  where he finished second in the Grogan Medal.\"),\n",
              " Sentence(\"He returned to his former SANFL team, Norwood, in 2011, and was recruited to AFL team Port Adelaide as a rookie for the 2012 season.\"),\n",
              " Sentence(\"Pfeiffer played sixteen games for Port Adelaide in 2012, but further injuries hampered his 2013 season, and he was delisted at the end of the year, having undergone a total of four shoulder reconstructions in his AFL career.\"),\n",
              " Sentence(\"He won an SANFL premiership with Norwood in 2013, where he still played while on reserve for Port Adelaide.\"),\n",
              " Sentence(\"In 2014, Pfeiffer moved back to Queensland to study at university, and signed with the Redland Football Club in the North East Australian Football League NEAFL.\"),\n",
              " Sentence(\"In October 2014, Pfeiffer accepted a one-year contract for season 2015 as senior coach of the University of Queensland Australian Football Club QAFL side.\"),\n",
              " Sentence(\"He is currently residing in Sydney, and is the Coach Education Manager for AFL Sydney.\"),\n",
              " Sentence(\"References External links Darren Pfeiffer profile on the official website of the Port Adelaide Football Club Darren Pfeiffer playing statistics from AFL Tables\")]"
            ]
          },
          "metadata": {},
          "execution_count": 36
        }
      ]
    },
    {
      "cell_type": "code",
      "source": [
        "len(wiki_blob.sentences)"
      ],
      "metadata": {
        "colab": {
          "base_uri": "https://localhost:8080/"
        },
        "id": "4qFAmdtpJHKA",
        "outputId": "4d94eb41-12aa-4e4b-be51-439128523898"
      },
      "execution_count": 37,
      "outputs": [
        {
          "output_type": "execute_result",
          "data": {
            "text/plain": [
              "20"
            ]
          },
          "metadata": {},
          "execution_count": 37
        }
      ]
    },
    {
      "cell_type": "code",
      "source": [
        "#pip install wikipedia-api\n"
      ],
      "metadata": {
        "id": "MarKy64jEF1F"
      },
      "execution_count": 38,
      "outputs": []
    },
    {
      "cell_type": "code",
      "source": [
        "\n",
        "\n",
        "# List of people\n",
        "people = [\n",
        "    'Digby Morrell', 'Steven Browne', 'Peter Freeman (footballer)',\n",
        "    'Lindsay Smith (Australian footballer)', 'Earl Spalding',\n",
        "    'Relton Roberts', 'Mark Austin (footballer)', 'Todd Curley',\n",
        "    'Daniel Harris (footballer)', 'Richard Ambrose', 'Darren Pfeiffer'\n",
        "]\n",
        "\n",
        "# Initialize an empty list to store text\n",
        "text_list = []\n",
        "\n",
        "# Iterate over each person and fetch their Wikipedia page\n",
        "for topic in people:\n",
        "    page_ex = wiki_api.page(topic)  # Use the instance to fetch the page\n",
        "    if page_ex.exists():  # Check if the page exists\n",
        "        wiki_text = page_ex.text  # Extract the text from the page\n",
        "        text_list.append(wiki_text)  # Append the text to the list\n",
        "        print(f\"Text for {topic} added.\")  # Inform the user\n",
        "    else:\n",
        "        print(f\"Page for '{topic}' does not exist.\")  # Inform the user if the page doesn't exist\n",
        "\n",
        "\n"
      ],
      "metadata": {
        "colab": {
          "base_uri": "https://localhost:8080/"
        },
        "id": "m4P0gHJRXC50",
        "outputId": "4c18e28b-aa57-4ae5-8486-6e300201c45b"
      },
      "execution_count": 39,
      "outputs": [
        {
          "output_type": "stream",
          "name": "stdout",
          "text": [
            "Text for Digby Morrell added.\n",
            "Text for Steven Browne added.\n",
            "Text for Peter Freeman (footballer) added.\n",
            "Text for Lindsay Smith (Australian footballer) added.\n",
            "Text for Earl Spalding added.\n",
            "Text for Relton Roberts added.\n",
            "Text for Mark Austin (footballer) added.\n",
            "Text for Todd Curley added.\n",
            "Text for Daniel Harris (footballer) added.\n",
            "Text for Richard Ambrose added.\n",
            "Text for Darren Pfeiffer added.\n"
          ]
        }
      ]
    },
    {
      "cell_type": "code",
      "source": [
        "print(len(text_list))  # Number of successfully fetched topics\n",
        "print(text_list[0])    # Text of the first topic\n",
        "\n"
      ],
      "metadata": {
        "colab": {
          "base_uri": "https://localhost:8080/"
        },
        "id": "LlwqKeRJXC9G",
        "outputId": "edafe290-0f86-4ea7-829b-93a327a10bdb"
      },
      "execution_count": 40,
      "outputs": [
        {
          "output_type": "stream",
          "name": "stdout",
          "text": [
            "11\n",
            "Digby Morrell (born 10 October 1979) is a former Australian rules footballer who played with the Kangaroos and Carlton in the Australian Football League (AFL).\n",
            "From Western Australia, Morrell played his early senior football for West Perth. His 44-game senior career for the Falcons spanned 1998–2000, and he was the club's leading goalkicker in 2000. At the age of 21, Morrell was recruited to the Australian Football League by the North Melbourne Football Club with it’s third round selection in the 2001 AFL Rookie Draft. As a forward he twice kicked five goals during his time with the Kangaroos. The first was in a losing cause against Sydney in 2002 and the other the following season in a drawn game against Brisbane.\n",
            "After the 2003 season, Morrell was traded, along with David Teague, to the Carlton Football Club in exchange for Corey McKernan. He played 32 games for the Blues before being delisted at the end of 2005. He continued to play Victorian Football League (VFL) football with the Northern Bullants, Carlton's VFL-affiliate in 2006, and acted as playing assistant coach in 2007. In 2008, he shifted to the Box Hill Hawks, before retiring from playing at the end of the season. From 2009 until 2013, Morrell was the senior coach of the Strathmore Football Club in the Essendon District Football League, leading the club to the 2011 Premier Division premiership.from 2014 - 2018 he was the senior coach of the West Coburg Football Club, also in the EDFL.\n",
            "In September 2018 he was appointed new coach of the Pascoe Vale Football Club. In September 2023 Pascoe Vale announced that Morrell would no longer coach the Club and had been replaced by Leigh Tudor.\n",
            "He currently teaches physical education at the Parade College Bundoora campus in Melbourne.\n",
            "\n",
            "References\n",
            "External links\n",
            "\n",
            "Digby Morrell's playing statistics from AFL Tables\n"
          ]
        }
      ]
    },
    {
      "cell_type": "markdown",
      "source": [
        "Clean the text data"
      ],
      "metadata": {
        "id": "wxiLPEKXsTQg"
      }
    },
    {
      "cell_type": "code",
      "source": [
        "len(people)"
      ],
      "metadata": {
        "colab": {
          "base_uri": "https://localhost:8080/"
        },
        "id": "c0MzfIC4yApJ",
        "outputId": "a020d3a8-5579-4930-be99-a5b1dde52cf3"
      },
      "execution_count": 41,
      "outputs": [
        {
          "output_type": "execute_result",
          "data": {
            "text/plain": [
              "11"
            ]
          },
          "metadata": {},
          "execution_count": 41
        }
      ]
    },
    {
      "cell_type": "code",
      "source": [
        "def clean_text(text):\n",
        "    text = text.lower()\n",
        "    text = text.replace(\"\\n\", \" \")\n",
        "    text = text.replace(\"\\'\", \"\")\n",
        "    text = text.replace(\"(\", \"\")\n",
        "    text = text.replace(\")\", \"\")\n",
        "    text = text.replace('\"', \"\")\n",
        "    return text\n",
        "\n",
        "cleaned_text_list = [clean_text(text) for text in text_list]\n",
        "\n",
        "for i, text in enumerate(cleaned_text_list):\n",
        "    print(f\"Text for {people[i]}:\")\n",
        "    print(text)\n",
        "    print(\"\\n\")\n",
        "\n"
      ],
      "metadata": {
        "colab": {
          "base_uri": "https://localhost:8080/"
        },
        "id": "OdmfgTPcXC3Q",
        "outputId": "d0aeb336-0cf4-4829-87e0-6b314336bd98"
      },
      "execution_count": 42,
      "outputs": [
        {
          "output_type": "stream",
          "name": "stdout",
          "text": [
            "Text for Digby Morrell:\n",
            "digby morrell born 10 october 1979 is a former australian rules footballer who played with the kangaroos and carlton in the australian football league afl. from western australia, morrell played his early senior football for west perth. his 44-game senior career for the falcons spanned 1998–2000, and he was the clubs leading goalkicker in 2000. at the age of 21, morrell was recruited to the australian football league by the north melbourne football club with it’s third round selection in the 2001 afl rookie draft. as a forward he twice kicked five goals during his time with the kangaroos. the first was in a losing cause against sydney in 2002 and the other the following season in a drawn game against brisbane. after the 2003 season, morrell was traded, along with david teague, to the carlton football club in exchange for corey mckernan. he played 32 games for the blues before being delisted at the end of 2005. he continued to play victorian football league vfl football with the northern bullants, carltons vfl-affiliate in 2006, and acted as playing assistant coach in 2007. in 2008, he shifted to the box hill hawks, before retiring from playing at the end of the season. from 2009 until 2013, morrell was the senior coach of the strathmore football club in the essendon district football league, leading the club to the 2011 premier division premiership.from 2014 - 2018 he was the senior coach of the west coburg football club, also in the edfl. in september 2018 he was appointed new coach of the pascoe vale football club. in september 2023 pascoe vale announced that morrell would no longer coach the club and had been replaced by leigh tudor. he currently teaches physical education at the parade college bundoora campus in melbourne.  references external links  digby morrells playing statistics from afl tables\n",
            "\n",
            "\n",
            "Text for Steven Browne:\n",
            "steven browne born 1 february 1989 is an australian rules footballer who played for the carlton football club in the australian football league afl from 2008–2010. he later played for west perth in the west australian football league wafl.  career browne played his junior football with the whitford junior football club in western australia. he played six games of senior football with west perth as an eighteen-year-old in late 2007, and represented western australia in the nab under-18s championship. he was selected by the carlton football club in the 2007 afl national draft with a third round draft selection #36 overall. he plays primarily as a rebounding half-backman who can rotate into the midfield. browne made his afl debut in the sixth round of the 2008 season against adelaide at the mcg, and played thirteen games for the season. he played seven games with carlton in the 2009 season, spending much of the rest of the time with carltons vfl-affiliate, the northern bullants, where he played in the clubs losing grand final. he managed just three games in 2010, and was delisted at the end of the season. he returned to western australia, and to his old club west perth, in 2011. he won a premiership with the club in 2013, and played there until 2016, finishing his wafl career with 135 senior games for the club.  references external links steven brownes playing statistics from afl tables steven brownes profile at wafl online blueseum profile of steven browne\n",
            "\n",
            "\n",
            "Text for Peter Freeman (footballer):\n",
            "peter freeman born 1 april 1969 is a former australian rules footballer who played for the st kilda football club in the victorian football league vfl and west perth football club in the west australian football league wafl. playing in a number of positions in both the forward and back lines, freeman played five games for st kilda, debuting against carlton in round 15 of the 1988 season. he also finished runner-up in the clubs reserves best and fairest in 1989. he was delisted by st kilda at the end of the 1991 afl season, but was subsequently drafted by the west coast eagles with the 42nd pick in the 1991 national draft.  moving to perth, western australia, freeman was unable to break into west coasts line-up, and instead played for west perth in the wafl. after being delisted from west coast at the end of the 1992 season, he remained with west perth for several seasons, leading the clubs goalkicking in 1994. he later returned to melbourne, where he played for the frankston football club in the victorian football league vfl. freeman also coached several teams at amateur level, including the frankston ycw and langwarrin football clubs in the mornington peninsula nepean football league mpnfl.  see also list of de-listed west coast eagles players list of st kilda football club players list of vfl debuts in 1988   == references ==\n",
            "\n",
            "\n",
            "Text for Lindsay Smith (Australian footballer):\n",
            "lindsay smith born 29 february 1980 is a former australian rules footballer who played with kangaroos and carlton in the australian football league. a tall, key position/ruckman, originally from bordertown in the kowree-naracoorte-tatiara football league. he was originally recruited to the sanfl by glenelg football club, and from there was recruited to the australian football league by the north melbourne football club in the 1999 national draft, with a fifth round draft pick no. 77 overall. smith spent two years on the north melbourne playing list, but managed only one senior game, in round 8, 2001 against st kilda. after the 2001 season, smith was traded to the carlton football club in exchange for a fifth round draft pick no. 61 overall. he played three games in one season for carlton before being delisted. smith returned to play one season for bordertown in 2003, where he won the kntfl league best and fairest. from 2004 until 2011, smith played for geelong amateur in the bellarine football league. he was regularly one of the leagues top players, and won the league best and fairest in 2009. smith was named as first ruck in the geelong amateur team of the decade, and won two premierships with the club. he retired from playing after the 2011 season, at age 31.  sources  holmesby, russell & main, jim 2009. the encyclopedia of afl footballers. 8th ed. melbourne: bas publishing. lindsay smiths playing statistics from afl tables lindsay smiths profile at blueseum\n",
            "\n",
            "\n",
            "Text for Earl Spalding:\n",
            "earl george spalding born 11 march 1965 in south perth is a former australian rules footballer who played for melbourne and carlton in the victorian football league/australian football league vfl/afl, as well as for perth and east fremantle in the west australian football league. he is known as the duke or snake because of his unusual running style, and also the golf ball in reference to his surname. spalding grew up in perth, western australia, where he attended wesley college. his father, george spalding, was a well-known west australian national football league wanfl player with the perth football club. after leaving school, spalding played for 63 games for perth between 1983 and 1986, reaching the preliminary final in 1986. he also played four games of first-class cricket for western australia as a fast bowler, during the 1984/85 season, taking 12 wickets at an average of 25.66. he started his vfl/afl career with melbourne and was there from 1987 to 1991, playing 109 games. the following season he signed with carlton and played all 22 games for the year. he played in a premiership with carlton in 1995, a year in which he played all 25 games and brought up his 250th game of elite australian rules football, and in 1996 played his 200th game in the vfl/afl.  he played his last senior afl game in 1997 before returning to western australia to play for east fremantle alongside his brother scott, who also played one game for carlton in 1993. earl played 32 games over the next two seasons, including their 1998 wafl premiership winning team, and retired at the end of the 1999 season, having played 306 games across the wafl and vfl/afl. spalding was the reserves and assistant coach at east fremantle in 2000 before becoming the league coach in 2001. he resigned from the position at the end of the 2002 season, and since then has working with the fremantle football club as an assistant coach. spalding was appointed senior coach of the perth demons football club in 2015. with an extremely young list and a deliberate policy not to recruit extensively so that the young players could develop, perth won only two games in 2015. in 2016, the team has won six of its first 14 games, including a victory over top team subiaco.  statistics references external links earl spaldings playing statistics from afl tables\n",
            "\n",
            "\n",
            "Text for Relton Roberts:\n",
            "relton roberts born 1 march 1986 is a former professional australian rules footballer who played for richmond football club in the australian football league afl. attaining mythic status after his retirement, roberts is said to have ascended to a higher plane of footballing ability sometime during the 2010s, and is widely considered to be the most significant figure in australian rules football. born in ngukurr, northern territory, roberts played for a number of teams, including the arnhem crows in the katherine district football league kdfl, wanderers football club in the darwin-based northern territory football league ntfl, nt thunder in the queensland australian football league qafl and euroa football club in the northern victorian-based goulburn valley football netball league gvfl. roberts was drafted by richmond in the third round of the 2010 rookie draft and made his senior afl debut against carlton in round 1 of the 2010 afl season. he would play only once more for richmond, when he was knocked out and after playing a handful of matches for richmonds victorian football league vfl affiliate coburg football club, where he was in trouble for breaking a night curfew and warned for eating a hamburger before a match, roberts returned to the northern territory, citing homesickness. roberts began the 2010/11 ntfl season with wanderers but was dropped to their reserves side after some poor performances before making a return to the senior side late in the season. roberts was recruited for the 2012 season to walla walla football club in the southern new south wales based hume football league. in 2014, roberts turned out for ouyen united in the mallee football league in north-west victoria.  references external links relton robertss playing statistics from afl tables\n",
            "\n",
            "\n",
            "Text for Mark Austin (footballer):\n",
            "mark austin born 24 february 1989 is an australian rules footballer who played for the carlton football club and western bulldogs in the australian football league afl. austin played two senior games for the glenelg tigers in the 2006 south australian national football league sanfl season, and was subsequently selected in the 2006 afl national draft in the third round 35th pick overall by carlton, who also selected school friend and glenelg teammate bryce gibbs in the same draft. throughout the first two seasons of his career, austin played primarily with carltons vfl-affiliate, the northern bullants. he made his afl debut in the final round of the 2007 season. he temporarily became a regular in carltons defence during 2009, playing as the third tall defender, although often against taller opponents, as carltons defenders were hit by injury in 2009; however, he also succumbed to injury in the latter part of that season, missing the last few rounds of the year and much of the pre-season. in 2010 and 2011, austin played almost exclusively with the northern bullants, and played his 50th game for the vfl club in late 2010; he managed only one game for carlton over those two years, and was delisted at the end of the 2011 season. austin was granted a second chance at afl level when he was the last player selected by the western bulldogs in the 2012 rookie draft 76th pick overall. austin was delisted at the conclusion of the 2014 afl season. he will play for essendon district football league club aberfeldie in 2015.  references external links mark austins profile on the official website of the western bulldogs mark austins playing statistics from afl tables\n",
            "\n",
            "\n",
            "Text for Todd Curley:\n",
            "todd curley born 14 january 1973 is a former australian rules footballer, who played for collingwood and the western bulldogs in the australian football league afl, and played and coached for the west perth football club in the west australian football league.  he was appointed coach of the south fremantle football club for the 2015 wafl season. he was drafted in the 1991 afl draft to collingwood at pick number 41 from west perth football club. he did not make his afl debut for collingwood until 1994, and played just 3 games for them in that season, acquiring 13 disposals and scoring 1 goal. he was delisted at the end of the season, and nominated for the 1995 national draft, in which he was picked up by the western bulldogs at pick number 29 overall. he had a successful career at the bulldogs, playing a total of 115 games for them across 6 seasons, including playing all games in 1998, 1999 and missing just one game in the 2000 season. in 2001 he was controversially banned for 4 matches for making contact with an umpire. the period of this ban was later halved on appeal, but his football career never recovered and by 2002 he was back playing for west perth. he finished his afl career with 118 games, and 48 goals. he continued playing football for west perth in the western australian football league, and was announced their captain for the 2005 wafl season, although decided to retire at the end of that season. he played a total of 147 games for west perth. in december 2005, he was announced as the new coach for west perth, after being selected from a strong list of applicants. in october 2007, at the clubs best and fairest night, it was announced that todd had signed on for the next two years as head coach.  in 2008, however, he left west perth to be an assistant coach at fremantle under senior coach mark harvey.  in march 2012, four days before the first game of the 2012 afl season he announced that he was resigning to take up a work opportunity outside of football. following the resignation of paul hasleby during the 2014 wafl season, curley was announced as the senior coach of south fremantle football club for the 2015 season. 2017 sees todd take the bulldogs deep in to the wafl final series  references external links todd curleys playing statistics from afl tables west perth football club official website\n",
            "\n",
            "\n",
            "Text for Daniel Harris (footballer):\n",
            "daniel harris born 10 may 1982 is a former professional australian rules footballer who played for the north melbourne football club and gold coast football club in the australian football league afl. he played as a midfielder and has been noted as one of the best centre clearance players in the league.  he was also one of the leagues best tacklers, making the top ten for most tackles in each season between 2006 and 2008.  after being delisted by north melbourne he was drafted with the first selection in the 2010 rookie draft as a mature age rookie to join the new gold coast football club in the victorian football league vfl in 2010. he was drafted with the 14th selection in the 2000 afl draft from the bendigo pioneers and has played 149 matches for the kangaroos in his eight seasons at the club.  harris started strongly, winning an afl rising star award nomination in only his second match. however, he only played the next four games before being dropped back to play for the murray kangaroos in the vfl.  he played only a further two senior games in 2001 and only four games in 2002. the 2004 afl season would see harris cement his spot in the side and he only missed two games in the kangaroos next five seasons. at the conclusion of the 2008 season, harris requested to leave north melbourne over an apparent feud with coach dean laidley. but a trade was not forthcoming and harris spent the start of the 2009 playing in the vfl, but returned to play ten games during the season.  he was delisted at the end of the season, but joined the gold coast football club. harris retired on 16 august 2011 due to an ongoing groin problem. he finished with 160 afl games.  references external links  biography from the official afl website of north melbourne daniel harriss playing statistics from afl tables\n",
            "\n",
            "\n",
            "Text for Richard Ambrose:\n",
            "richard ambrose born 10 june 1972 is a former australian rules footballer who played with the sydney swans in the australian football league afl. he also played for port adelaide in the south australian national football league sanfl and subiaco in the west australian football league wafl. a key position player, ambrose started his afl career at essendon after being picked up by the club with the 21st selection of the 1990 afl draft. he was however restricted to the reserves and was unable to break into the seniors over two seasons. he was one of three players that essendon traded to sydney at the end of 1992 in return for the 20th draft pick, which was used on scott cummings. the others were ed considine and michael werner. ambrose, who hailed from shepparton, finally made his league debut in 1993 when he was part of the sydney team which took on the west coast eagles at the scg. he played just two more games for the club, a win over melbourne and loss to adelaide, both at home. leaving sydney after just one season, ambrose arrived at sanfl club port adelaide in 1994 and played for five seasons. he was a south australian interstate representative and participated in finals football every season he was at the club, culminating in a grand final loss in 1997 and a member of ports 1998 premiership team. he moved to subiaco in 1999 and by playing in the wafl had distinction of being part of clubs from four different states during the 1990s. at this stage the league was named the westar rules and he was the competitions best player in 2000 when he won the sandover medal as a centre half forward. he polled 34 votes to beat teammate michael symons and in doing so became the first ever forward from subiaco to win the award. ambrose participated in finals football every season he was at the club, culminating in a grand final loss in 2003 and premiership in 2004. he was a regular western australian interstate representative. ambrose signed with corowa-rutherglen in 2005. he played for the ovens and murray football league club until retiring after the 2008 season, although he made a comeback in 2009 and then again in 2011 with benalla football club. his return to this goulburn valley football netball league club capped off a senior football career spanning over twenty years including four different decades. he currently resides in bryon bay australia with his partner alice and their young daughter dorothea.   == references ==\n",
            "\n",
            "\n",
            "Text for Darren Pfeiffer:\n",
            "darren pfeiffer born 28 september 1987 is a former professional australian rules footballer who played for the carlton football club and port adelaide football club in the australian football league afl. pfeiffer played early football for norwood in the sanfl under 19s, before being drafted by the adelaide football club in the 2005 afl national draft with its first round selection no. 17 overall. after suffering injury setbacks and, by his own admission, a lack of application, he was delisted at the end of 2007 without playing a senior game. pfeiffer nominated in the 2008 pre-season draft, and was selected by carlton with its selection no. 2 overall, and made his afl debut in round 2 of the 2008 season. pfeiffer was a late inclusion into the carlton team for round 9 against fremantle at the telstra dome. it was pfeiffers goal in the dying minutes that sealed a come from behind victory for carlton. he was moved to the rookie list in 2009 being delisted then redrafted with the no. 51 overall pick in the 2009 rookie draft, but experienced an injury interrupted 2009 season. he underwent a shoulder reconstruction earlier in the year and registering only his first senior game for carltons vfl-affiliate, the northern bullants, in round 17 before going on to be a member of their losing grand final side. he could not gain selection for carlton during 2009 and was delisted again at the end of the season, requiring a second shoulder operation. pfeiffer moved to queensland in 2010, spending a one-season stint at southport in the queensland australian football league qafl,  where he finished second in the grogan medal. he returned to his former sanfl team, norwood, in 2011, and was recruited to afl team port adelaide as a rookie for the 2012 season. pfeiffer played sixteen games for port adelaide in 2012, but further injuries hampered his 2013 season, and he was delisted at the end of the year, having undergone a total of four shoulder reconstructions in his afl career. he won an sanfl premiership with norwood in 2013, where he still played while on reserve for port adelaide. in 2014, pfeiffer moved back to queensland to study at university, and signed with the redland football club in the north east australian football league neafl. in october 2014, pfeiffer accepted a one-year contract for season 2015 as senior coach of the university of queensland australian football club qafl side. he is currently residing in sydney, and is the coach education manager for afl sydney.  references external links darren pfeiffers profile on the official website of the port adelaide football club darren pfeiffers playing statistics from afl tables\n",
            "\n",
            "\n"
          ]
        }
      ]
    },
    {
      "cell_type": "markdown",
      "source": [
        "Sentiment Analysis"
      ],
      "metadata": {
        "id": "HZzlHDcVsDdI"
      }
    },
    {
      "cell_type": "code",
      "source": [
        "len(cleaned_text_list)"
      ],
      "metadata": {
        "colab": {
          "base_uri": "https://localhost:8080/"
        },
        "id": "va-ARBDKxIG5",
        "outputId": "acf08a6c-1116-4a03-8311-0862e730808a"
      },
      "execution_count": 43,
      "outputs": [
        {
          "output_type": "execute_result",
          "data": {
            "text/plain": [
              "11"
            ]
          },
          "metadata": {},
          "execution_count": 43
        }
      ]
    },
    {
      "cell_type": "code",
      "source": [
        "for i, text in enumerate(cleaned_text_list[0:11]):\n",
        "    blob = TextBlob(text)\n",
        "    print(f\"Sentiment for Text {i+1}: {blob.sentiment}\")\n",
        "    print(\"\\n\")"
      ],
      "metadata": {
        "colab": {
          "base_uri": "https://localhost:8080/"
        },
        "id": "XkvNjxJvo7vT",
        "outputId": "8e98a9b2-922b-4376-8a8b-ce80cd44933d"
      },
      "execution_count": 44,
      "outputs": [
        {
          "output_type": "stream",
          "name": "stdout",
          "text": [
            "Sentiment for Text 1: Sentiment(polarity=-0.02874331550802139, subjectivity=0.1905334861217214)\n",
            "\n",
            "\n",
            "Sentiment for Text 2: Sentiment(polarity=0.027777777777777776, subjectivity=0.2444444444444444)\n",
            "\n",
            "\n",
            "Sentiment for Text 3: Sentiment(polarity=0.0038461538461538494, subjectivity=0.11538461538461539)\n",
            "\n",
            "\n",
            "Sentiment for Text 4: Sentiment(polarity=0.0898550724637681, subjectivity=0.32798216276477143)\n",
            "\n",
            "\n",
            "Sentiment for Text 5: Sentiment(polarity=0.01964285714285714, subjectivity=0.33690476190476193)\n",
            "\n",
            "\n",
            "Sentiment for Text 6: Sentiment(polarity=0.021969696969696976, subjectivity=0.31569264069264064)\n",
            "\n",
            "\n",
            "Sentiment for Text 7: Sentiment(polarity=-0.035, subjectivity=0.19561965811965812)\n",
            "\n",
            "\n",
            "Sentiment for Text 8: Sentiment(polarity=0.07309299895506792, subjectivity=0.2662486938349007)\n",
            "\n",
            "\n",
            "Sentiment for Text 9: Sentiment(polarity=0.13969155844155842, subjectivity=0.3486742424242424)\n",
            "\n",
            "\n",
            "Sentiment for Text 10: Sentiment(polarity=0.13511904761904764, subjectivity=0.3813186813186813)\n",
            "\n",
            "\n",
            "Sentiment for Text 11: Sentiment(polarity=0.008571428571428568, subjectivity=0.34047619047619043)\n",
            "\n",
            "\n"
          ]
        }
      ]
    },
    {
      "cell_type": "markdown",
      "source": [
        "#**TF-IDF**"
      ],
      "metadata": {
        "id": "EP8BoY48r5-Z"
      }
    },
    {
      "cell_type": "code",
      "source": [
        "# Vectorize the text\n",
        "vectorizer = TfidfVectorizer(stop_words='english')\n",
        "tfidf_matrix = vectorizer.fit_transform(cleaned_text_list)\n",
        "\n",
        "print(f\"TF-IDF matrix shape: {tfidf_matrix.shape}\")\n"
      ],
      "metadata": {
        "colab": {
          "base_uri": "https://localhost:8080/"
        },
        "id": "kxJ6ARvBo7iK",
        "outputId": "449d6de3-61d6-49ff-8e8e-12399fac9f05"
      },
      "execution_count": 45,
      "outputs": [
        {
          "output_type": "stream",
          "name": "stdout",
          "text": [
            "TF-IDF matrix shape: (11, 661)\n"
          ]
        }
      ]
    },
    {
      "cell_type": "code",
      "source": [
        "type(bow_matrix), bow_matrix.shape"
      ],
      "metadata": {
        "colab": {
          "base_uri": "https://localhost:8080/"
        },
        "id": "ghUvlALc35Rm",
        "outputId": "6ad277e4-3637-4a94-dd14-28c27f8f6f1c"
      },
      "execution_count": 46,
      "outputs": [
        {
          "output_type": "execute_result",
          "data": {
            "text/plain": [
              "(scipy.sparse._csr.csr_matrix, (42786, 437190))"
            ]
          },
          "metadata": {},
          "execution_count": 46
        }
      ]
    },
    {
      "cell_type": "code",
      "source": [
        "# Calculate cosine similarity between all texts\n",
        "cosine_sim = cosine_similarity(tfidf_matrix, tfidf_matrix)\n"
      ],
      "metadata": {
        "id": "BZ_mcmV735A_"
      },
      "execution_count": 47,
      "outputs": []
    },
    {
      "cell_type": "markdown",
      "metadata": {
        "id": "skOLMwF0FQYn"
      },
      "source": [
        "###*Part 3*"
      ]
    },
    {
      "cell_type": "markdown",
      "source": [
        "### Natural Language Processing Project(NLP)"
      ],
      "metadata": {
        "id": "RDL9pYsWm3fE"
      }
    },
    {
      "cell_type": "markdown",
      "source": [
        "###Interactive Notebook\n",
        "\n",
        "This section demonstrates the analysis interactively using Python, allowing the exploration of text similarity and sentiment between Wikipedia articles.\n"
      ],
      "metadata": {
        "id": "rvJuXc5JC8k7"
      }
    },
    {
      "cell_type": "markdown",
      "source": [
        "#### Objective\n",
        "- To create an interactive analysis tool for comparing text similarity and sentiment.\n",
        "- To visualize the results from earlier steps using plots and outputs for better understanding.\n"
      ],
      "metadata": {
        "id": "bd05GsOVDS3w"
      }
    },
    {
      "cell_type": "code",
      "source": [
        "from ipywidgets import widgets\n",
        "from IPython.display import display\n",
        "\n",
        "dropdown = widgets.Dropdown(\n",
        "    options=text_list,\n",
        "    description='Select Text:',\n",
        "    disabled=False,\n",
        ")\n",
        "display(dropdown)\n"
      ],
      "metadata": {
        "colab": {
          "base_uri": "https://localhost:8080/",
          "height": 49,
          "referenced_widgets": [
            "b4b368ce96c64ebe8e809b702d30b455",
            "07d668472725456c9ad9c626693c720c",
            "16b72629cd1247648f26e607881e423b"
          ]
        },
        "id": "RKHduWdmDbxm",
        "outputId": "e699caff-3094-4e29-9e9f-65cb2a1ed7d2"
      },
      "execution_count": 77,
      "outputs": [
        {
          "output_type": "display_data",
          "data": {
            "text/plain": [
              "Dropdown(description='Select Text:', options=(\"Digby Morrell (born 10 October 1979) is a former Australian rul…"
            ],
            "application/vnd.jupyter.widget-view+json": {
              "version_major": 2,
              "version_minor": 0,
              "model_id": "b4b368ce96c64ebe8e809b702d30b455"
            }
          },
          "metadata": {}
        }
      ]
    },
    {
      "cell_type": "code",
      "source": [
        "# Function to calculate similarity for selected text\n",
        "def calculate_similarity(selected_text):\n",
        "    idx = text_list.index(selected_text)\n",
        "    selected_similarity = cosine_similarity(tfidf_matrix[idx], tfidf_matrix)\n",
        "    print(\"Similarity Scores:\", selected_similarity)\n",
        "\n",
        "# Trigger calculation on dropdown selection\n",
        "calculate_similarity(dropdown.value)\n",
        "print(\"Selected Text:\")"
      ],
      "metadata": {
        "colab": {
          "base_uri": "https://localhost:8080/"
        },
        "id": "_wX63JfDDooN",
        "outputId": "1a856529-c46f-4ecc-f838-fa03fb11053c"
      },
      "execution_count": 81,
      "outputs": [
        {
          "output_type": "stream",
          "name": "stdout",
          "text": [
            "Similarity Scores: [[0.19966514 0.27562698 0.15040169 0.19857452 0.20272866 0.16796422\n",
            "  1.         0.25350392 0.18941653 0.16410354 0.2529697 ]]\n",
            "Selected Text:\n"
          ]
        }
      ]
    },
    {
      "cell_type": "markdown",
      "source": [
        "\n",
        "#### *Introduction*\n",
        "\n",
        "This project uses NLP techniques to analyze and find similarities between famous people based on Wikipedia data.\n",
        "\n",
        "## Problem Definition\n",
        "\n",
        "This project aims to analyze descriptions of famous people using Natural Language Processing (NLP). Our goal is to find similarities between profiles based on their content and to analyze the sentiment of these descriptions. By doing this, we want to create an interactive tool that helps users explore connections between public figures based on their descriptions.\n"
      ],
      "metadata": {
        "id": "WzZyb6cTmyNZ"
      }
    },
    {
      "cell_type": "code",
      "execution_count": 70,
      "metadata": {
        "id": "ZBRFAV5_6JHH"
      },
      "outputs": [],
      "source": [
        "# Assuming 'text_list' contains your 11 texts\n",
        "vectorizer = TfidfVectorizer(stop_words='english')\n",
        "tfidf_matrix = vectorizer.fit_transform(text_list)  # Create TF-IDF matrix\n"
      ]
    },
    {
      "cell_type": "code",
      "execution_count": 71,
      "metadata": {
        "id": "a-xKQH63g6Hr"
      },
      "outputs": [],
      "source": [
        "# Assuming the first text is your reference\n",
        "reference_index = 0\n",
        "similarity_scores = cosine_sim[reference_index]\n",
        "\n",
        "# Get the indices of the 11 nearest neighbors, sorted by similarity\n",
        "nearest_neighbors = np.argsort(similarity_scores)[::-1][:11]  # Includes the reference itself\n"
      ]
    },
    {
      "cell_type": "code",
      "execution_count": 72,
      "metadata": {
        "id": "M8_UidlZ9bBK",
        "colab": {
          "base_uri": "https://localhost:8080/"
        },
        "outputId": "9a3f66ad-a9d0-40de-beb8-33217cb093ac"
      },
      "outputs": [
        {
          "output_type": "stream",
          "name": "stdout",
          "text": [
            "Text 0: Digby Morrell (born 10 October 1979) is a former Australian rules footballer who played with the Kangaroos and Carlton in the Australian Football League (AFL).\n",
            "From Western Australia, Morrell played his early senior football for West Perth. His 44-game senior career for the Falcons spanned 1998–2000, and he was the club's leading goalkicker in 2000. At the age of 21, Morrell was recruited to the Australian Football League by the North Melbourne Football Club with it’s third round selection in the 2001 AFL Rookie Draft. As a forward he twice kicked five goals during his time with the Kangaroos. The first was in a losing cause against Sydney in 2002 and the other the following season in a drawn game against Brisbane.\n",
            "After the 2003 season, Morrell was traded, along with David Teague, to the Carlton Football Club in exchange for Corey McKernan. He played 32 games for the Blues before being delisted at the end of 2005. He continued to play Victorian Football League (VFL) football with the Northern Bullants, Carlton's VFL-affiliate in 2006, and acted as playing assistant coach in 2007. In 2008, he shifted to the Box Hill Hawks, before retiring from playing at the end of the season. From 2009 until 2013, Morrell was the senior coach of the Strathmore Football Club in the Essendon District Football League, leading the club to the 2011 Premier Division premiership.from 2014 - 2018 he was the senior coach of the West Coburg Football Club, also in the EDFL.\n",
            "In September 2018 he was appointed new coach of the Pascoe Vale Football Club. In September 2023 Pascoe Vale announced that Morrell would no longer coach the Club and had been replaced by Leigh Tudor.\n",
            "He currently teaches physical education at the Parade College Bundoora campus in Melbourne.\n",
            "\n",
            "References\n",
            "External links\n",
            "\n",
            "Digby Morrell's playing statistics from AFL Tables\n",
            "Text 7: Todd Curley (born 14 January 1973) is a former Australian rules footballer, who played for Collingwood and the Western Bulldogs in the Australian Football League (AFL), and played and coached for the West Perth Football Club in the West Australian Football League.  He was appointed coach of the South Fremantle Football Club for the 2015 WAFL season.\n",
            "He was drafted in the 1991 AFL Draft to Collingwood at pick number 41 from West Perth Football Club. He did not make his AFL debut for Collingwood until 1994, and played just 3 games for them in that season, acquiring 13 disposals and scoring 1 goal. He was delisted at the end of the season, and nominated for the 1995 national draft, in which he was picked up by the Western Bulldogs at pick number 29 overall.\n",
            "He had a successful career at the Bulldogs, playing a total of 115 games for them across 6 seasons, including playing all games in 1998, 1999 and missing just one game in the 2000 season. In 2001 he was controversially banned for 4 matches for making contact with an umpire. The period of this ban was later halved on appeal, but his football career never recovered and by 2002 he was back playing for West Perth. He finished his AFL career with 118 games, and 48 goals.\n",
            "He continued playing football for West Perth in the Western Australian Football League, and was announced their captain for the 2005 WAFL season, although decided to retire at the end of that season. He played a total of 147 games for West Perth. In December 2005, he was announced as the new coach for West Perth, after being selected from a strong list of applicants. In October 2007, at the club's best and fairest night, it was announced that Todd had signed on for the next two years as head coach.  In 2008, however, he left West Perth to be an assistant coach at Fremantle under senior coach Mark Harvey.  In March 2012, four days before the first game of the 2012 AFL season he announced that he was resigning to take up a work opportunity outside of football.\n",
            "Following the resignation of Paul Hasleby during the 2014 WAFL season, Curley was announced as the senior coach of South Fremantle Football Club for the 2015 season.\n",
            "2017 sees Todd take the Bulldogs deep in to the WAFL Final Series\n",
            "\n",
            "References\n",
            "External links\n",
            "Todd Curley's playing statistics from AFL Tables\n",
            "West Perth Football Club Official website\n",
            "Text 4: Earl George Spalding (born 11 March 1965 in South Perth) is a former Australian rules footballer who played for Melbourne and Carlton in the Victorian Football League/Australian Football League (VFL/AFL), as well as for Perth and East Fremantle in the West Australian Football League. He is known as \"the Duke\" or \"Snake\" because of his unusual running style, and also the \"golf ball\" in reference to his surname.\n",
            "Spalding grew up in Perth, Western Australia, where he attended Wesley College. His father, George Spalding, was a well-known West Australian National Football League (WANFL) player with the Perth Football Club.\n",
            "After leaving school, Spalding played for 63 games for Perth between 1983 and 1986, reaching the preliminary final in 1986. He also played four games of first-class cricket for Western Australia as a fast bowler, during the 1984/85 season, taking 12 wickets at an average of 25.66.\n",
            "He started his VFL/AFL career with Melbourne and was there from 1987 to 1991, playing 109 games. The following season he signed with Carlton and played all 22 games for the year. He played in a premiership with Carlton in 1995, a year in which he played all 25 games and brought up his 250th game of elite Australian rules football, and in 1996 played his 200th game in the VFL/AFL. \n",
            "He played his last senior AFL game in 1997 before returning to Western Australia to play for East Fremantle alongside his brother Scott, who also played one game for Carlton in 1993. Earl played 32 games over the next two seasons, including their 1998 WAFL Premiership winning team, and retired at the end of the 1999 season, having played 306 games across the WAFL and VFL/AFL.\n",
            "Spalding was the reserves and assistant coach at East Fremantle in 2000 before becoming the league coach in 2001. He resigned from the position at the end of the 2002 season, and since then has working with the Fremantle Football Club as an assistant coach.\n",
            "Spalding was appointed senior coach of the Perth Demons Football Club in 2015. With an extremely young list and a deliberate policy not to recruit extensively so that the young players could develop, Perth won only two games in 2015. In 2016, the team has won six of its first 14 games, including a victory over top team Subiaco.\n",
            "\n",
            "Statistics\n",
            "References\n",
            "External links\n",
            "Earl Spalding's playing statistics from AFL Tables\n",
            "Text 1: Steven Browne (born 1 February 1989) is an Australian rules footballer who played for the Carlton Football Club in the Australian Football League (AFL) from 2008–2010. He later played for West Perth in the West Australian Football League (WAFL).\n",
            "\n",
            "Career\n",
            "Browne played his junior football with the Whitford Junior Football Club in Western Australia. He played six games of senior football with West Perth as an eighteen-year-old in late 2007, and represented Western Australia in the NAB Under-18s Championship. He was selected by the Carlton Football Club in the 2007 AFL National Draft with a third round draft selection (#36 overall). He plays primarily as a rebounding half-backman who can rotate into the midfield.\n",
            "Browne made his AFL debut in the sixth round of the 2008 season against Adelaide at the MCG, and played thirteen games for the season. He played seven games with Carlton in the 2009 season, spending much of the rest of the time with Carlton's VFL-affiliate, the Northern Bullants, where he played in the club's losing grand final. He managed just three games in 2010, and was delisted at the end of the season.\n",
            "He returned to Western Australia, and to his old club West Perth, in 2011. He won a premiership with the club in 2013, and played there until 2016, finishing his WAFL career with 135 senior games for the club.\n",
            "\n",
            "References\n",
            "External links\n",
            "Steven Browne's playing statistics from AFL Tables\n",
            "Steven Browne's profile at WAFL Online\n",
            "Blueseum profile of Steven Browne\n",
            "Text 8: Daniel Harris (born 10 May 1982) is a former professional Australian rules footballer who played for the North Melbourne Football Club and Gold Coast Football Club in the Australian Football League (AFL). He played as a midfielder and has been noted as one of the best centre clearance players in the league.  He was also one of the league's best tacklers, making the top ten for most tackles in each season between 2006 and 2008.  After being delisted by North Melbourne he was drafted with the first selection in the 2010 Rookie Draft as a mature age rookie to join the new Gold Coast Football Club in the Victorian Football League (VFL) in 2010.\n",
            "He was drafted with the 14th selection in the 2000 AFL Draft from the Bendigo Pioneers and has played 149 matches for the Kangaroos in his eight seasons at the club.  Harris started strongly, winning an AFL Rising Star award nomination in only his second match. However, he only played the next four games before being dropped back to play for the Murray Kangaroos in the VFL.  He played only a further two senior games in 2001 and only four games in 2002. The 2004 AFL season would see Harris cement his spot in the side and he only missed two games in the Kangaroos' next five seasons.\n",
            "At the conclusion of the 2008 season, Harris requested to leave North Melbourne over an apparent feud with coach Dean Laidley.\n",
            "But a trade was not forthcoming and Harris spent the start of the 2009 playing in the VFL, but returned to play ten games during the season.  He was delisted at the end of the season, but joined the Gold Coast Football Club. Harris retired on 16 August 2011 due to an ongoing groin problem. He finished with 160 AFL games.\n",
            "\n",
            "References\n",
            "External links\n",
            "\n",
            "Biography from the Official AFL website of North Melbourne\n",
            "Daniel Harris's playing statistics from AFL Tables\n",
            "Text 10: Darren Pfeiffer (born 28 September 1987) is a former professional Australian rules footballer who played for the Carlton Football Club and Port Adelaide Football Club in the Australian Football League (AFL).\n",
            "Pfeiffer played early football for Norwood in the SANFL under 19s, before being drafted by the Adelaide Football Club in the 2005 AFL National Draft with its first round selection (No. 17 overall). After suffering injury setbacks and, by his own admission, a lack of application, he was delisted at the end of 2007 without playing a senior game.\n",
            "Pfeiffer nominated in the 2008 Pre-Season Draft, and was selected by Carlton with its selection (No. 2 overall), and made his AFL debut in round 2 of the 2008 season. Pfeiffer was a late inclusion into the Carlton team for round 9 against Fremantle at the Telstra Dome. It was Pfeiffer's goal in the dying minutes that sealed a come from behind victory for Carlton. He was moved to the rookie list in 2009 (being delisted then redrafted with the No. 51 overall pick in the 2009 Rookie Draft), but experienced an injury interrupted 2009 season.\n",
            "He underwent a shoulder reconstruction earlier in the year and registering only his first senior game for Carlton's VFL-affiliate, the Northern Bullants, in round 17 before going on to be a member of their losing Grand Final side. He could not gain selection for Carlton during 2009 and was delisted again at the end of the season, requiring a second shoulder operation.\n",
            "Pfeiffer moved to Queensland in 2010, spending a one-season stint at Southport in the Queensland Australian Football League (QAFL),  where he finished second in the Grogan Medal. He returned to his former SANFL team, Norwood, in 2011, and was recruited to AFL team Port Adelaide as a rookie for the 2012 season. Pfeiffer played sixteen games for Port Adelaide in 2012, but further injuries hampered his 2013 season, and he was delisted at the end of the year, having undergone a total of four shoulder reconstructions in his AFL career. He won an SANFL premiership with Norwood in 2013, where he still played while on reserve for Port Adelaide.\n",
            "In 2014, Pfeiffer moved back to Queensland to study at university, and signed with the Redland Football Club in the North East Australian Football League (NEAFL). In October 2014, Pfeiffer accepted a one-year contract for season 2015 as senior coach of the University of Queensland Australian Football Club QAFL side.\n",
            "He is currently residing in Sydney, and is the Coach Education Manager for AFL Sydney.\n",
            "\n",
            "References\n",
            "External links\n",
            "Darren Pfeiffer's profile on the official website of the Port Adelaide Football Club\n",
            "Darren Pfeiffer's playing statistics from AFL Tables\n",
            "Text 2: Peter Freeman (born 1 April 1969) is a former Australian rules footballer who played for the St Kilda Football Club in the Victorian Football League (VFL) and West Perth Football Club in the West Australian Football League (WAFL).\n",
            "Playing in a number of positions in both the forward and back lines, Freeman played five games for St Kilda, debuting against Carlton in round 15 of the 1988 season. He also finished runner-up in the club's reserves best and fairest in 1989. He was delisted by St Kilda at the end of the 1991 AFL season, but was subsequently drafted by the West Coast Eagles with the 42nd pick in the 1991 National Draft. \n",
            "Moving to Perth, Western Australia, Freeman was unable to break into West Coast's line-up, and instead played for West Perth in the WAFL. After being delisted from West Coast at the end of the 1992 season, he remained with West Perth for several seasons, leading the club's goalkicking in 1994. He later returned to Melbourne, where he played for the Frankston Football Club in the Victorian Football League (VFL). Freeman also coached several teams at amateur level, including the Frankston YCW and Langwarrin Football Clubs in the Mornington Peninsula Nepean Football League (MPNFL).\n",
            "\n",
            "See also\n",
            "List of de-listed West Coast Eagles players\n",
            "List of St Kilda Football Club players\n",
            "List of VFL debuts in 1988\n",
            "\n",
            "\n",
            "== References ==\n",
            "Text 9: Richard Ambrose (born 10 June 1972) is a former Australian rules footballer who played with the Sydney Swans in the Australian Football League (AFL). He also played for Port Adelaide in the South Australian National Football League (SANFL) and Subiaco in the West Australian Football League (WAFL).\n",
            "A key position player, Ambrose started his AFL career at Essendon after being picked up by the club with the 21st selection of the 1990 AFL draft. He was however restricted to the reserves and was unable to break into the seniors over two seasons. He was one of three players that Essendon traded to Sydney at the end of 1992 in return for the 20th draft pick, which was used on Scott Cummings. The others were Ed Considine and Michael Werner.\n",
            "Ambrose, who hailed from Shepparton, finally made his league debut in 1993 when he was part of the Sydney team which took on the West Coast Eagles at the SCG. He played just two more games for the club, a win over Melbourne and loss to Adelaide, both at home.\n",
            "Leaving Sydney after just one season, Ambrose arrived at SANFL club Port Adelaide in 1994 and played for five seasons. He was a South Australian interstate representative and participated in finals football every season he was at the club, culminating in a grand final loss in 1997 and a member of Port's 1998 premiership team.\n",
            "He moved to Subiaco in 1999 and by playing in the WAFL had distinction of being part of clubs from four different states during the 1990s. At this stage the league was named the Westar Rules and he was the competition's best player in 2000 when he won the Sandover Medal as a centre half forward. He polled 34 votes to beat teammate Michael Symons and in doing so became the first ever forward from Subiaco to win the award. Ambrose participated in finals football every season he was at the club, culminating in a grand final loss in 2003 and premiership in 2004. He was a regular Western Australian interstate representative.\n",
            "Ambrose signed with Corowa-Rutherglen in 2005. He played for the Ovens and Murray Football League club until retiring after the 2008 season, although he made a comeback in 2009 and then again in 2011 with Benalla Football Club. His return to this Goulburn Valley Football Netball League club capped off a senior football career spanning over twenty years including four different decades. He currently resides in Bryon Bay Australia with his partner Alice and their young daughter Dorothea.\n",
            "\n",
            "\n",
            "== References ==\n",
            "Text 5: Relton Roberts (born 1 March 1986) is a former professional Australian rules footballer who played for Richmond Football Club in the Australian Football League (AFL). Attaining mythic status after his retirement, Roberts is said to have ascended to a higher plane of footballing ability sometime during the 2010s, and is widely considered to be the most significant figure in Australian Rules Football.\n",
            "Born in Ngukurr, Northern Territory, Roberts played for a number of teams, including the Arnhem Crows in the Katherine District Football League (KDFL), Wanderers Football Club in the Darwin-based Northern Territory Football League (NTFL), NT Thunder in the Queensland Australian Football League (QAFL) and Euroa Football Club in the northern Victorian-based Goulburn Valley Football Netball League (GVFL).\n",
            "Roberts was drafted by Richmond in the third round of the 2010 Rookie draft and made his senior AFL debut against Carlton in round 1 of the 2010 AFL season. He would play only once more for Richmond, when he was knocked out and after playing a handful of matches for Richmond's Victorian Football League (VFL) affiliate Coburg Football Club, where he was in trouble for breaking a night curfew and warned for eating a hamburger before a match, Roberts returned to the Northern Territory, citing homesickness.\n",
            "Roberts began the 2010/11 NTFL season with Wanderers but was dropped to their reserves side after some poor performances before making a return to the senior side late in the season. Roberts was recruited for the 2012 season to Walla Walla Football Club in the southern New South Wales based Hume Football League. In 2014, Roberts turned out for Ouyen United in the Mallee Football League in north-west Victoria.\n",
            "\n",
            "References\n",
            "External links\n",
            "Relton Roberts's playing statistics from AFL Tables\n",
            "Text 3: Lindsay Smith (born 29 February 1980) is a former Australian rules footballer who played with Kangaroos and Carlton in the Australian Football League.\n",
            "A tall, key position/ruckman, originally from Bordertown in the Kowree-Naracoorte-Tatiara Football League. He was originally recruited to the SANFL by Glenelg Football Club, and from there was recruited to the Australian Football League by the North Melbourne Football Club in the 1999 National Draft, with a fifth round draft pick (No. 77 overall). Smith spent two years on the North Melbourne playing list, but managed only one senior game, in Round 8, 2001 against St Kilda. After the 2001 season, Smith was traded to the Carlton Football Club in exchange for a fifth round draft pick (No. 61 overall). He played three games in one season for Carlton before being delisted.\n",
            "Smith returned to play one season for Bordertown in 2003, where he won the KNTFL League Best and Fairest. From 2004 until 2011, Smith played for Geelong Amateur in the Bellarine Football League. He was regularly one of the league's top players, and won the League Best and Fairest in 2009. Smith was named as first ruck in the Geelong Amateur Team of the Decade, and won two premierships with the club. He retired from playing after the 2011 season, at age 31.\n",
            "\n",
            "Sources\n",
            "\n",
            "Holmesby, Russell & Main, Jim (2009). The Encyclopedia of AFL Footballers. 8th ed. Melbourne: Bas Publishing.\n",
            "Lindsay Smith's playing statistics from AFL Tables\n",
            "Lindsay Smith's profile at Blueseum\n",
            "Text 6: Mark Austin (born 24 February 1989) is an Australian rules footballer who played for the Carlton Football Club and Western Bulldogs in the Australian Football League (AFL). Austin played two senior games for the Glenelg Tigers in the 2006 South Australian National Football League (SANFL) season, and was subsequently selected in the 2006 AFL National Draft in the third round (35th pick overall) by Carlton, who also selected school friend and Glenelg teammate Bryce Gibbs in the same draft.\n",
            "Throughout the first two seasons of his career, Austin played primarily with Carlton's VFL-affiliate, the Northern Bullants. He made his AFL debut in the final round of the 2007 season. He temporarily became a regular in Carlton's defence during 2009, playing as the third tall defender, although often against taller opponents, as Carlton's defenders were hit by injury in 2009; however, he also succumbed to injury in the latter part of that season, missing the last few rounds of the year and much of the pre-season. In 2010 and 2011, Austin played almost exclusively with the Northern Bullants, and played his 50th game for the VFL club in late 2010; he managed only one game for Carlton over those two years, and was delisted at the end of the 2011 season.\n",
            "Austin was granted a second chance at AFL level when he was the last player selected by the Western Bulldogs in the 2012 Rookie Draft (76th pick overall).\n",
            "Austin was delisted at the conclusion of the 2014 AFL season. He will play for Essendon District Football League club Aberfeldie in 2015.\n",
            "\n",
            "References\n",
            "External links\n",
            "Mark Austin's profile on the official website of the Western Bulldogs\n",
            "Mark Austin's playing statistics from AFL Tables\n"
          ]
        }
      ],
      "source": [
        "for index in nearest_neighbors:\n",
        "    print(f\"Text {index}: {text_list[index]}\")\n"
      ]
    },
    {
      "cell_type": "markdown",
      "source": [
        "#*Data Visualization*"
      ],
      "metadata": {
        "id": "LbnqER5LnvPK"
      }
    },
    {
      "cell_type": "code",
      "execution_count": 73,
      "metadata": {
        "id": "X_vq10QTg6BB",
        "colab": {
          "base_uri": "https://localhost:8080/",
          "height": 699
        },
        "outputId": "862364b8-544d-4c9d-d97f-879e219b5bcd"
      },
      "outputs": [
        {
          "output_type": "display_data",
          "data": {
            "text/plain": [
              "<Figure size 1000x800 with 2 Axes>"
            ],
            "image/png": "[encoded data removed]"
          },
          "metadata": {}
        }
      ],
      "source": [
        "\n",
        "# Import necessary libraries\n",
        "import matplotlib.pyplot as plt\n",
        "import seaborn as sns\n",
        "from sklearn.metrics.pairwise import cosine_similarity\n",
        "\n",
        "# Calculate cosine similarity\n",
        "cosine_sim = cosine_similarity(tfidf_matrix)\n",
        "\n",
        "# Create the heatmap\n",
        "plt.figure(figsize=(10, 8))\n",
        "sns.heatmap(cosine_sim, annot=False, cmap='coolwarm')\n",
        "plt.title(\"Heatmap of Text Similarity\")\n",
        "plt.show()\n"
      ]
    },
    {
      "cell_type": "code",
      "execution_count": 74,
      "metadata": {
        "id": "FV6-lBpBg6UA"
      },
      "outputs": [],
      "source": [
        "from sklearn.cluster import KMeans\n",
        "\n",
        "num_clusters = 11\n",
        "\n",
        "# Perform K-Means clustering\n",
        "kmeans = KMeans(n_clusters=num_clusters, random_state=42)\n",
        "kmeans.fit(tfidf_matrix)\n",
        "\n",
        "# Get the cluster labels\n",
        "labels = kmeans.labels_\n"
      ]
    },
    {
      "cell_type": "code",
      "source": [
        "import pandas as pd\n",
        "\n",
        "# Create a DataFrame with text and labels\n",
        "clustered_df = pd.DataFrame({'Text': text_list, 'Cluster': labels})\n",
        "\n",
        "# Display sample cluster assignments\n",
        "print(clustered_df.head())\n"
      ],
      "metadata": {
        "colab": {
          "base_uri": "https://localhost:8080/"
        },
        "id": "tcSpBpFnEX6-",
        "outputId": "89d78b5b-7477-4f20-bdaa-810f8e1ef683"
      },
      "execution_count": 76,
      "outputs": [
        {
          "output_type": "stream",
          "name": "stdout",
          "text": [
            "                                                Text  Cluster\n",
            "0  Digby Morrell (born 10 October 1979) is a form...        2\n",
            "1  Steven Browne (born 1 February 1989) is an Aus...        9\n",
            "2  Peter Freeman (born 1 April 1969) is a former ...        8\n",
            "3  Lindsay Smith (born 29 February 1980) is a for...        4\n",
            "4  Earl George Spalding (born 11 March 1965 in So...        0\n"
          ]
        }
      ]
    },
    {
      "cell_type": "code",
      "source": [
        "from sklearn.metrics.pairwise import cosine_similarity\n",
        "reference_text = tfidf_matrix[0]\n",
        "\n",
        "similarities = cosine_similarity(reference_text, tfidf_matrix)\n",
        "\n"
      ],
      "metadata": {
        "id": "zBmcNPatoBPQ"
      },
      "execution_count": 56,
      "outputs": []
    },
    {
      "cell_type": "code",
      "execution_count": 57,
      "metadata": {
        "id": "oALOrEDbBxFJ",
        "colab": {
          "base_uri": "https://localhost:8080/"
        },
        "outputId": "751bac2a-766c-4e81-b010-0b8d43756426"
      },
      "outputs": [
        {
          "output_type": "stream",
          "name": "stdout",
          "text": [
            "Top 5 closest texts:\n",
            "Text 0: Similarity = 1.00\n",
            "Text 7: Similarity = 0.32\n",
            "Text 4: Similarity = 0.27\n",
            "Text 1: Similarity = 0.26\n",
            "Text 8: Similarity = 0.25\n"
          ]
        }
      ],
      "source": [
        "import numpy as np\n",
        "sorted_indices = np.argsort(similarities[0])[::-1]\n",
        "\n",
        "print(\"Top 5 closest texts:\")\n",
        "for idx in sorted_indices[:5]:\n",
        "    print(f\"Text {idx}: Similarity = {similarities[0][idx]:.2f}\")"
      ]
    },
    {
      "cell_type": "code",
      "execution_count": 58,
      "metadata": {
        "id": "_7FslEvoAB86",
        "colab": {
          "base_uri": "https://localhost:8080/",
          "height": 1000
        },
        "outputId": "4ac5bffb-91cd-45e9-ea73-e68177ad6c85"
      },
      "outputs": [
        {
          "output_type": "display_data",
          "data": {
            "text/plain": [
              "<Figure size 400x200 with 1 Axes>"
            ],
            "image/png": "[encoded data removed]"
          },
          "metadata": {}
        },
        {
          "output_type": "stream",
          "name": "stdout",
          "text": [
            "Cluster 0:\n",
            " - Earl George Spalding (born 11 March 1965 in South Perth) is a former Australian rules footballer who...\n",
            "\n",
            "\n",
            "Cluster 1:\n",
            " - Darren Pfeiffer (born 28 September 1987) is a former professional Australian rules footballer who pl...\n",
            "\n",
            "\n",
            "Cluster 2:\n",
            " - Digby Morrell (born 10 October 1979) is a former Australian rules footballer who played with the Kan...\n",
            "\n",
            "\n",
            "Cluster 3:\n",
            " - Daniel Harris (born 10 May 1982) is a former professional Australian rules footballer who played for...\n",
            "\n",
            "\n",
            "Cluster 4:\n",
            " - Lindsay Smith (born 29 February 1980) is a former Australian rules footballer who played with Kangar...\n",
            "\n",
            "\n",
            "Cluster 5:\n",
            " - Relton Roberts (born 1 March 1986) is a former professional Australian rules footballer who played f...\n",
            "\n",
            "\n",
            "Cluster 6:\n",
            " - Mark Austin (born 24 February 1989) is an Australian rules footballer who played for the Carlton Foo...\n",
            "\n",
            "\n",
            "Cluster 7:\n",
            " - Richard Ambrose (born 10 June 1972) is a former Australian rules footballer who played with the Sydn...\n",
            "\n",
            "\n",
            "Cluster 8:\n",
            " - Peter Freeman (born 1 April 1969) is a former Australian rules footballer who played for the St Kild...\n",
            "\n",
            "\n",
            "Cluster 9:\n",
            " - Steven Browne (born 1 February 1989) is an Australian rules footballer who played for the Carlton Fo...\n",
            "\n",
            "\n",
            "Cluster 10:\n",
            " - Todd Curley (born 14 January 1973) is a former Australian rules footballer, who played for Collingwo...\n",
            "\n",
            "\n"
          ]
        }
      ],
      "source": [
        "from sklearn.cluster import KMeans\n",
        "import matplotlib.pyplot as plt\n",
        "\n",
        "# Step 1: Apply K-Means Clustering\n",
        "num_clusters = 11  # You can adjust this number based on your analysis\n",
        "kmeans = KMeans(n_clusters=num_clusters, random_state=42)\n",
        "kmeans.fit(tfidf_matrix)\n",
        "\n",
        "# Step 2: Get Cluster Assignments\n",
        "labels = kmeans.labels_\n",
        "\n",
        "# Step 3: Visualize Clustering Results\n",
        "# Create a bar plot of cluster distribution\n",
        "plt.figure(figsize=(4, 2))\n",
        "plt.hist(labels, bins=num_clusters, alpha=0.7, color='blue', edgecolor='black')\n",
        "plt.title(\"Cluster Distribution\")\n",
        "plt.xlabel(\"Cluster\")\n",
        "plt.ylabel(\"Number of Texts\")\n",
        "plt.show()\n",
        "\n",
        "# Step 4: Analyze Clusters\n",
        "for cluster in range(num_clusters):\n",
        "    print(f\"Cluster {cluster}:\")\n",
        "    cluster_indices = [i for i, label in enumerate(labels) if label == cluster]\n",
        "    for index in cluster_indices:\n",
        "        print(f\" - {text_list[index][:100]}...\")  # Print a snippet of the text\n",
        "    print(\"\\n\")\n"
      ]
    },
    {
      "cell_type": "code",
      "execution_count": 59,
      "metadata": {
        "id": "S5lf40pXBVVt",
        "colab": {
          "base_uri": "https://localhost:8080/",
          "height": 645
        },
        "outputId": "17247e3a-4b71-4701-b50c-21a86b7dce0b"
      },
      "outputs": [
        {
          "output_type": "display_data",
          "data": {
            "text/plain": [
              "<Figure size 1000x700 with 1 Axes>"
            ],
            "image/png": "[encoded data removed]"
          },
          "metadata": {}
        }
      ],
      "source": [
        "from scipy.cluster.hierarchy import linkage, dendrogram\n",
        "\n",
        "# Step 1: Compute the linkage matrix\n",
        "linkage_matrix = linkage(tfidf_matrix.toarray(), method='ward')\n",
        "\n",
        "# Step 2: Plot the dendrogram\n",
        "plt.figure(figsize=(10, 7))\n",
        "dendrogram(linkage_matrix, orientation='top', labels=[f\"Text {i}\" for i in range(len(text_list))])\n",
        "plt.title(\"Hierarchical Clustering Dendrogram\")\n",
        "plt.xlabel(\"Texts\")\n",
        "plt.ylabel(\"Distance\")\n",
        "plt.show()\n"
      ]
    },
    {
      "cell_type": "markdown",
      "metadata": {
        "id": "VyvDlaQlA8ST"
      },
      "source": [
        "#**Conclusion**"
      ]
    },
    {
      "cell_type": "markdown",
      "metadata": {
        "id": "CgHizDWfA4TF"
      },
      "source": [
        "*This project used Natural Language Processing (NLP) to find similarities between famous people based on their descriptions. By analyzing text, we created a tool that helps users explore connections and see patterns between public figures. This demonstrates how NLP can be used to understand and compare text data.*\n",
        "\n",
        "The analysis demonstrates that text similarity can effectively identify relationships between Wikipedia entries. The interactive tool provides an easy way to explore these relationships visually and numerically.\n"
      ]
    }
  ],
  "metadata": {
    "colab": {
      "provenance": [],
      "toc_visible": true,
      "include_colab_link": true
    },
    "kernelspec": {
      "display_name": "Python 3 (ipykernel)",
      "language": "python",
      "name": "python3"
    },
    "language_info": {
      "codemirror_mode": {
        "name": "ipython",
        "version": 3
      },
      "file_extension": ".py",
      "mimetype": "text/x-python",
      "name": "python",
      "nbconvert_exporter": "python",
      "pygments_lexer": "ipython3",
      "version": "3.10.12"
    },
    "widgets": {
      "application/vnd.jupyter.widget-state+json": {
        "b4b368ce96c64ebe8e809b702d30b455": {
          "model_module": "@jupyter-widgets/controls",
          "model_name": "DropdownModel",
          "model_module_version": "1.5.0",
          "state": {
            "_dom_classes": [],
            "_model_module": "@jupyter-widgets/controls",
            "_model_module_version": "1.5.0",
            "_model_name": "DropdownModel",
            "_options_labels": [
              "Digby Morrell (born 10 October 1979) is a former Australian rules footballer who played with the Kangaroos and Carlton in the Australian Football League (AFL).\nFrom Western Australia, Morrell played his early senior football for West Perth. His 44-game senior career for the Falcons spanned 1998–2000, and he was the club's leading goalkicker in 2000. At the age of 21, Morrell was recruited to the Australian Football League by the North Melbourne Football Club with it’s third round selection in the 2001 AFL Rookie Draft. As a forward he twice kicked five goals during his time with the Kangaroos. The first was in a losing cause against Sydney in 2002 and the other the following season in a drawn game against Brisbane.\nAfter the 2003 season, Morrell was traded, along with David Teague, to the Carlton Football Club in exchange for Corey McKernan. He played 32 games for the Blues before being delisted at the end of 2005. He continued to play Victorian Football League (VFL) football with the Northern Bullants, Carlton's VFL-affiliate in 2006, and acted as playing assistant coach in 2007. In 2008, he shifted to the Box Hill Hawks, before retiring from playing at the end of the season. From 2009 until 2013, Morrell was the senior coach of the Strathmore Football Club in the Essendon District Football League, leading the club to the 2011 Premier Division premiership.from 2014 - 2018 he was the senior coach of the West Coburg Football Club, also in the EDFL.\nIn September 2018 he was appointed new coach of the Pascoe Vale Football Club. In September 2023 Pascoe Vale announced that Morrell would no longer coach the Club and had been replaced by Leigh Tudor.\nHe currently teaches physical education at the Parade College Bundoora campus in Melbourne.\n\nReferences\nExternal links\n\nDigby Morrell's playing statistics from AFL Tables",
              "Steven Browne (born 1 February 1989) is an Australian rules footballer who played for the Carlton Football Club in the Australian Football League (AFL) from 2008–2010. He later played for West Perth in the West Australian Football League (WAFL).\n\nCareer\nBrowne played his junior football with the Whitford Junior Football Club in Western Australia. He played six games of senior football with West Perth as an eighteen-year-old in late 2007, and represented Western Australia in the NAB Under-18s Championship. He was selected by the Carlton Football Club in the 2007 AFL National Draft with a third round draft selection (#36 overall). He plays primarily as a rebounding half-backman who can rotate into the midfield.\nBrowne made his AFL debut in the sixth round of the 2008 season against Adelaide at the MCG, and played thirteen games for the season. He played seven games with Carlton in the 2009 season, spending much of the rest of the time with Carlton's VFL-affiliate, the Northern Bullants, where he played in the club's losing grand final. He managed just three games in 2010, and was delisted at the end of the season.\nHe returned to Western Australia, and to his old club West Perth, in 2011. He won a premiership with the club in 2013, and played there until 2016, finishing his WAFL career with 135 senior games for the club.\n\nReferences\nExternal links\nSteven Browne's playing statistics from AFL Tables\nSteven Browne's profile at WAFL Online\nBlueseum profile of Steven Browne",
              "Peter Freeman (born 1 April 1969) is a former Australian rules footballer who played for the St Kilda Football Club in the Victorian Football League (VFL) and West Perth Football Club in the West Australian Football League (WAFL).\nPlaying in a number of positions in both the forward and back lines, Freeman played five games for St Kilda, debuting against Carlton in round 15 of the 1988 season. He also finished runner-up in the club's reserves best and fairest in 1989. He was delisted by St Kilda at the end of the 1991 AFL season, but was subsequently drafted by the West Coast Eagles with the 42nd pick in the 1991 National Draft. \nMoving to Perth, Western Australia, Freeman was unable to break into West Coast's line-up, and instead played for West Perth in the WAFL. After being delisted from West Coast at the end of the 1992 season, he remained with West Perth for several seasons, leading the club's goalkicking in 1994. He later returned to Melbourne, where he played for the Frankston Football Club in the Victorian Football League (VFL). Freeman also coached several teams at amateur level, including the Frankston YCW and Langwarrin Football Clubs in the Mornington Peninsula Nepean Football League (MPNFL).\n\nSee also\nList of de-listed West Coast Eagles players\nList of St Kilda Football Club players\nList of VFL debuts in 1988\n\n\n== References ==",
              "Lindsay Smith (born 29 February 1980) is a former Australian rules footballer who played with Kangaroos and Carlton in the Australian Football League.\nA tall, key position/ruckman, originally from Bordertown in the Kowree-Naracoorte-Tatiara Football League. He was originally recruited to the SANFL by Glenelg Football Club, and from there was recruited to the Australian Football League by the North Melbourne Football Club in the 1999 National Draft, with a fifth round draft pick (No. 77 overall). Smith spent two years on the North Melbourne playing list, but managed only one senior game, in Round 8, 2001 against St Kilda. After the 2001 season, Smith was traded to the Carlton Football Club in exchange for a fifth round draft pick (No. 61 overall). He played three games in one season for Carlton before being delisted.\nSmith returned to play one season for Bordertown in 2003, where he won the KNTFL League Best and Fairest. From 2004 until 2011, Smith played for Geelong Amateur in the Bellarine Football League. He was regularly one of the league's top players, and won the League Best and Fairest in 2009. Smith was named as first ruck in the Geelong Amateur Team of the Decade, and won two premierships with the club. He retired from playing after the 2011 season, at age 31.\n\nSources\n\nHolmesby, Russell & Main, Jim (2009). The Encyclopedia of AFL Footballers. 8th ed. Melbourne: Bas Publishing.\nLindsay Smith's playing statistics from AFL Tables\nLindsay Smith's profile at Blueseum",
              "Earl George Spalding (born 11 March 1965 in South Perth) is a former Australian rules footballer who played for Melbourne and Carlton in the Victorian Football League/Australian Football League (VFL/AFL), as well as for Perth and East Fremantle in the West Australian Football League. He is known as \"the Duke\" or \"Snake\" because of his unusual running style, and also the \"golf ball\" in reference to his surname.\nSpalding grew up in Perth, Western Australia, where he attended Wesley College. His father, George Spalding, was a well-known West Australian National Football League (WANFL) player with the Perth Football Club.\nAfter leaving school, Spalding played for 63 games for Perth between 1983 and 1986, reaching the preliminary final in 1986. He also played four games of first-class cricket for Western Australia as a fast bowler, during the 1984/85 season, taking 12 wickets at an average of 25.66.\nHe started his VFL/AFL career with Melbourne and was there from 1987 to 1991, playing 109 games. The following season he signed with Carlton and played all 22 games for the year. He played in a premiership with Carlton in 1995, a year in which he played all 25 games and brought up his 250th game of elite Australian rules football, and in 1996 played his 200th game in the VFL/AFL. \nHe played his last senior AFL game in 1997 before returning to Western Australia to play for East Fremantle alongside his brother Scott, who also played one game for Carlton in 1993. Earl played 32 games over the next two seasons, including their 1998 WAFL Premiership winning team, and retired at the end of the 1999 season, having played 306 games across the WAFL and VFL/AFL.\nSpalding was the reserves and assistant coach at East Fremantle in 2000 before becoming the league coach in 2001. He resigned from the position at the end of the 2002 season, and since then has working with the Fremantle Football Club as an assistant coach.\nSpalding was appointed senior coach of the Perth Demons Football Club in 2015. With an extremely young list and a deliberate policy not to recruit extensively so that the young players could develop, Perth won only two games in 2015. In 2016, the team has won six of its first 14 games, including a victory over top team Subiaco.\n\nStatistics\nReferences\nExternal links\nEarl Spalding's playing statistics from AFL Tables",
              "Relton Roberts (born 1 March 1986) is a former professional Australian rules footballer who played for Richmond Football Club in the Australian Football League (AFL). Attaining mythic status after his retirement, Roberts is said to have ascended to a higher plane of footballing ability sometime during the 2010s, and is widely considered to be the most significant figure in Australian Rules Football.\nBorn in Ngukurr, Northern Territory, Roberts played for a number of teams, including the Arnhem Crows in the Katherine District Football League (KDFL), Wanderers Football Club in the Darwin-based Northern Territory Football League (NTFL), NT Thunder in the Queensland Australian Football League (QAFL) and Euroa Football Club in the northern Victorian-based Goulburn Valley Football Netball League (GVFL).\nRoberts was drafted by Richmond in the third round of the 2010 Rookie draft and made his senior AFL debut against Carlton in round 1 of the 2010 AFL season. He would play only once more for Richmond, when he was knocked out and after playing a handful of matches for Richmond's Victorian Football League (VFL) affiliate Coburg Football Club, where he was in trouble for breaking a night curfew and warned for eating a hamburger before a match, Roberts returned to the Northern Territory, citing homesickness.\nRoberts began the 2010/11 NTFL season with Wanderers but was dropped to their reserves side after some poor performances before making a return to the senior side late in the season. Roberts was recruited for the 2012 season to Walla Walla Football Club in the southern New South Wales based Hume Football League. In 2014, Roberts turned out for Ouyen United in the Mallee Football League in north-west Victoria.\n\nReferences\nExternal links\nRelton Roberts's playing statistics from AFL Tables",
              "Mark Austin (born 24 February 1989) is an Australian rules footballer who played for the Carlton Football Club and Western Bulldogs in the Australian Football League (AFL). Austin played two senior games for the Glenelg Tigers in the 2006 South Australian National Football League (SANFL) season, and was subsequently selected in the 2006 AFL National Draft in the third round (35th pick overall) by Carlton, who also selected school friend and Glenelg teammate Bryce Gibbs in the same draft.\nThroughout the first two seasons of his career, Austin played primarily with Carlton's VFL-affiliate, the Northern Bullants. He made his AFL debut in the final round of the 2007 season. He temporarily became a regular in Carlton's defence during 2009, playing as the third tall defender, although often against taller opponents, as Carlton's defenders were hit by injury in 2009; however, he also succumbed to injury in the latter part of that season, missing the last few rounds of the year and much of the pre-season. In 2010 and 2011, Austin played almost exclusively with the Northern Bullants, and played his 50th game for the VFL club in late 2010; he managed only one game for Carlton over those two years, and was delisted at the end of the 2011 season.\nAustin was granted a second chance at AFL level when he was the last player selected by the Western Bulldogs in the 2012 Rookie Draft (76th pick overall).\nAustin was delisted at the conclusion of the 2014 AFL season. He will play for Essendon District Football League club Aberfeldie in 2015.\n\nReferences\nExternal links\nMark Austin's profile on the official website of the Western Bulldogs\nMark Austin's playing statistics from AFL Tables",
              "Todd Curley (born 14 January 1973) is a former Australian rules footballer, who played for Collingwood and the Western Bulldogs in the Australian Football League (AFL), and played and coached for the West Perth Football Club in the West Australian Football League.  He was appointed coach of the South Fremantle Football Club for the 2015 WAFL season.\nHe was drafted in the 1991 AFL Draft to Collingwood at pick number 41 from West Perth Football Club. He did not make his AFL debut for Collingwood until 1994, and played just 3 games for them in that season, acquiring 13 disposals and scoring 1 goal. He was delisted at the end of the season, and nominated for the 1995 national draft, in which he was picked up by the Western Bulldogs at pick number 29 overall.\nHe had a successful career at the Bulldogs, playing a total of 115 games for them across 6 seasons, including playing all games in 1998, 1999 and missing just one game in the 2000 season. In 2001 he was controversially banned for 4 matches for making contact with an umpire. The period of this ban was later halved on appeal, but his football career never recovered and by 2002 he was back playing for West Perth. He finished his AFL career with 118 games, and 48 goals.\nHe continued playing football for West Perth in the Western Australian Football League, and was announced their captain for the 2005 WAFL season, although decided to retire at the end of that season. He played a total of 147 games for West Perth. In December 2005, he was announced as the new coach for West Perth, after being selected from a strong list of applicants. In October 2007, at the club's best and fairest night, it was announced that Todd had signed on for the next two years as head coach.  In 2008, however, he left West Perth to be an assistant coach at Fremantle under senior coach Mark Harvey.  In March 2012, four days before the first game of the 2012 AFL season he announced that he was resigning to take up a work opportunity outside of football.\nFollowing the resignation of Paul Hasleby during the 2014 WAFL season, Curley was announced as the senior coach of South Fremantle Football Club for the 2015 season.\n2017 sees Todd take the Bulldogs deep in to the WAFL Final Series\n\nReferences\nExternal links\nTodd Curley's playing statistics from AFL Tables\nWest Perth Football Club Official website",
              "Daniel Harris (born 10 May 1982) is a former professional Australian rules footballer who played for the North Melbourne Football Club and Gold Coast Football Club in the Australian Football League (AFL). He played as a midfielder and has been noted as one of the best centre clearance players in the league.  He was also one of the league's best tacklers, making the top ten for most tackles in each season between 2006 and 2008.  After being delisted by North Melbourne he was drafted with the first selection in the 2010 Rookie Draft as a mature age rookie to join the new Gold Coast Football Club in the Victorian Football League (VFL) in 2010.\nHe was drafted with the 14th selection in the 2000 AFL Draft from the Bendigo Pioneers and has played 149 matches for the Kangaroos in his eight seasons at the club.  Harris started strongly, winning an AFL Rising Star award nomination in only his second match. However, he only played the next four games before being dropped back to play for the Murray Kangaroos in the VFL.  He played only a further two senior games in 2001 and only four games in 2002. The 2004 AFL season would see Harris cement his spot in the side and he only missed two games in the Kangaroos' next five seasons.\nAt the conclusion of the 2008 season, Harris requested to leave North Melbourne over an apparent feud with coach Dean Laidley.\nBut a trade was not forthcoming and Harris spent the start of the 2009 playing in the VFL, but returned to play ten games during the season.  He was delisted at the end of the season, but joined the Gold Coast Football Club. Harris retired on 16 August 2011 due to an ongoing groin problem. He finished with 160 AFL games.\n\nReferences\nExternal links\n\nBiography from the Official AFL website of North Melbourne\nDaniel Harris's playing statistics from AFL Tables",
              "Richard Ambrose (born 10 June 1972) is a former Australian rules footballer who played with the Sydney Swans in the Australian Football League (AFL). He also played for Port Adelaide in the South Australian National Football League (SANFL) and Subiaco in the West Australian Football League (WAFL).\nA key position player, Ambrose started his AFL career at Essendon after being picked up by the club with the 21st selection of the 1990 AFL draft. He was however restricted to the reserves and was unable to break into the seniors over two seasons. He was one of three players that Essendon traded to Sydney at the end of 1992 in return for the 20th draft pick, which was used on Scott Cummings. The others were Ed Considine and Michael Werner.\nAmbrose, who hailed from Shepparton, finally made his league debut in 1993 when he was part of the Sydney team which took on the West Coast Eagles at the SCG. He played just two more games for the club, a win over Melbourne and loss to Adelaide, both at home.\nLeaving Sydney after just one season, Ambrose arrived at SANFL club Port Adelaide in 1994 and played for five seasons. He was a South Australian interstate representative and participated in finals football every season he was at the club, culminating in a grand final loss in 1997 and a member of Port's 1998 premiership team.\nHe moved to Subiaco in 1999 and by playing in the WAFL had distinction of being part of clubs from four different states during the 1990s. At this stage the league was named the Westar Rules and he was the competition's best player in 2000 when he won the Sandover Medal as a centre half forward. He polled 34 votes to beat teammate Michael Symons and in doing so became the first ever forward from Subiaco to win the award. Ambrose participated in finals football every season he was at the club, culminating in a grand final loss in 2003 and premiership in 2004. He was a regular Western Australian interstate representative.\nAmbrose signed with Corowa-Rutherglen in 2005. He played for the Ovens and Murray Football League club until retiring after the 2008 season, although he made a comeback in 2009 and then again in 2011 with Benalla Football Club. His return to this Goulburn Valley Football Netball League club capped off a senior football career spanning over twenty years including four different decades. He currently resides in Bryon Bay Australia with his partner Alice and their young daughter Dorothea.\n\n\n== References ==",
              "Darren Pfeiffer (born 28 September 1987) is a former professional Australian rules footballer who played for the Carlton Football Club and Port Adelaide Football Club in the Australian Football League (AFL).\nPfeiffer played early football for Norwood in the SANFL under 19s, before being drafted by the Adelaide Football Club in the 2005 AFL National Draft with its first round selection (No. 17 overall). After suffering injury setbacks and, by his own admission, a lack of application, he was delisted at the end of 2007 without playing a senior game.\nPfeiffer nominated in the 2008 Pre-Season Draft, and was selected by Carlton with its selection (No. 2 overall), and made his AFL debut in round 2 of the 2008 season. Pfeiffer was a late inclusion into the Carlton team for round 9 against Fremantle at the Telstra Dome. It was Pfeiffer's goal in the dying minutes that sealed a come from behind victory for Carlton. He was moved to the rookie list in 2009 (being delisted then redrafted with the No. 51 overall pick in the 2009 Rookie Draft), but experienced an injury interrupted 2009 season.\nHe underwent a shoulder reconstruction earlier in the year and registering only his first senior game for Carlton's VFL-affiliate, the Northern Bullants, in round 17 before going on to be a member of their losing Grand Final side. He could not gain selection for Carlton during 2009 and was delisted again at the end of the season, requiring a second shoulder operation.\nPfeiffer moved to Queensland in 2010, spending a one-season stint at Southport in the Queensland Australian Football League (QAFL),  where he finished second in the Grogan Medal. He returned to his former SANFL team, Norwood, in 2011, and was recruited to AFL team Port Adelaide as a rookie for the 2012 season. Pfeiffer played sixteen games for Port Adelaide in 2012, but further injuries hampered his 2013 season, and he was delisted at the end of the year, having undergone a total of four shoulder reconstructions in his AFL career. He won an SANFL premiership with Norwood in 2013, where he still played while on reserve for Port Adelaide.\nIn 2014, Pfeiffer moved back to Queensland to study at university, and signed with the Redland Football Club in the North East Australian Football League (NEAFL). In October 2014, Pfeiffer accepted a one-year contract for season 2015 as senior coach of the University of Queensland Australian Football Club QAFL side.\nHe is currently residing in Sydney, and is the Coach Education Manager for AFL Sydney.\n\nReferences\nExternal links\nDarren Pfeiffer's profile on the official website of the Port Adelaide Football Club\nDarren Pfeiffer's playing statistics from AFL Tables"
            ],
            "_view_count": null,
            "_view_module": "@jupyter-widgets/controls",
            "_view_module_version": "1.5.0",
            "_view_name": "DropdownView",
            "description": "Select Text:",
            "description_tooltip": null,
            "disabled": false,
            "index": 6,
            "layout": "IPY_MODEL_07d668472725456c9ad9c626693c720c",
            "style": "IPY_MODEL_16b72629cd1247648f26e607881e423b"
          }
        },
        "07d668472725456c9ad9c626693c720c": {
          "model_module": "@jupyter-widgets/base",
          "model_name": "LayoutModel",
          "model_module_version": "1.2.0",
          "state": {
            "_model_module": "@jupyter-widgets/base",
            "_model_module_version": "1.2.0",
            "_model_name": "LayoutModel",
            "_view_count": null,
            "_view_module": "@jupyter-widgets/base",
            "_view_module_version": "1.2.0",
            "_view_name": "LayoutView",
            "align_content": null,
            "align_items": null,
            "align_self": null,
            "border": null,
            "bottom": null,
            "display": null,
            "flex": null,
            "flex_flow": null,
            "grid_area": null,
            "grid_auto_columns": null,
            "grid_auto_flow": null,
            "grid_auto_rows": null,
            "grid_column": null,
            "grid_gap": null,
            "grid_row": null,
            "grid_template_areas": null,
            "grid_template_columns": null,
            "grid_template_rows": null,
            "height": null,
            "justify_content": null,
            "justify_items": null,
            "left": null,
            "margin": null,
            "max_height": null,
            "max_width": null,
            "min_height": null,
            "min_width": null,
            "object_fit": null,
            "object_position": null,
            "order": null,
            "overflow": null,
            "overflow_x": null,
            "overflow_y": null,
            "padding": null,
            "right": null,
            "top": null,
            "visibility": null,
            "width": null
          }
        },
        "16b72629cd1247648f26e607881e423b": {
          "model_module": "@jupyter-widgets/controls",
          "model_name": "DescriptionStyleModel",
          "model_module_version": "1.5.0",
          "state": {
            "_model_module": "@jupyter-widgets/controls",
            "_model_module_version": "1.5.0",
            "_model_name": "DescriptionStyleModel",
            "_view_count": null,
            "_view_module": "@jupyter-widgets/base",
            "_view_module_version": "1.2.0",
            "_view_name": "StyleView",
            "description_width": ""
          }
        }
      }
    }
  },
  "nbformat": 4,
  "nbformat_minor": 0
}