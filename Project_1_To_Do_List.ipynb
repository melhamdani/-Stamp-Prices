{
  "cells": [
    {
      "cell_type": "markdown",
      "metadata": {
        "id": "view-in-github",
        "colab_type": "text"
      },
      "source": [
        "<a href=\"https://colab.research.google.com/github/melhamdani/-Stamp-Prices/blob/main/Project_1_To_Do_List.ipynb\" target=\"_parent\"><img src=\"https://colab.research.google.com/assets/colab-badge.svg\" alt=\"Open In Colab\"/></a>"
      ]
    },
    {
      "cell_type": "markdown",
      "source": [
        "# Project_1\n",
        "\n"
      ],
      "metadata": {
        "id": "s1bVRjLU4sUQ"
      }
    },
    {
      "cell_type": "markdown",
      "source": [
        "Deep Dive Coding Data Science Bootcamp Project"
      ],
      "metadata": {
        "id": "BMzybn0xxygZ"
      }
    },
    {
      "cell_type": "markdown",
      "source": [
        "#**Problem Definition**\n",
        "\n",
        "The project considers analyzing the data from Train.csv for cleaning and getting insights by using in-class tools. The important Python libraries that will be utilized in the process to manipulate, clean, or visualize data include Pandas, NumPy, and Matplotlib. We also give recommendations based on the data against any issues while dealing with cleaning."
      ],
      "metadata": {
        "id": "J3QaWNrmDmf6"
      }
    },
    {
      "cell_type": "markdown",
      "source": [
        "# Data Collection\n",
        "\n",
        "\n",
        "\n"
      ],
      "metadata": {
        "id": "V31_VhWR5Inj"
      }
    },
    {
      "cell_type": "markdown",
      "source": [
        "##*Data Overview*"
      ],
      "metadata": {
        "id": "yT5ih7T6iz88"
      }
    },
    {
      "cell_type": "markdown",
      "source": [
        "##*Imports*"
      ],
      "metadata": {
        "id": "SR19cPG9i8kj"
      }
    },
    {
      "cell_type": "code",
      "source": [
        "24\n",
        "from IPython.display import Image\n",
        "import matplotlib.pyplot as plt\n",
        "import numpy as np\n",
        "import pandas as pd\n",
        "import plotly.express as px\n",
        "import seaborn as sns\n",
        "\n",
        "from sklearn import datasets, metrics, model_selection\n",
        "from sklearn import model_selection\n",
        "from sklearn.naive_bayes import GaussianNB\n",
        "from sklearn.model_selection import train_test_split"
      ],
      "metadata": {
        "id": "YTo16H5L_7kw"
      },
      "execution_count": 62,
      "outputs": []
    },
    {
      "cell_type": "markdown",
      "source": [
        "#*File bold text Paths*"
      ],
      "metadata": {
        "id": "lhlxtDcWjE2H"
      }
    },
    {
      "cell_type": "markdown",
      "source": [
        "##Load"
      ],
      "metadata": {
        "id": "gLE_JjAXjQsS"
      }
    },
    {
      "cell_type": "code",
      "source": [
        "import pandas as pd\n",
        "\n",
        "url = 'https://ddc-datascience.s3.amazonaws.com/Projects/Project.1-Transactions/Data/Transaction.train.csv'\n",
        "\n",
        "df = pd.read_csv(url)\n",
        "df.head()\n",
        "\n"
      ],
      "metadata": {
        "id": "SezwuXr1_6pX",
        "outputId": "f86b1ee5-c3e8-43e6-bc39-60564d904a05",
        "colab": {
          "base_uri": "https://localhost:8080/",
          "height": 273
        }
      },
      "execution_count": 63,
      "outputs": [
        {
          "output_type": "execute_result",
          "data": {
            "text/plain": [
              "   Unnamed: 0  ID_code  target    var_0   var_1    var_2   var_3   var_4  \\\n",
              "0           0  train_0       0   8.9255 -6.7863  11.9081  5.1187  5.7470   \n",
              "1           1  train_1       0  11.5006 -4.1473  13.8588  5.6208  8.0851   \n",
              "2           2  train_2       0   8.6093 -2.7457  12.0805  6.9427  5.9525   \n",
              "3           3  train_3       0  11.0604 -2.1518   8.9522  5.8428  8.2450   \n",
              "4           4  train_4       0   9.8369 -1.4834  12.8746  5.9405  7.6784   \n",
              "\n",
              "     var_5    var_6  ...  var_40  var_41   var_42   var_43   var_44   var_45  \\\n",
              "0  14.0137   0.5745  ...  5.4879 -4.7645   3.1531  18.5618   1.7202  25.8398   \n",
              "1  14.0239   8.4135  ...  5.7999  5.5378   5.5134  30.2645  11.0752  22.5441   \n",
              "2  14.1929   7.3124  ...  5.7690 -7.0927  -5.8234  25.6820   2.4013  23.0866   \n",
              "3  13.8463  11.9704  ...  5.3430 -7.1541  11.7134  14.7483   5.6961  -0.4639   \n",
              "4  13.8481   7.8895  ...  5.5518  1.4493   2.3705  18.4685   5.1743  11.8503   \n",
              "\n",
              "   var_46  var_47  var_48   var_49  \n",
              "0  4.4354  3.9642  3.1364  12.7803  \n",
              "1  7.6421  7.7214  2.5837  18.3560  \n",
              "2  2.9057  9.7905  1.6704  14.7222  \n",
              "3  4.4666  4.7433  0.7178  17.9697  \n",
              "4 -1.4905  9.5214 -0.1508  17.9974  \n",
              "\n",
              "[5 rows x 53 columns]"
            ],
            "text/html": [
              "\n",
              "  <div id=\"df-04988551-a433-4a1c-a0d3-cfe9a406e4f9\" class=\"colab-df-container\">\n",
              "    <div>\n",
              "<style scoped>\n",
              "    .dataframe tbody tr th:only-of-type {\n",
              "        vertical-align: middle;\n",
              "    }\n",
              "\n",
              "    .dataframe tbody tr th {\n",
              "        vertical-align: top;\n",
              "    }\n",
              "\n",
              "    .dataframe thead th {\n",
              "        text-align: right;\n",
              "    }\n",
              "</style>\n",
              "<table border=\"1\" class=\"dataframe\">\n",
              "  <thead>\n",
              "    <tr style=\"text-align: right;\">\n",
              "      <th></th>\n",
              "      <th>Unnamed: 0</th>\n",
              "      <th>ID_code</th>\n",
              "      <th>target</th>\n",
              "      <th>var_0</th>\n",
              "      <th>var_1</th>\n",
              "      <th>var_2</th>\n",
              "      <th>var_3</th>\n",
              "      <th>var_4</th>\n",
              "      <th>var_5</th>\n",
              "      <th>var_6</th>\n",
              "      <th>...</th>\n",
              "      <th>var_40</th>\n",
              "      <th>var_41</th>\n",
              "      <th>var_42</th>\n",
              "      <th>var_43</th>\n",
              "      <th>var_44</th>\n",
              "      <th>var_45</th>\n",
              "      <th>var_46</th>\n",
              "      <th>var_47</th>\n",
              "      <th>var_48</th>\n",
              "      <th>var_49</th>\n",
              "    </tr>\n",
              "  </thead>\n",
              "  <tbody>\n",
              "    <tr>\n",
              "      <th>0</th>\n",
              "      <td>0</td>\n",
              "      <td>train_0</td>\n",
              "      <td>0</td>\n",
              "      <td>8.9255</td>\n",
              "      <td>-6.7863</td>\n",
              "      <td>11.9081</td>\n",
              "      <td>5.1187</td>\n",
              "      <td>5.7470</td>\n",
              "      <td>14.0137</td>\n",
              "      <td>0.5745</td>\n",
              "      <td>...</td>\n",
              "      <td>5.4879</td>\n",
              "      <td>-4.7645</td>\n",
              "      <td>3.1531</td>\n",
              "      <td>18.5618</td>\n",
              "      <td>1.7202</td>\n",
              "      <td>25.8398</td>\n",
              "      <td>4.4354</td>\n",
              "      <td>3.9642</td>\n",
              "      <td>3.1364</td>\n",
              "      <td>12.7803</td>\n",
              "    </tr>\n",
              "    <tr>\n",
              "      <th>1</th>\n",
              "      <td>1</td>\n",
              "      <td>train_1</td>\n",
              "      <td>0</td>\n",
              "      <td>11.5006</td>\n",
              "      <td>-4.1473</td>\n",
              "      <td>13.8588</td>\n",
              "      <td>5.6208</td>\n",
              "      <td>8.0851</td>\n",
              "      <td>14.0239</td>\n",
              "      <td>8.4135</td>\n",
              "      <td>...</td>\n",
              "      <td>5.7999</td>\n",
              "      <td>5.5378</td>\n",
              "      <td>5.5134</td>\n",
              "      <td>30.2645</td>\n",
              "      <td>11.0752</td>\n",
              "      <td>22.5441</td>\n",
              "      <td>7.6421</td>\n",
              "      <td>7.7214</td>\n",
              "      <td>2.5837</td>\n",
              "      <td>18.3560</td>\n",
              "    </tr>\n",
              "    <tr>\n",
              "      <th>2</th>\n",
              "      <td>2</td>\n",
              "      <td>train_2</td>\n",
              "      <td>0</td>\n",
              "      <td>8.6093</td>\n",
              "      <td>-2.7457</td>\n",
              "      <td>12.0805</td>\n",
              "      <td>6.9427</td>\n",
              "      <td>5.9525</td>\n",
              "      <td>14.1929</td>\n",
              "      <td>7.3124</td>\n",
              "      <td>...</td>\n",
              "      <td>5.7690</td>\n",
              "      <td>-7.0927</td>\n",
              "      <td>-5.8234</td>\n",
              "      <td>25.6820</td>\n",
              "      <td>2.4013</td>\n",
              "      <td>23.0866</td>\n",
              "      <td>2.9057</td>\n",
              "      <td>9.7905</td>\n",
              "      <td>1.6704</td>\n",
              "      <td>14.7222</td>\n",
              "    </tr>\n",
              "    <tr>\n",
              "      <th>3</th>\n",
              "      <td>3</td>\n",
              "      <td>train_3</td>\n",
              "      <td>0</td>\n",
              "      <td>11.0604</td>\n",
              "      <td>-2.1518</td>\n",
              "      <td>8.9522</td>\n",
              "      <td>5.8428</td>\n",
              "      <td>8.2450</td>\n",
              "      <td>13.8463</td>\n",
              "      <td>11.9704</td>\n",
              "      <td>...</td>\n",
              "      <td>5.3430</td>\n",
              "      <td>-7.1541</td>\n",
              "      <td>11.7134</td>\n",
              "      <td>14.7483</td>\n",
              "      <td>5.6961</td>\n",
              "      <td>-0.4639</td>\n",
              "      <td>4.4666</td>\n",
              "      <td>4.7433</td>\n",
              "      <td>0.7178</td>\n",
              "      <td>17.9697</td>\n",
              "    </tr>\n",
              "    <tr>\n",
              "      <th>4</th>\n",
              "      <td>4</td>\n",
              "      <td>train_4</td>\n",
              "      <td>0</td>\n",
              "      <td>9.8369</td>\n",
              "      <td>-1.4834</td>\n",
              "      <td>12.8746</td>\n",
              "      <td>5.9405</td>\n",
              "      <td>7.6784</td>\n",
              "      <td>13.8481</td>\n",
              "      <td>7.8895</td>\n",
              "      <td>...</td>\n",
              "      <td>5.5518</td>\n",
              "      <td>1.4493</td>\n",
              "      <td>2.3705</td>\n",
              "      <td>18.4685</td>\n",
              "      <td>5.1743</td>\n",
              "      <td>11.8503</td>\n",
              "      <td>-1.4905</td>\n",
              "      <td>9.5214</td>\n",
              "      <td>-0.1508</td>\n",
              "      <td>17.9974</td>\n",
              "    </tr>\n",
              "  </tbody>\n",
              "</table>\n",
              "<p>5 rows × 53 columns</p>\n",
              "</div>\n",
              "    <div class=\"colab-df-buttons\">\n",
              "\n",
              "  <div class=\"colab-df-container\">\n",
              "    <button class=\"colab-df-convert\" onclick=\"convertToInteractive('df-04988551-a433-4a1c-a0d3-cfe9a406e4f9')\"\n",
              "            title=\"Convert this dataframe to an interactive table.\"\n",
              "            style=\"display:none;\">\n",
              "\n",
              "  <svg xmlns=\"http://www.w3.org/2000/svg\" height=\"24px\" viewBox=\"0 -960 960 960\">\n",
              "    <path d=\"M120-120v-720h720v720H120Zm60-500h600v-160H180v160Zm220 220h160v-160H400v160Zm0 220h160v-160H400v160ZM180-400h160v-160H180v160Zm440 0h160v-160H620v160ZM180-180h160v-160H180v160Zm440 0h160v-160H620v160Z\"/>\n",
              "  </svg>\n",
              "    </button>\n",
              "\n",
              "  <style>\n",
              "    .colab-df-container {\n",
              "      display:flex;\n",
              "      gap: 12px;\n",
              "    }\n",
              "\n",
              "    .colab-df-convert {\n",
              "      background-color: #E8F0FE;\n",
              "      border: none;\n",
              "      border-radius: 50%;\n",
              "      cursor: pointer;\n",
              "      display: none;\n",
              "      fill: #1967D2;\n",
              "      height: 32px;\n",
              "      padding: 0 0 0 0;\n",
              "      width: 32px;\n",
              "    }\n",
              "\n",
              "    .colab-df-convert:hover {\n",
              "      background-color: #E2EBFA;\n",
              "      box-shadow: 0px 1px 2px rgba(60, 64, 67, 0.3), 0px 1px 3px 1px rgba(60, 64, 67, 0.15);\n",
              "      fill: #174EA6;\n",
              "    }\n",
              "\n",
              "    .colab-df-buttons div {\n",
              "      margin-bottom: 4px;\n",
              "    }\n",
              "\n",
              "    [theme=dark] .colab-df-convert {\n",
              "      background-color: #3B4455;\n",
              "      fill: #D2E3FC;\n",
              "    }\n",
              "\n",
              "    [theme=dark] .colab-df-convert:hover {\n",
              "      background-color: #434B5C;\n",
              "      box-shadow: 0px 1px 3px 1px rgba(0, 0, 0, 0.15);\n",
              "      filter: drop-shadow(0px 1px 2px rgba(0, 0, 0, 0.3));\n",
              "      fill: #FFFFFF;\n",
              "    }\n",
              "  </style>\n",
              "\n",
              "    <script>\n",
              "      const buttonEl =\n",
              "        document.querySelector('#df-04988551-a433-4a1c-a0d3-cfe9a406e4f9 button.colab-df-convert');\n",
              "      buttonEl.style.display =\n",
              "        google.colab.kernel.accessAllowed ? 'block' : 'none';\n",
              "\n",
              "      async function convertToInteractive(key) {\n",
              "        const element = document.querySelector('#df-04988551-a433-4a1c-a0d3-cfe9a406e4f9');\n",
              "        const dataTable =\n",
              "          await google.colab.kernel.invokeFunction('convertToInteractive',\n",
              "                                                    [key], {});\n",
              "        if (!dataTable) return;\n",
              "\n",
              "        const docLinkHtml = 'Like what you see? Visit the ' +\n",
              "          '<a target=\"_blank\" href=https://colab.research.google.com/notebooks/data_table.ipynb>data table notebook</a>'\n",
              "          + ' to learn more about interactive tables.';\n",
              "        element.innerHTML = '';\n",
              "        dataTable['output_type'] = 'display_data';\n",
              "        await google.colab.output.renderOutput(dataTable, element);\n",
              "        const docLink = document.createElement('div');\n",
              "        docLink.innerHTML = docLinkHtml;\n",
              "        element.appendChild(docLink);\n",
              "      }\n",
              "    </script>\n",
              "  </div>\n",
              "\n",
              "\n",
              "<div id=\"df-29ab73d2-09cf-4158-b42d-8f12b68c9883\">\n",
              "  <button class=\"colab-df-quickchart\" onclick=\"quickchart('df-29ab73d2-09cf-4158-b42d-8f12b68c9883')\"\n",
              "            title=\"Suggest charts\"\n",
              "            style=\"display:none;\">\n",
              "\n",
              "<svg xmlns=\"http://www.w3.org/2000/svg\" height=\"24px\"viewBox=\"0 0 24 24\"\n",
              "     width=\"24px\">\n",
              "    <g>\n",
              "        <path d=\"M19 3H5c-1.1 0-2 .9-2 2v14c0 1.1.9 2 2 2h14c1.1 0 2-.9 2-2V5c0-1.1-.9-2-2-2zM9 17H7v-7h2v7zm4 0h-2V7h2v10zm4 0h-2v-4h2v4z\"/>\n",
              "    </g>\n",
              "</svg>\n",
              "  </button>\n",
              "\n",
              "<style>\n",
              "  .colab-df-quickchart {\n",
              "      --bg-color: #E8F0FE;\n",
              "      --fill-color: #1967D2;\n",
              "      --hover-bg-color: #E2EBFA;\n",
              "      --hover-fill-color: #174EA6;\n",
              "      --disabled-fill-color: #AAA;\n",
              "      --disabled-bg-color: #DDD;\n",
              "  }\n",
              "\n",
              "  [theme=dark] .colab-df-quickchart {\n",
              "      --bg-color: #3B4455;\n",
              "      --fill-color: #D2E3FC;\n",
              "      --hover-bg-color: #434B5C;\n",
              "      --hover-fill-color: #FFFFFF;\n",
              "      --disabled-bg-color: #3B4455;\n",
              "      --disabled-fill-color: #666;\n",
              "  }\n",
              "\n",
              "  .colab-df-quickchart {\n",
              "    background-color: var(--bg-color);\n",
              "    border: none;\n",
              "    border-radius: 50%;\n",
              "    cursor: pointer;\n",
              "    display: none;\n",
              "    fill: var(--fill-color);\n",
              "    height: 32px;\n",
              "    padding: 0;\n",
              "    width: 32px;\n",
              "  }\n",
              "\n",
              "  .colab-df-quickchart:hover {\n",
              "    background-color: var(--hover-bg-color);\n",
              "    box-shadow: 0 1px 2px rgba(60, 64, 67, 0.3), 0 1px 3px 1px rgba(60, 64, 67, 0.15);\n",
              "    fill: var(--button-hover-fill-color);\n",
              "  }\n",
              "\n",
              "  .colab-df-quickchart-complete:disabled,\n",
              "  .colab-df-quickchart-complete:disabled:hover {\n",
              "    background-color: var(--disabled-bg-color);\n",
              "    fill: var(--disabled-fill-color);\n",
              "    box-shadow: none;\n",
              "  }\n",
              "\n",
              "  .colab-df-spinner {\n",
              "    border: 2px solid var(--fill-color);\n",
              "    border-color: transparent;\n",
              "    border-bottom-color: var(--fill-color);\n",
              "    animation:\n",
              "      spin 1s steps(1) infinite;\n",
              "  }\n",
              "\n",
              "  @keyframes spin {\n",
              "    0% {\n",
              "      border-color: transparent;\n",
              "      border-bottom-color: var(--fill-color);\n",
              "      border-left-color: var(--fill-color);\n",
              "    }\n",
              "    20% {\n",
              "      border-color: transparent;\n",
              "      border-left-color: var(--fill-color);\n",
              "      border-top-color: var(--fill-color);\n",
              "    }\n",
              "    30% {\n",
              "      border-color: transparent;\n",
              "      border-left-color: var(--fill-color);\n",
              "      border-top-color: var(--fill-color);\n",
              "      border-right-color: var(--fill-color);\n",
              "    }\n",
              "    40% {\n",
              "      border-color: transparent;\n",
              "      border-right-color: var(--fill-color);\n",
              "      border-top-color: var(--fill-color);\n",
              "    }\n",
              "    60% {\n",
              "      border-color: transparent;\n",
              "      border-right-color: var(--fill-color);\n",
              "    }\n",
              "    80% {\n",
              "      border-color: transparent;\n",
              "      border-right-color: var(--fill-color);\n",
              "      border-bottom-color: var(--fill-color);\n",
              "    }\n",
              "    90% {\n",
              "      border-color: transparent;\n",
              "      border-bottom-color: var(--fill-color);\n",
              "    }\n",
              "  }\n",
              "</style>\n",
              "\n",
              "  <script>\n",
              "    async function quickchart(key) {\n",
              "      const quickchartButtonEl =\n",
              "        document.querySelector('#' + key + ' button');\n",
              "      quickchartButtonEl.disabled = true;  // To prevent multiple clicks.\n",
              "      quickchartButtonEl.classList.add('colab-df-spinner');\n",
              "      try {\n",
              "        const charts = await google.colab.kernel.invokeFunction(\n",
              "            'suggestCharts', [key], {});\n",
              "      } catch (error) {\n",
              "        console.error('Error during call to suggestCharts:', error);\n",
              "      }\n",
              "      quickchartButtonEl.classList.remove('colab-df-spinner');\n",
              "      quickchartButtonEl.classList.add('colab-df-quickchart-complete');\n",
              "    }\n",
              "    (() => {\n",
              "      let quickchartButtonEl =\n",
              "        document.querySelector('#df-29ab73d2-09cf-4158-b42d-8f12b68c9883 button');\n",
              "      quickchartButtonEl.style.display =\n",
              "        google.colab.kernel.accessAllowed ? 'block' : 'none';\n",
              "    })();\n",
              "  </script>\n",
              "</div>\n",
              "\n",
              "    </div>\n",
              "  </div>\n"
            ],
            "application/vnd.google.colaboratory.intrinsic+json": {
              "type": "dataframe",
              "variable_name": "df"
            }
          },
          "metadata": {},
          "execution_count": 63
        }
      ]
    },
    {
      "cell_type": "markdown",
      "source": [
        "# Data Cleaning\n",
        "\n",
        "4. Examine the data using tools we have used in class.\n",
        "\n",
        "1. If there are data cleaning issues, develop recommendations for how to deal with them.\n",
        "\n"
      ],
      "metadata": {
        "id": "7i3UiIAn5GVJ"
      }
    },
    {
      "cell_type": "code",
      "source": [
        "df.info()"
      ],
      "metadata": {
        "colab": {
          "base_uri": "https://localhost:8080/"
        },
        "id": "hq1QgTvk0jrI",
        "outputId": "05069492-22eb-496c-bb11-34f284294587"
      },
      "execution_count": 64,
      "outputs": [
        {
          "output_type": "stream",
          "name": "stdout",
          "text": [
            "<class 'pandas.core.frame.DataFrame'>\n",
            "RangeIndex: 180000 entries, 0 to 179999\n",
            "Data columns (total 53 columns):\n",
            " #   Column      Non-Null Count   Dtype  \n",
            "---  ------      --------------   -----  \n",
            " 0   Unnamed: 0  180000 non-null  int64  \n",
            " 1   ID_code     180000 non-null  object \n",
            " 2   target      180000 non-null  int64  \n",
            " 3   var_0       180000 non-null  float64\n",
            " 4   var_1       180000 non-null  float64\n",
            " 5   var_2       180000 non-null  float64\n",
            " 6   var_3       180000 non-null  float64\n",
            " 7   var_4       180000 non-null  float64\n",
            " 8   var_5       180000 non-null  float64\n",
            " 9   var_6       180000 non-null  float64\n",
            " 10  var_7       180000 non-null  float64\n",
            " 11  var_8       180000 non-null  float64\n",
            " 12  var_9       180000 non-null  float64\n",
            " 13  var_10      180000 non-null  float64\n",
            " 14  var_11      180000 non-null  float64\n",
            " 15  var_12      180000 non-null  float64\n",
            " 16  var_13      180000 non-null  float64\n",
            " 17  var_14      180000 non-null  float64\n",
            " 18  var_15      180000 non-null  float64\n",
            " 19  var_16      180000 non-null  float64\n",
            " 20  var_17      180000 non-null  float64\n",
            " 21  var_18      180000 non-null  float64\n",
            " 22  var_19      180000 non-null  float64\n",
            " 23  var_20      180000 non-null  float64\n",
            " 24  var_21      180000 non-null  float64\n",
            " 25  var_22      180000 non-null  float64\n",
            " 26  var_23      180000 non-null  float64\n",
            " 27  var_24      180000 non-null  float64\n",
            " 28  var_25      180000 non-null  float64\n",
            " 29  var_26      180000 non-null  float64\n",
            " 30  var_27      180000 non-null  float64\n",
            " 31  var_28      180000 non-null  float64\n",
            " 32  var_29      180000 non-null  float64\n",
            " 33  var_30      180000 non-null  float64\n",
            " 34  var_31      180000 non-null  float64\n",
            " 35  var_32      180000 non-null  float64\n",
            " 36  var_33      180000 non-null  float64\n",
            " 37  var_34      180000 non-null  float64\n",
            " 38  var_35      180000 non-null  float64\n",
            " 39  var_36      180000 non-null  float64\n",
            " 40  var_37      180000 non-null  float64\n",
            " 41  var_38      180000 non-null  float64\n",
            " 42  var_39      180000 non-null  float64\n",
            " 43  var_40      180000 non-null  float64\n",
            " 44  var_41      180000 non-null  float64\n",
            " 45  var_42      180000 non-null  float64\n",
            " 46  var_43      180000 non-null  float64\n",
            " 47  var_44      180000 non-null  float64\n",
            " 48  var_45      180000 non-null  float64\n",
            " 49  var_46      180000 non-null  float64\n",
            " 50  var_47      180000 non-null  float64\n",
            " 51  var_48      180000 non-null  float64\n",
            " 52  var_49      180000 non-null  float64\n",
            "dtypes: float64(50), int64(2), object(1)\n",
            "memory usage: 72.8+ MB\n"
          ]
        }
      ]
    },
    {
      "cell_type": "code",
      "source": [
        "df.head()"
      ],
      "metadata": {
        "colab": {
          "base_uri": "https://localhost:8080/",
          "height": 273
        },
        "id": "am4YyqqYQSzV",
        "outputId": "f9001a79-a499-4a25-b8e4-66b51e67a42b"
      },
      "execution_count": 65,
      "outputs": [
        {
          "output_type": "execute_result",
          "data": {
            "text/plain": [
              "   Unnamed: 0  ID_code  target    var_0   var_1    var_2   var_3   var_4  \\\n",
              "0           0  train_0       0   8.9255 -6.7863  11.9081  5.1187  5.7470   \n",
              "1           1  train_1       0  11.5006 -4.1473  13.8588  5.6208  8.0851   \n",
              "2           2  train_2       0   8.6093 -2.7457  12.0805  6.9427  5.9525   \n",
              "3           3  train_3       0  11.0604 -2.1518   8.9522  5.8428  8.2450   \n",
              "4           4  train_4       0   9.8369 -1.4834  12.8746  5.9405  7.6784   \n",
              "\n",
              "     var_5    var_6  ...  var_40  var_41   var_42   var_43   var_44   var_45  \\\n",
              "0  14.0137   0.5745  ...  5.4879 -4.7645   3.1531  18.5618   1.7202  25.8398   \n",
              "1  14.0239   8.4135  ...  5.7999  5.5378   5.5134  30.2645  11.0752  22.5441   \n",
              "2  14.1929   7.3124  ...  5.7690 -7.0927  -5.8234  25.6820   2.4013  23.0866   \n",
              "3  13.8463  11.9704  ...  5.3430 -7.1541  11.7134  14.7483   5.6961  -0.4639   \n",
              "4  13.8481   7.8895  ...  5.5518  1.4493   2.3705  18.4685   5.1743  11.8503   \n",
              "\n",
              "   var_46  var_47  var_48   var_49  \n",
              "0  4.4354  3.9642  3.1364  12.7803  \n",
              "1  7.6421  7.7214  2.5837  18.3560  \n",
              "2  2.9057  9.7905  1.6704  14.7222  \n",
              "3  4.4666  4.7433  0.7178  17.9697  \n",
              "4 -1.4905  9.5214 -0.1508  17.9974  \n",
              "\n",
              "[5 rows x 53 columns]"
            ],
            "text/html": [
              "\n",
              "  <div id=\"df-449d22bb-82b5-4a4f-92b7-0828b6d08fe7\" class=\"colab-df-container\">\n",
              "    <div>\n",
              "<style scoped>\n",
              "    .dataframe tbody tr th:only-of-type {\n",
              "        vertical-align: middle;\n",
              "    }\n",
              "\n",
              "    .dataframe tbody tr th {\n",
              "        vertical-align: top;\n",
              "    }\n",
              "\n",
              "    .dataframe thead th {\n",
              "        text-align: right;\n",
              "    }\n",
              "</style>\n",
              "<table border=\"1\" class=\"dataframe\">\n",
              "  <thead>\n",
              "    <tr style=\"text-align: right;\">\n",
              "      <th></th>\n",
              "      <th>Unnamed: 0</th>\n",
              "      <th>ID_code</th>\n",
              "      <th>target</th>\n",
              "      <th>var_0</th>\n",
              "      <th>var_1</th>\n",
              "      <th>var_2</th>\n",
              "      <th>var_3</th>\n",
              "      <th>var_4</th>\n",
              "      <th>var_5</th>\n",
              "      <th>var_6</th>\n",
              "      <th>...</th>\n",
              "      <th>var_40</th>\n",
              "      <th>var_41</th>\n",
              "      <th>var_42</th>\n",
              "      <th>var_43</th>\n",
              "      <th>var_44</th>\n",
              "      <th>var_45</th>\n",
              "      <th>var_46</th>\n",
              "      <th>var_47</th>\n",
              "      <th>var_48</th>\n",
              "      <th>var_49</th>\n",
              "    </tr>\n",
              "  </thead>\n",
              "  <tbody>\n",
              "    <tr>\n",
              "      <th>0</th>\n",
              "      <td>0</td>\n",
              "      <td>train_0</td>\n",
              "      <td>0</td>\n",
              "      <td>8.9255</td>\n",
              "      <td>-6.7863</td>\n",
              "      <td>11.9081</td>\n",
              "      <td>5.1187</td>\n",
              "      <td>5.7470</td>\n",
              "      <td>14.0137</td>\n",
              "      <td>0.5745</td>\n",
              "      <td>...</td>\n",
              "      <td>5.4879</td>\n",
              "      <td>-4.7645</td>\n",
              "      <td>3.1531</td>\n",
              "      <td>18.5618</td>\n",
              "      <td>1.7202</td>\n",
              "      <td>25.8398</td>\n",
              "      <td>4.4354</td>\n",
              "      <td>3.9642</td>\n",
              "      <td>3.1364</td>\n",
              "      <td>12.7803</td>\n",
              "    </tr>\n",
              "    <tr>\n",
              "      <th>1</th>\n",
              "      <td>1</td>\n",
              "      <td>train_1</td>\n",
              "      <td>0</td>\n",
              "      <td>11.5006</td>\n",
              "      <td>-4.1473</td>\n",
              "      <td>13.8588</td>\n",
              "      <td>5.6208</td>\n",
              "      <td>8.0851</td>\n",
              "      <td>14.0239</td>\n",
              "      <td>8.4135</td>\n",
              "      <td>...</td>\n",
              "      <td>5.7999</td>\n",
              "      <td>5.5378</td>\n",
              "      <td>5.5134</td>\n",
              "      <td>30.2645</td>\n",
              "      <td>11.0752</td>\n",
              "      <td>22.5441</td>\n",
              "      <td>7.6421</td>\n",
              "      <td>7.7214</td>\n",
              "      <td>2.5837</td>\n",
              "      <td>18.3560</td>\n",
              "    </tr>\n",
              "    <tr>\n",
              "      <th>2</th>\n",
              "      <td>2</td>\n",
              "      <td>train_2</td>\n",
              "      <td>0</td>\n",
              "      <td>8.6093</td>\n",
              "      <td>-2.7457</td>\n",
              "      <td>12.0805</td>\n",
              "      <td>6.9427</td>\n",
              "      <td>5.9525</td>\n",
              "      <td>14.1929</td>\n",
              "      <td>7.3124</td>\n",
              "      <td>...</td>\n",
              "      <td>5.7690</td>\n",
              "      <td>-7.0927</td>\n",
              "      <td>-5.8234</td>\n",
              "      <td>25.6820</td>\n",
              "      <td>2.4013</td>\n",
              "      <td>23.0866</td>\n",
              "      <td>2.9057</td>\n",
              "      <td>9.7905</td>\n",
              "      <td>1.6704</td>\n",
              "      <td>14.7222</td>\n",
              "    </tr>\n",
              "    <tr>\n",
              "      <th>3</th>\n",
              "      <td>3</td>\n",
              "      <td>train_3</td>\n",
              "      <td>0</td>\n",
              "      <td>11.0604</td>\n",
              "      <td>-2.1518</td>\n",
              "      <td>8.9522</td>\n",
              "      <td>5.8428</td>\n",
              "      <td>8.2450</td>\n",
              "      <td>13.8463</td>\n",
              "      <td>11.9704</td>\n",
              "      <td>...</td>\n",
              "      <td>5.3430</td>\n",
              "      <td>-7.1541</td>\n",
              "      <td>11.7134</td>\n",
              "      <td>14.7483</td>\n",
              "      <td>5.6961</td>\n",
              "      <td>-0.4639</td>\n",
              "      <td>4.4666</td>\n",
              "      <td>4.7433</td>\n",
              "      <td>0.7178</td>\n",
              "      <td>17.9697</td>\n",
              "    </tr>\n",
              "    <tr>\n",
              "      <th>4</th>\n",
              "      <td>4</td>\n",
              "      <td>train_4</td>\n",
              "      <td>0</td>\n",
              "      <td>9.8369</td>\n",
              "      <td>-1.4834</td>\n",
              "      <td>12.8746</td>\n",
              "      <td>5.9405</td>\n",
              "      <td>7.6784</td>\n",
              "      <td>13.8481</td>\n",
              "      <td>7.8895</td>\n",
              "      <td>...</td>\n",
              "      <td>5.5518</td>\n",
              "      <td>1.4493</td>\n",
              "      <td>2.3705</td>\n",
              "      <td>18.4685</td>\n",
              "      <td>5.1743</td>\n",
              "      <td>11.8503</td>\n",
              "      <td>-1.4905</td>\n",
              "      <td>9.5214</td>\n",
              "      <td>-0.1508</td>\n",
              "      <td>17.9974</td>\n",
              "    </tr>\n",
              "  </tbody>\n",
              "</table>\n",
              "<p>5 rows × 53 columns</p>\n",
              "</div>\n",
              "    <div class=\"colab-df-buttons\">\n",
              "\n",
              "  <div class=\"colab-df-container\">\n",
              "    <button class=\"colab-df-convert\" onclick=\"convertToInteractive('df-449d22bb-82b5-4a4f-92b7-0828b6d08fe7')\"\n",
              "            title=\"Convert this dataframe to an interactive table.\"\n",
              "            style=\"display:none;\">\n",
              "\n",
              "  <svg xmlns=\"http://www.w3.org/2000/svg\" height=\"24px\" viewBox=\"0 -960 960 960\">\n",
              "    <path d=\"M120-120v-720h720v720H120Zm60-500h600v-160H180v160Zm220 220h160v-160H400v160Zm0 220h160v-160H400v160ZM180-400h160v-160H180v160Zm440 0h160v-160H620v160ZM180-180h160v-160H180v160Zm440 0h160v-160H620v160Z\"/>\n",
              "  </svg>\n",
              "    </button>\n",
              "\n",
              "  <style>\n",
              "    .colab-df-container {\n",
              "      display:flex;\n",
              "      gap: 12px;\n",
              "    }\n",
              "\n",
              "    .colab-df-convert {\n",
              "      background-color: #E8F0FE;\n",
              "      border: none;\n",
              "      border-radius: 50%;\n",
              "      cursor: pointer;\n",
              "      display: none;\n",
              "      fill: #1967D2;\n",
              "      height: 32px;\n",
              "      padding: 0 0 0 0;\n",
              "      width: 32px;\n",
              "    }\n",
              "\n",
              "    .colab-df-convert:hover {\n",
              "      background-color: #E2EBFA;\n",
              "      box-shadow: 0px 1px 2px rgba(60, 64, 67, 0.3), 0px 1px 3px 1px rgba(60, 64, 67, 0.15);\n",
              "      fill: #174EA6;\n",
              "    }\n",
              "\n",
              "    .colab-df-buttons div {\n",
              "      margin-bottom: 4px;\n",
              "    }\n",
              "\n",
              "    [theme=dark] .colab-df-convert {\n",
              "      background-color: #3B4455;\n",
              "      fill: #D2E3FC;\n",
              "    }\n",
              "\n",
              "    [theme=dark] .colab-df-convert:hover {\n",
              "      background-color: #434B5C;\n",
              "      box-shadow: 0px 1px 3px 1px rgba(0, 0, 0, 0.15);\n",
              "      filter: drop-shadow(0px 1px 2px rgba(0, 0, 0, 0.3));\n",
              "      fill: #FFFFFF;\n",
              "    }\n",
              "  </style>\n",
              "\n",
              "    <script>\n",
              "      const buttonEl =\n",
              "        document.querySelector('#df-449d22bb-82b5-4a4f-92b7-0828b6d08fe7 button.colab-df-convert');\n",
              "      buttonEl.style.display =\n",
              "        google.colab.kernel.accessAllowed ? 'block' : 'none';\n",
              "\n",
              "      async function convertToInteractive(key) {\n",
              "        const element = document.querySelector('#df-449d22bb-82b5-4a4f-92b7-0828b6d08fe7');\n",
              "        const dataTable =\n",
              "          await google.colab.kernel.invokeFunction('convertToInteractive',\n",
              "                                                    [key], {});\n",
              "        if (!dataTable) return;\n",
              "\n",
              "        const docLinkHtml = 'Like what you see? Visit the ' +\n",
              "          '<a target=\"_blank\" href=https://colab.research.google.com/notebooks/data_table.ipynb>data table notebook</a>'\n",
              "          + ' to learn more about interactive tables.';\n",
              "        element.innerHTML = '';\n",
              "        dataTable['output_type'] = 'display_data';\n",
              "        await google.colab.output.renderOutput(dataTable, element);\n",
              "        const docLink = document.createElement('div');\n",
              "        docLink.innerHTML = docLinkHtml;\n",
              "        element.appendChild(docLink);\n",
              "      }\n",
              "    </script>\n",
              "  </div>\n",
              "\n",
              "\n",
              "<div id=\"df-c148f7a1-cfd6-4057-97de-5458f090a045\">\n",
              "  <button class=\"colab-df-quickchart\" onclick=\"quickchart('df-c148f7a1-cfd6-4057-97de-5458f090a045')\"\n",
              "            title=\"Suggest charts\"\n",
              "            style=\"display:none;\">\n",
              "\n",
              "<svg xmlns=\"http://www.w3.org/2000/svg\" height=\"24px\"viewBox=\"0 0 24 24\"\n",
              "     width=\"24px\">\n",
              "    <g>\n",
              "        <path d=\"M19 3H5c-1.1 0-2 .9-2 2v14c0 1.1.9 2 2 2h14c1.1 0 2-.9 2-2V5c0-1.1-.9-2-2-2zM9 17H7v-7h2v7zm4 0h-2V7h2v10zm4 0h-2v-4h2v4z\"/>\n",
              "    </g>\n",
              "</svg>\n",
              "  </button>\n",
              "\n",
              "<style>\n",
              "  .colab-df-quickchart {\n",
              "      --bg-color: #E8F0FE;\n",
              "      --fill-color: #1967D2;\n",
              "      --hover-bg-color: #E2EBFA;\n",
              "      --hover-fill-color: #174EA6;\n",
              "      --disabled-fill-color: #AAA;\n",
              "      --disabled-bg-color: #DDD;\n",
              "  }\n",
              "\n",
              "  [theme=dark] .colab-df-quickchart {\n",
              "      --bg-color: #3B4455;\n",
              "      --fill-color: #D2E3FC;\n",
              "      --hover-bg-color: #434B5C;\n",
              "      --hover-fill-color: #FFFFFF;\n",
              "      --disabled-bg-color: #3B4455;\n",
              "      --disabled-fill-color: #666;\n",
              "  }\n",
              "\n",
              "  .colab-df-quickchart {\n",
              "    background-color: var(--bg-color);\n",
              "    border: none;\n",
              "    border-radius: 50%;\n",
              "    cursor: pointer;\n",
              "    display: none;\n",
              "    fill: var(--fill-color);\n",
              "    height: 32px;\n",
              "    padding: 0;\n",
              "    width: 32px;\n",
              "  }\n",
              "\n",
              "  .colab-df-quickchart:hover {\n",
              "    background-color: var(--hover-bg-color);\n",
              "    box-shadow: 0 1px 2px rgba(60, 64, 67, 0.3), 0 1px 3px 1px rgba(60, 64, 67, 0.15);\n",
              "    fill: var(--button-hover-fill-color);\n",
              "  }\n",
              "\n",
              "  .colab-df-quickchart-complete:disabled,\n",
              "  .colab-df-quickchart-complete:disabled:hover {\n",
              "    background-color: var(--disabled-bg-color);\n",
              "    fill: var(--disabled-fill-color);\n",
              "    box-shadow: none;\n",
              "  }\n",
              "\n",
              "  .colab-df-spinner {\n",
              "    border: 2px solid var(--fill-color);\n",
              "    border-color: transparent;\n",
              "    border-bottom-color: var(--fill-color);\n",
              "    animation:\n",
              "      spin 1s steps(1) infinite;\n",
              "  }\n",
              "\n",
              "  @keyframes spin {\n",
              "    0% {\n",
              "      border-color: transparent;\n",
              "      border-bottom-color: var(--fill-color);\n",
              "      border-left-color: var(--fill-color);\n",
              "    }\n",
              "    20% {\n",
              "      border-color: transparent;\n",
              "      border-left-color: var(--fill-color);\n",
              "      border-top-color: var(--fill-color);\n",
              "    }\n",
              "    30% {\n",
              "      border-color: transparent;\n",
              "      border-left-color: var(--fill-color);\n",
              "      border-top-color: var(--fill-color);\n",
              "      border-right-color: var(--fill-color);\n",
              "    }\n",
              "    40% {\n",
              "      border-color: transparent;\n",
              "      border-right-color: var(--fill-color);\n",
              "      border-top-color: var(--fill-color);\n",
              "    }\n",
              "    60% {\n",
              "      border-color: transparent;\n",
              "      border-right-color: var(--fill-color);\n",
              "    }\n",
              "    80% {\n",
              "      border-color: transparent;\n",
              "      border-right-color: var(--fill-color);\n",
              "      border-bottom-color: var(--fill-color);\n",
              "    }\n",
              "    90% {\n",
              "      border-color: transparent;\n",
              "      border-bottom-color: var(--fill-color);\n",
              "    }\n",
              "  }\n",
              "</style>\n",
              "\n",
              "  <script>\n",
              "    async function quickchart(key) {\n",
              "      const quickchartButtonEl =\n",
              "        document.querySelector('#' + key + ' button');\n",
              "      quickchartButtonEl.disabled = true;  // To prevent multiple clicks.\n",
              "      quickchartButtonEl.classList.add('colab-df-spinner');\n",
              "      try {\n",
              "        const charts = await google.colab.kernel.invokeFunction(\n",
              "            'suggestCharts', [key], {});\n",
              "      } catch (error) {\n",
              "        console.error('Error during call to suggestCharts:', error);\n",
              "      }\n",
              "      quickchartButtonEl.classList.remove('colab-df-spinner');\n",
              "      quickchartButtonEl.classList.add('colab-df-quickchart-complete');\n",
              "    }\n",
              "    (() => {\n",
              "      let quickchartButtonEl =\n",
              "        document.querySelector('#df-c148f7a1-cfd6-4057-97de-5458f090a045 button');\n",
              "      quickchartButtonEl.style.display =\n",
              "        google.colab.kernel.accessAllowed ? 'block' : 'none';\n",
              "    })();\n",
              "  </script>\n",
              "</div>\n",
              "\n",
              "    </div>\n",
              "  </div>\n"
            ],
            "application/vnd.google.colaboratory.intrinsic+json": {
              "type": "dataframe",
              "variable_name": "df"
            }
          },
          "metadata": {},
          "execution_count": 65
        }
      ]
    },
    {
      "cell_type": "code",
      "source": [
        "df.tail()"
      ],
      "metadata": {
        "colab": {
          "base_uri": "https://localhost:8080/",
          "height": 273
        },
        "id": "iyCoj9bhQZ4-",
        "outputId": "909f0159-436d-48b0-b0ee-14ef378ae3ef"
      },
      "execution_count": 66,
      "outputs": [
        {
          "output_type": "execute_result",
          "data": {
            "text/plain": [
              "        Unnamed: 0       ID_code  target    var_0   var_1    var_2   var_3  \\\n",
              "179995      179995  train_179995       0   8.9112 -4.4900  11.3795  5.4164   \n",
              "179996      179996  train_179996       0   8.2722  7.1923  16.7300  4.9698   \n",
              "179997      179997  train_179997       0  12.4902 -2.9379   6.5901  4.7242   \n",
              "179998      179998  train_179998       0   8.4894  0.7048  11.1518  4.6370   \n",
              "179999      179999  train_179999       0  11.6252  3.3959  11.5558  4.2003   \n",
              "\n",
              "         var_4    var_5    var_6  ...  var_40  var_41  var_42   var_43  \\\n",
              "179995  8.3309  14.1869  12.8219  ...  5.9355  5.1764 -5.4817  20.7390   \n",
              "179996  5.4907  14.0238  11.9933  ...  5.3550 -1.5556  7.3839   9.9193   \n",
              "179997  9.1423  13.9133  12.2314  ...  6.0708 -0.3463 -5.0098  20.4807   \n",
              "179998  8.1321  14.2921   6.9582  ...  5.5161  3.1774 -4.9374  23.6365   \n",
              "179999  7.4666  13.7381  12.9590  ...  5.0415 -2.4210 -3.6829  14.2422   \n",
              "\n",
              "        var_44   var_45  var_46   var_47  var_48   var_49  \n",
              "179995 -0.8043  31.3663  8.7194   4.7839  0.9673  14.9529  \n",
              "179996  5.0860  28.0185  7.4145   4.2814  2.5575  15.3969  \n",
              "179997  5.9814  20.2668  3.1006   3.7701  0.1299  16.1256  \n",
              "179998  1.0432  29.9365  9.6381   6.9649  2.5546  15.6760  \n",
              "179999  1.0741  26.3943  4.1482  11.9539  2.9846  15.6002  \n",
              "\n",
              "[5 rows x 53 columns]"
            ],
            "text/html": [
              "\n",
              "  <div id=\"df-99dbba14-f461-4389-98ae-261f571e1dd0\" class=\"colab-df-container\">\n",
              "    <div>\n",
              "<style scoped>\n",
              "    .dataframe tbody tr th:only-of-type {\n",
              "        vertical-align: middle;\n",
              "    }\n",
              "\n",
              "    .dataframe tbody tr th {\n",
              "        vertical-align: top;\n",
              "    }\n",
              "\n",
              "    .dataframe thead th {\n",
              "        text-align: right;\n",
              "    }\n",
              "</style>\n",
              "<table border=\"1\" class=\"dataframe\">\n",
              "  <thead>\n",
              "    <tr style=\"text-align: right;\">\n",
              "      <th></th>\n",
              "      <th>Unnamed: 0</th>\n",
              "      <th>ID_code</th>\n",
              "      <th>target</th>\n",
              "      <th>var_0</th>\n",
              "      <th>var_1</th>\n",
              "      <th>var_2</th>\n",
              "      <th>var_3</th>\n",
              "      <th>var_4</th>\n",
              "      <th>var_5</th>\n",
              "      <th>var_6</th>\n",
              "      <th>...</th>\n",
              "      <th>var_40</th>\n",
              "      <th>var_41</th>\n",
              "      <th>var_42</th>\n",
              "      <th>var_43</th>\n",
              "      <th>var_44</th>\n",
              "      <th>var_45</th>\n",
              "      <th>var_46</th>\n",
              "      <th>var_47</th>\n",
              "      <th>var_48</th>\n",
              "      <th>var_49</th>\n",
              "    </tr>\n",
              "  </thead>\n",
              "  <tbody>\n",
              "    <tr>\n",
              "      <th>179995</th>\n",
              "      <td>179995</td>\n",
              "      <td>train_179995</td>\n",
              "      <td>0</td>\n",
              "      <td>8.9112</td>\n",
              "      <td>-4.4900</td>\n",
              "      <td>11.3795</td>\n",
              "      <td>5.4164</td>\n",
              "      <td>8.3309</td>\n",
              "      <td>14.1869</td>\n",
              "      <td>12.8219</td>\n",
              "      <td>...</td>\n",
              "      <td>5.9355</td>\n",
              "      <td>5.1764</td>\n",
              "      <td>-5.4817</td>\n",
              "      <td>20.7390</td>\n",
              "      <td>-0.8043</td>\n",
              "      <td>31.3663</td>\n",
              "      <td>8.7194</td>\n",
              "      <td>4.7839</td>\n",
              "      <td>0.9673</td>\n",
              "      <td>14.9529</td>\n",
              "    </tr>\n",
              "    <tr>\n",
              "      <th>179996</th>\n",
              "      <td>179996</td>\n",
              "      <td>train_179996</td>\n",
              "      <td>0</td>\n",
              "      <td>8.2722</td>\n",
              "      <td>7.1923</td>\n",
              "      <td>16.7300</td>\n",
              "      <td>4.9698</td>\n",
              "      <td>5.4907</td>\n",
              "      <td>14.0238</td>\n",
              "      <td>11.9933</td>\n",
              "      <td>...</td>\n",
              "      <td>5.3550</td>\n",
              "      <td>-1.5556</td>\n",
              "      <td>7.3839</td>\n",
              "      <td>9.9193</td>\n",
              "      <td>5.0860</td>\n",
              "      <td>28.0185</td>\n",
              "      <td>7.4145</td>\n",
              "      <td>4.2814</td>\n",
              "      <td>2.5575</td>\n",
              "      <td>15.3969</td>\n",
              "    </tr>\n",
              "    <tr>\n",
              "      <th>179997</th>\n",
              "      <td>179997</td>\n",
              "      <td>train_179997</td>\n",
              "      <td>0</td>\n",
              "      <td>12.4902</td>\n",
              "      <td>-2.9379</td>\n",
              "      <td>6.5901</td>\n",
              "      <td>4.7242</td>\n",
              "      <td>9.1423</td>\n",
              "      <td>13.9133</td>\n",
              "      <td>12.2314</td>\n",
              "      <td>...</td>\n",
              "      <td>6.0708</td>\n",
              "      <td>-0.3463</td>\n",
              "      <td>-5.0098</td>\n",
              "      <td>20.4807</td>\n",
              "      <td>5.9814</td>\n",
              "      <td>20.2668</td>\n",
              "      <td>3.1006</td>\n",
              "      <td>3.7701</td>\n",
              "      <td>0.1299</td>\n",
              "      <td>16.1256</td>\n",
              "    </tr>\n",
              "    <tr>\n",
              "      <th>179998</th>\n",
              "      <td>179998</td>\n",
              "      <td>train_179998</td>\n",
              "      <td>0</td>\n",
              "      <td>8.4894</td>\n",
              "      <td>0.7048</td>\n",
              "      <td>11.1518</td>\n",
              "      <td>4.6370</td>\n",
              "      <td>8.1321</td>\n",
              "      <td>14.2921</td>\n",
              "      <td>6.9582</td>\n",
              "      <td>...</td>\n",
              "      <td>5.5161</td>\n",
              "      <td>3.1774</td>\n",
              "      <td>-4.9374</td>\n",
              "      <td>23.6365</td>\n",
              "      <td>1.0432</td>\n",
              "      <td>29.9365</td>\n",
              "      <td>9.6381</td>\n",
              "      <td>6.9649</td>\n",
              "      <td>2.5546</td>\n",
              "      <td>15.6760</td>\n",
              "    </tr>\n",
              "    <tr>\n",
              "      <th>179999</th>\n",
              "      <td>179999</td>\n",
              "      <td>train_179999</td>\n",
              "      <td>0</td>\n",
              "      <td>11.6252</td>\n",
              "      <td>3.3959</td>\n",
              "      <td>11.5558</td>\n",
              "      <td>4.2003</td>\n",
              "      <td>7.4666</td>\n",
              "      <td>13.7381</td>\n",
              "      <td>12.9590</td>\n",
              "      <td>...</td>\n",
              "      <td>5.0415</td>\n",
              "      <td>-2.4210</td>\n",
              "      <td>-3.6829</td>\n",
              "      <td>14.2422</td>\n",
              "      <td>1.0741</td>\n",
              "      <td>26.3943</td>\n",
              "      <td>4.1482</td>\n",
              "      <td>11.9539</td>\n",
              "      <td>2.9846</td>\n",
              "      <td>15.6002</td>\n",
              "    </tr>\n",
              "  </tbody>\n",
              "</table>\n",
              "<p>5 rows × 53 columns</p>\n",
              "</div>\n",
              "    <div class=\"colab-df-buttons\">\n",
              "\n",
              "  <div class=\"colab-df-container\">\n",
              "    <button class=\"colab-df-convert\" onclick=\"convertToInteractive('df-99dbba14-f461-4389-98ae-261f571e1dd0')\"\n",
              "            title=\"Convert this dataframe to an interactive table.\"\n",
              "            style=\"display:none;\">\n",
              "\n",
              "  <svg xmlns=\"http://www.w3.org/2000/svg\" height=\"24px\" viewBox=\"0 -960 960 960\">\n",
              "    <path d=\"M120-120v-720h720v720H120Zm60-500h600v-160H180v160Zm220 220h160v-160H400v160Zm0 220h160v-160H400v160ZM180-400h160v-160H180v160Zm440 0h160v-160H620v160ZM180-180h160v-160H180v160Zm440 0h160v-160H620v160Z\"/>\n",
              "  </svg>\n",
              "    </button>\n",
              "\n",
              "  <style>\n",
              "    .colab-df-container {\n",
              "      display:flex;\n",
              "      gap: 12px;\n",
              "    }\n",
              "\n",
              "    .colab-df-convert {\n",
              "      background-color: #E8F0FE;\n",
              "      border: none;\n",
              "      border-radius: 50%;\n",
              "      cursor: pointer;\n",
              "      display: none;\n",
              "      fill: #1967D2;\n",
              "      height: 32px;\n",
              "      padding: 0 0 0 0;\n",
              "      width: 32px;\n",
              "    }\n",
              "\n",
              "    .colab-df-convert:hover {\n",
              "      background-color: #E2EBFA;\n",
              "      box-shadow: 0px 1px 2px rgba(60, 64, 67, 0.3), 0px 1px 3px 1px rgba(60, 64, 67, 0.15);\n",
              "      fill: #174EA6;\n",
              "    }\n",
              "\n",
              "    .colab-df-buttons div {\n",
              "      margin-bottom: 4px;\n",
              "    }\n",
              "\n",
              "    [theme=dark] .colab-df-convert {\n",
              "      background-color: #3B4455;\n",
              "      fill: #D2E3FC;\n",
              "    }\n",
              "\n",
              "    [theme=dark] .colab-df-convert:hover {\n",
              "      background-color: #434B5C;\n",
              "      box-shadow: 0px 1px 3px 1px rgba(0, 0, 0, 0.15);\n",
              "      filter: drop-shadow(0px 1px 2px rgba(0, 0, 0, 0.3));\n",
              "      fill: #FFFFFF;\n",
              "    }\n",
              "  </style>\n",
              "\n",
              "    <script>\n",
              "      const buttonEl =\n",
              "        document.querySelector('#df-99dbba14-f461-4389-98ae-261f571e1dd0 button.colab-df-convert');\n",
              "      buttonEl.style.display =\n",
              "        google.colab.kernel.accessAllowed ? 'block' : 'none';\n",
              "\n",
              "      async function convertToInteractive(key) {\n",
              "        const element = document.querySelector('#df-99dbba14-f461-4389-98ae-261f571e1dd0');\n",
              "        const dataTable =\n",
              "          await google.colab.kernel.invokeFunction('convertToInteractive',\n",
              "                                                    [key], {});\n",
              "        if (!dataTable) return;\n",
              "\n",
              "        const docLinkHtml = 'Like what you see? Visit the ' +\n",
              "          '<a target=\"_blank\" href=https://colab.research.google.com/notebooks/data_table.ipynb>data table notebook</a>'\n",
              "          + ' to learn more about interactive tables.';\n",
              "        element.innerHTML = '';\n",
              "        dataTable['output_type'] = 'display_data';\n",
              "        await google.colab.output.renderOutput(dataTable, element);\n",
              "        const docLink = document.createElement('div');\n",
              "        docLink.innerHTML = docLinkHtml;\n",
              "        element.appendChild(docLink);\n",
              "      }\n",
              "    </script>\n",
              "  </div>\n",
              "\n",
              "\n",
              "<div id=\"df-e98d02a6-756d-4f6f-9d0f-b724d9a90843\">\n",
              "  <button class=\"colab-df-quickchart\" onclick=\"quickchart('df-e98d02a6-756d-4f6f-9d0f-b724d9a90843')\"\n",
              "            title=\"Suggest charts\"\n",
              "            style=\"display:none;\">\n",
              "\n",
              "<svg xmlns=\"http://www.w3.org/2000/svg\" height=\"24px\"viewBox=\"0 0 24 24\"\n",
              "     width=\"24px\">\n",
              "    <g>\n",
              "        <path d=\"M19 3H5c-1.1 0-2 .9-2 2v14c0 1.1.9 2 2 2h14c1.1 0 2-.9 2-2V5c0-1.1-.9-2-2-2zM9 17H7v-7h2v7zm4 0h-2V7h2v10zm4 0h-2v-4h2v4z\"/>\n",
              "    </g>\n",
              "</svg>\n",
              "  </button>\n",
              "\n",
              "<style>\n",
              "  .colab-df-quickchart {\n",
              "      --bg-color: #E8F0FE;\n",
              "      --fill-color: #1967D2;\n",
              "      --hover-bg-color: #E2EBFA;\n",
              "      --hover-fill-color: #174EA6;\n",
              "      --disabled-fill-color: #AAA;\n",
              "      --disabled-bg-color: #DDD;\n",
              "  }\n",
              "\n",
              "  [theme=dark] .colab-df-quickchart {\n",
              "      --bg-color: #3B4455;\n",
              "      --fill-color: #D2E3FC;\n",
              "      --hover-bg-color: #434B5C;\n",
              "      --hover-fill-color: #FFFFFF;\n",
              "      --disabled-bg-color: #3B4455;\n",
              "      --disabled-fill-color: #666;\n",
              "  }\n",
              "\n",
              "  .colab-df-quickchart {\n",
              "    background-color: var(--bg-color);\n",
              "    border: none;\n",
              "    border-radius: 50%;\n",
              "    cursor: pointer;\n",
              "    display: none;\n",
              "    fill: var(--fill-color);\n",
              "    height: 32px;\n",
              "    padding: 0;\n",
              "    width: 32px;\n",
              "  }\n",
              "\n",
              "  .colab-df-quickchart:hover {\n",
              "    background-color: var(--hover-bg-color);\n",
              "    box-shadow: 0 1px 2px rgba(60, 64, 67, 0.3), 0 1px 3px 1px rgba(60, 64, 67, 0.15);\n",
              "    fill: var(--button-hover-fill-color);\n",
              "  }\n",
              "\n",
              "  .colab-df-quickchart-complete:disabled,\n",
              "  .colab-df-quickchart-complete:disabled:hover {\n",
              "    background-color: var(--disabled-bg-color);\n",
              "    fill: var(--disabled-fill-color);\n",
              "    box-shadow: none;\n",
              "  }\n",
              "\n",
              "  .colab-df-spinner {\n",
              "    border: 2px solid var(--fill-color);\n",
              "    border-color: transparent;\n",
              "    border-bottom-color: var(--fill-color);\n",
              "    animation:\n",
              "      spin 1s steps(1) infinite;\n",
              "  }\n",
              "\n",
              "  @keyframes spin {\n",
              "    0% {\n",
              "      border-color: transparent;\n",
              "      border-bottom-color: var(--fill-color);\n",
              "      border-left-color: var(--fill-color);\n",
              "    }\n",
              "    20% {\n",
              "      border-color: transparent;\n",
              "      border-left-color: var(--fill-color);\n",
              "      border-top-color: var(--fill-color);\n",
              "    }\n",
              "    30% {\n",
              "      border-color: transparent;\n",
              "      border-left-color: var(--fill-color);\n",
              "      border-top-color: var(--fill-color);\n",
              "      border-right-color: var(--fill-color);\n",
              "    }\n",
              "    40% {\n",
              "      border-color: transparent;\n",
              "      border-right-color: var(--fill-color);\n",
              "      border-top-color: var(--fill-color);\n",
              "    }\n",
              "    60% {\n",
              "      border-color: transparent;\n",
              "      border-right-color: var(--fill-color);\n",
              "    }\n",
              "    80% {\n",
              "      border-color: transparent;\n",
              "      border-right-color: var(--fill-color);\n",
              "      border-bottom-color: var(--fill-color);\n",
              "    }\n",
              "    90% {\n",
              "      border-color: transparent;\n",
              "      border-bottom-color: var(--fill-color);\n",
              "    }\n",
              "  }\n",
              "</style>\n",
              "\n",
              "  <script>\n",
              "    async function quickchart(key) {\n",
              "      const quickchartButtonEl =\n",
              "        document.querySelector('#' + key + ' button');\n",
              "      quickchartButtonEl.disabled = true;  // To prevent multiple clicks.\n",
              "      quickchartButtonEl.classList.add('colab-df-spinner');\n",
              "      try {\n",
              "        const charts = await google.colab.kernel.invokeFunction(\n",
              "            'suggestCharts', [key], {});\n",
              "      } catch (error) {\n",
              "        console.error('Error during call to suggestCharts:', error);\n",
              "      }\n",
              "      quickchartButtonEl.classList.remove('colab-df-spinner');\n",
              "      quickchartButtonEl.classList.add('colab-df-quickchart-complete');\n",
              "    }\n",
              "    (() => {\n",
              "      let quickchartButtonEl =\n",
              "        document.querySelector('#df-e98d02a6-756d-4f6f-9d0f-b724d9a90843 button');\n",
              "      quickchartButtonEl.style.display =\n",
              "        google.colab.kernel.accessAllowed ? 'block' : 'none';\n",
              "    })();\n",
              "  </script>\n",
              "</div>\n",
              "\n",
              "    </div>\n",
              "  </div>\n"
            ],
            "application/vnd.google.colaboratory.intrinsic+json": {
              "type": "dataframe"
            }
          },
          "metadata": {},
          "execution_count": 66
        }
      ]
    },
    {
      "cell_type": "code",
      "source": [
        "\n",
        "df.describe()"
      ],
      "metadata": {
        "colab": {
          "base_uri": "https://localhost:8080/",
          "height": 349
        },
        "id": "9JxlX9b00jY4",
        "outputId": "526017af-2ce2-45d8-c05a-a3dfbc4028d1"
      },
      "execution_count": 67,
      "outputs": [
        {
          "output_type": "execute_result",
          "data": {
            "text/plain": [
              "          Unnamed: 0         target          var_0          var_1  \\\n",
              "count  180000.000000  180000.000000  180000.000000  180000.000000   \n",
              "mean    89999.500000       0.100222      10.678650      -1.630045   \n",
              "std     51961.668564       0.300297       3.041036       4.050519   \n",
              "min         0.000000       0.000000       0.408400     -15.043400   \n",
              "25%     44999.750000       0.000000       8.451675      -4.745600   \n",
              "50%     89999.500000       0.000000      10.526750      -1.611250   \n",
              "75%    134999.250000       0.000000      12.756200       1.360225   \n",
              "max    179999.000000       1.000000      20.315000      10.376800   \n",
              "\n",
              "               var_2          var_3          var_4          var_5  \\\n",
              "count  180000.000000  180000.000000  180000.000000  180000.000000   \n",
              "mean       10.712922       5.408688       7.566953      14.024017   \n",
              "std         2.639146       0.866265       1.235043       0.190038   \n",
              "min         2.117100       2.347300       3.970500      13.434600   \n",
              "25%         8.720000       4.768500       6.618800      13.893900   \n",
              "50%        10.579600       5.385600       7.628500      14.025500   \n",
              "75%        12.514100       6.003200       8.583800      14.164400   \n",
              "max        19.353000       8.447700      11.150600      14.654500   \n",
              "\n",
              "              var_6          var_7  ...         var_40         var_41  \\\n",
              "count  180000.00000  180000.000000  ...  180000.000000  180000.000000   \n",
              "mean        8.52808      15.243424  ...       5.635897      -0.000418   \n",
              "std         4.64170       7.851050  ...       0.369629       4.422915   \n",
              "min        -6.01110     -10.664200  ...       4.258800     -14.506000   \n",
              "25%         5.06575       9.170200  ...       5.374200      -3.253575   \n",
              "50%         8.59920      15.198900  ...       5.634500       0.008500   \n",
              "75%        12.27330      21.010500  ...       5.905600       3.098325   \n",
              "max        22.33150      41.748000  ...       7.089000      16.731900   \n",
              "\n",
              "              var_42         var_43         var_44         var_45  \\\n",
              "count  180000.000000  180000.000000  180000.000000  180000.000000   \n",
              "mean       -0.668334      20.208845       2.595090      12.756574   \n",
              "std         5.968300       7.132446       2.801692       9.320939   \n",
              "min       -22.748700      -2.995300      -7.856100     -18.489700   \n",
              "25%        -4.997500      15.062900       0.628600       5.661300   \n",
              "50%        -0.560300      20.203300       2.513800      12.520300   \n",
              "75%         3.632525      25.639125       4.396725      19.461725   \n",
              "max        18.855400      43.546800      13.448700      44.363400   \n",
              "\n",
              "              var_46         var_47         var_48         var_49  \n",
              "count  180000.000000  180000.000000  180000.000000  180000.000000  \n",
              "mean        3.236201       7.440715       1.927078      15.870166  \n",
              "std         4.561317       3.021636       1.476777       3.010492  \n",
              "min       -14.093300      -2.691700      -3.814500       6.299300  \n",
              "25%        -0.062000       5.160325       0.890000      13.830400  \n",
              "50%         3.204650       7.350950       1.899700      15.934600  \n",
              "75%         6.409900       9.511125       2.947225      18.061425  \n",
              "max        18.440900      16.716500       8.402400      26.079100  \n",
              "\n",
              "[8 rows x 52 columns]"
            ],
            "text/html": [
              "\n",
              "  <div id=\"df-a262ee8b-122e-4cb2-a3e5-391a80d3cff5\" class=\"colab-df-container\">\n",
              "    <div>\n",
              "<style scoped>\n",
              "    .dataframe tbody tr th:only-of-type {\n",
              "        vertical-align: middle;\n",
              "    }\n",
              "\n",
              "    .dataframe tbody tr th {\n",
              "        vertical-align: top;\n",
              "    }\n",
              "\n",
              "    .dataframe thead th {\n",
              "        text-align: right;\n",
              "    }\n",
              "</style>\n",
              "<table border=\"1\" class=\"dataframe\">\n",
              "  <thead>\n",
              "    <tr style=\"text-align: right;\">\n",
              "      <th></th>\n",
              "      <th>Unnamed: 0</th>\n",
              "      <th>target</th>\n",
              "      <th>var_0</th>\n",
              "      <th>var_1</th>\n",
              "      <th>var_2</th>\n",
              "      <th>var_3</th>\n",
              "      <th>var_4</th>\n",
              "      <th>var_5</th>\n",
              "      <th>var_6</th>\n",
              "      <th>var_7</th>\n",
              "      <th>...</th>\n",
              "      <th>var_40</th>\n",
              "      <th>var_41</th>\n",
              "      <th>var_42</th>\n",
              "      <th>var_43</th>\n",
              "      <th>var_44</th>\n",
              "      <th>var_45</th>\n",
              "      <th>var_46</th>\n",
              "      <th>var_47</th>\n",
              "      <th>var_48</th>\n",
              "      <th>var_49</th>\n",
              "    </tr>\n",
              "  </thead>\n",
              "  <tbody>\n",
              "    <tr>\n",
              "      <th>count</th>\n",
              "      <td>180000.000000</td>\n",
              "      <td>180000.000000</td>\n",
              "      <td>180000.000000</td>\n",
              "      <td>180000.000000</td>\n",
              "      <td>180000.000000</td>\n",
              "      <td>180000.000000</td>\n",
              "      <td>180000.000000</td>\n",
              "      <td>180000.000000</td>\n",
              "      <td>180000.00000</td>\n",
              "      <td>180000.000000</td>\n",
              "      <td>...</td>\n",
              "      <td>180000.000000</td>\n",
              "      <td>180000.000000</td>\n",
              "      <td>180000.000000</td>\n",
              "      <td>180000.000000</td>\n",
              "      <td>180000.000000</td>\n",
              "      <td>180000.000000</td>\n",
              "      <td>180000.000000</td>\n",
              "      <td>180000.000000</td>\n",
              "      <td>180000.000000</td>\n",
              "      <td>180000.000000</td>\n",
              "    </tr>\n",
              "    <tr>\n",
              "      <th>mean</th>\n",
              "      <td>89999.500000</td>\n",
              "      <td>0.100222</td>\n",
              "      <td>10.678650</td>\n",
              "      <td>-1.630045</td>\n",
              "      <td>10.712922</td>\n",
              "      <td>5.408688</td>\n",
              "      <td>7.566953</td>\n",
              "      <td>14.024017</td>\n",
              "      <td>8.52808</td>\n",
              "      <td>15.243424</td>\n",
              "      <td>...</td>\n",
              "      <td>5.635897</td>\n",
              "      <td>-0.000418</td>\n",
              "      <td>-0.668334</td>\n",
              "      <td>20.208845</td>\n",
              "      <td>2.595090</td>\n",
              "      <td>12.756574</td>\n",
              "      <td>3.236201</td>\n",
              "      <td>7.440715</td>\n",
              "      <td>1.927078</td>\n",
              "      <td>15.870166</td>\n",
              "    </tr>\n",
              "    <tr>\n",
              "      <th>std</th>\n",
              "      <td>51961.668564</td>\n",
              "      <td>0.300297</td>\n",
              "      <td>3.041036</td>\n",
              "      <td>4.050519</td>\n",
              "      <td>2.639146</td>\n",
              "      <td>0.866265</td>\n",
              "      <td>1.235043</td>\n",
              "      <td>0.190038</td>\n",
              "      <td>4.64170</td>\n",
              "      <td>7.851050</td>\n",
              "      <td>...</td>\n",
              "      <td>0.369629</td>\n",
              "      <td>4.422915</td>\n",
              "      <td>5.968300</td>\n",
              "      <td>7.132446</td>\n",
              "      <td>2.801692</td>\n",
              "      <td>9.320939</td>\n",
              "      <td>4.561317</td>\n",
              "      <td>3.021636</td>\n",
              "      <td>1.476777</td>\n",
              "      <td>3.010492</td>\n",
              "    </tr>\n",
              "    <tr>\n",
              "      <th>min</th>\n",
              "      <td>0.000000</td>\n",
              "      <td>0.000000</td>\n",
              "      <td>0.408400</td>\n",
              "      <td>-15.043400</td>\n",
              "      <td>2.117100</td>\n",
              "      <td>2.347300</td>\n",
              "      <td>3.970500</td>\n",
              "      <td>13.434600</td>\n",
              "      <td>-6.01110</td>\n",
              "      <td>-10.664200</td>\n",
              "      <td>...</td>\n",
              "      <td>4.258800</td>\n",
              "      <td>-14.506000</td>\n",
              "      <td>-22.748700</td>\n",
              "      <td>-2.995300</td>\n",
              "      <td>-7.856100</td>\n",
              "      <td>-18.489700</td>\n",
              "      <td>-14.093300</td>\n",
              "      <td>-2.691700</td>\n",
              "      <td>-3.814500</td>\n",
              "      <td>6.299300</td>\n",
              "    </tr>\n",
              "    <tr>\n",
              "      <th>25%</th>\n",
              "      <td>44999.750000</td>\n",
              "      <td>0.000000</td>\n",
              "      <td>8.451675</td>\n",
              "      <td>-4.745600</td>\n",
              "      <td>8.720000</td>\n",
              "      <td>4.768500</td>\n",
              "      <td>6.618800</td>\n",
              "      <td>13.893900</td>\n",
              "      <td>5.06575</td>\n",
              "      <td>9.170200</td>\n",
              "      <td>...</td>\n",
              "      <td>5.374200</td>\n",
              "      <td>-3.253575</td>\n",
              "      <td>-4.997500</td>\n",
              "      <td>15.062900</td>\n",
              "      <td>0.628600</td>\n",
              "      <td>5.661300</td>\n",
              "      <td>-0.062000</td>\n",
              "      <td>5.160325</td>\n",
              "      <td>0.890000</td>\n",
              "      <td>13.830400</td>\n",
              "    </tr>\n",
              "    <tr>\n",
              "      <th>50%</th>\n",
              "      <td>89999.500000</td>\n",
              "      <td>0.000000</td>\n",
              "      <td>10.526750</td>\n",
              "      <td>-1.611250</td>\n",
              "      <td>10.579600</td>\n",
              "      <td>5.385600</td>\n",
              "      <td>7.628500</td>\n",
              "      <td>14.025500</td>\n",
              "      <td>8.59920</td>\n",
              "      <td>15.198900</td>\n",
              "      <td>...</td>\n",
              "      <td>5.634500</td>\n",
              "      <td>0.008500</td>\n",
              "      <td>-0.560300</td>\n",
              "      <td>20.203300</td>\n",
              "      <td>2.513800</td>\n",
              "      <td>12.520300</td>\n",
              "      <td>3.204650</td>\n",
              "      <td>7.350950</td>\n",
              "      <td>1.899700</td>\n",
              "      <td>15.934600</td>\n",
              "    </tr>\n",
              "    <tr>\n",
              "      <th>75%</th>\n",
              "      <td>134999.250000</td>\n",
              "      <td>0.000000</td>\n",
              "      <td>12.756200</td>\n",
              "      <td>1.360225</td>\n",
              "      <td>12.514100</td>\n",
              "      <td>6.003200</td>\n",
              "      <td>8.583800</td>\n",
              "      <td>14.164400</td>\n",
              "      <td>12.27330</td>\n",
              "      <td>21.010500</td>\n",
              "      <td>...</td>\n",
              "      <td>5.905600</td>\n",
              "      <td>3.098325</td>\n",
              "      <td>3.632525</td>\n",
              "      <td>25.639125</td>\n",
              "      <td>4.396725</td>\n",
              "      <td>19.461725</td>\n",
              "      <td>6.409900</td>\n",
              "      <td>9.511125</td>\n",
              "      <td>2.947225</td>\n",
              "      <td>18.061425</td>\n",
              "    </tr>\n",
              "    <tr>\n",
              "      <th>max</th>\n",
              "      <td>179999.000000</td>\n",
              "      <td>1.000000</td>\n",
              "      <td>20.315000</td>\n",
              "      <td>10.376800</td>\n",
              "      <td>19.353000</td>\n",
              "      <td>8.447700</td>\n",
              "      <td>11.150600</td>\n",
              "      <td>14.654500</td>\n",
              "      <td>22.33150</td>\n",
              "      <td>41.748000</td>\n",
              "      <td>...</td>\n",
              "      <td>7.089000</td>\n",
              "      <td>16.731900</td>\n",
              "      <td>18.855400</td>\n",
              "      <td>43.546800</td>\n",
              "      <td>13.448700</td>\n",
              "      <td>44.363400</td>\n",
              "      <td>18.440900</td>\n",
              "      <td>16.716500</td>\n",
              "      <td>8.402400</td>\n",
              "      <td>26.079100</td>\n",
              "    </tr>\n",
              "  </tbody>\n",
              "</table>\n",
              "<p>8 rows × 52 columns</p>\n",
              "</div>\n",
              "    <div class=\"colab-df-buttons\">\n",
              "\n",
              "  <div class=\"colab-df-container\">\n",
              "    <button class=\"colab-df-convert\" onclick=\"convertToInteractive('df-a262ee8b-122e-4cb2-a3e5-391a80d3cff5')\"\n",
              "            title=\"Convert this dataframe to an interactive table.\"\n",
              "            style=\"display:none;\">\n",
              "\n",
              "  <svg xmlns=\"http://www.w3.org/2000/svg\" height=\"24px\" viewBox=\"0 -960 960 960\">\n",
              "    <path d=\"M120-120v-720h720v720H120Zm60-500h600v-160H180v160Zm220 220h160v-160H400v160Zm0 220h160v-160H400v160ZM180-400h160v-160H180v160Zm440 0h160v-160H620v160ZM180-180h160v-160H180v160Zm440 0h160v-160H620v160Z\"/>\n",
              "  </svg>\n",
              "    </button>\n",
              "\n",
              "  <style>\n",
              "    .colab-df-container {\n",
              "      display:flex;\n",
              "      gap: 12px;\n",
              "    }\n",
              "\n",
              "    .colab-df-convert {\n",
              "      background-color: #E8F0FE;\n",
              "      border: none;\n",
              "      border-radius: 50%;\n",
              "      cursor: pointer;\n",
              "      display: none;\n",
              "      fill: #1967D2;\n",
              "      height: 32px;\n",
              "      padding: 0 0 0 0;\n",
              "      width: 32px;\n",
              "    }\n",
              "\n",
              "    .colab-df-convert:hover {\n",
              "      background-color: #E2EBFA;\n",
              "      box-shadow: 0px 1px 2px rgba(60, 64, 67, 0.3), 0px 1px 3px 1px rgba(60, 64, 67, 0.15);\n",
              "      fill: #174EA6;\n",
              "    }\n",
              "\n",
              "    .colab-df-buttons div {\n",
              "      margin-bottom: 4px;\n",
              "    }\n",
              "\n",
              "    [theme=dark] .colab-df-convert {\n",
              "      background-color: #3B4455;\n",
              "      fill: #D2E3FC;\n",
              "    }\n",
              "\n",
              "    [theme=dark] .colab-df-convert:hover {\n",
              "      background-color: #434B5C;\n",
              "      box-shadow: 0px 1px 3px 1px rgba(0, 0, 0, 0.15);\n",
              "      filter: drop-shadow(0px 1px 2px rgba(0, 0, 0, 0.3));\n",
              "      fill: #FFFFFF;\n",
              "    }\n",
              "  </style>\n",
              "\n",
              "    <script>\n",
              "      const buttonEl =\n",
              "        document.querySelector('#df-a262ee8b-122e-4cb2-a3e5-391a80d3cff5 button.colab-df-convert');\n",
              "      buttonEl.style.display =\n",
              "        google.colab.kernel.accessAllowed ? 'block' : 'none';\n",
              "\n",
              "      async function convertToInteractive(key) {\n",
              "        const element = document.querySelector('#df-a262ee8b-122e-4cb2-a3e5-391a80d3cff5');\n",
              "        const dataTable =\n",
              "          await google.colab.kernel.invokeFunction('convertToInteractive',\n",
              "                                                    [key], {});\n",
              "        if (!dataTable) return;\n",
              "\n",
              "        const docLinkHtml = 'Like what you see? Visit the ' +\n",
              "          '<a target=\"_blank\" href=https://colab.research.google.com/notebooks/data_table.ipynb>data table notebook</a>'\n",
              "          + ' to learn more about interactive tables.';\n",
              "        element.innerHTML = '';\n",
              "        dataTable['output_type'] = 'display_data';\n",
              "        await google.colab.output.renderOutput(dataTable, element);\n",
              "        const docLink = document.createElement('div');\n",
              "        docLink.innerHTML = docLinkHtml;\n",
              "        element.appendChild(docLink);\n",
              "      }\n",
              "    </script>\n",
              "  </div>\n",
              "\n",
              "\n",
              "<div id=\"df-5848c1ac-9905-40ce-9acb-64ca28baa680\">\n",
              "  <button class=\"colab-df-quickchart\" onclick=\"quickchart('df-5848c1ac-9905-40ce-9acb-64ca28baa680')\"\n",
              "            title=\"Suggest charts\"\n",
              "            style=\"display:none;\">\n",
              "\n",
              "<svg xmlns=\"http://www.w3.org/2000/svg\" height=\"24px\"viewBox=\"0 0 24 24\"\n",
              "     width=\"24px\">\n",
              "    <g>\n",
              "        <path d=\"M19 3H5c-1.1 0-2 .9-2 2v14c0 1.1.9 2 2 2h14c1.1 0 2-.9 2-2V5c0-1.1-.9-2-2-2zM9 17H7v-7h2v7zm4 0h-2V7h2v10zm4 0h-2v-4h2v4z\"/>\n",
              "    </g>\n",
              "</svg>\n",
              "  </button>\n",
              "\n",
              "<style>\n",
              "  .colab-df-quickchart {\n",
              "      --bg-color: #E8F0FE;\n",
              "      --fill-color: #1967D2;\n",
              "      --hover-bg-color: #E2EBFA;\n",
              "      --hover-fill-color: #174EA6;\n",
              "      --disabled-fill-color: #AAA;\n",
              "      --disabled-bg-color: #DDD;\n",
              "  }\n",
              "\n",
              "  [theme=dark] .colab-df-quickchart {\n",
              "      --bg-color: #3B4455;\n",
              "      --fill-color: #D2E3FC;\n",
              "      --hover-bg-color: #434B5C;\n",
              "      --hover-fill-color: #FFFFFF;\n",
              "      --disabled-bg-color: #3B4455;\n",
              "      --disabled-fill-color: #666;\n",
              "  }\n",
              "\n",
              "  .colab-df-quickchart {\n",
              "    background-color: var(--bg-color);\n",
              "    border: none;\n",
              "    border-radius: 50%;\n",
              "    cursor: pointer;\n",
              "    display: none;\n",
              "    fill: var(--fill-color);\n",
              "    height: 32px;\n",
              "    padding: 0;\n",
              "    width: 32px;\n",
              "  }\n",
              "\n",
              "  .colab-df-quickchart:hover {\n",
              "    background-color: var(--hover-bg-color);\n",
              "    box-shadow: 0 1px 2px rgba(60, 64, 67, 0.3), 0 1px 3px 1px rgba(60, 64, 67, 0.15);\n",
              "    fill: var(--button-hover-fill-color);\n",
              "  }\n",
              "\n",
              "  .colab-df-quickchart-complete:disabled,\n",
              "  .colab-df-quickchart-complete:disabled:hover {\n",
              "    background-color: var(--disabled-bg-color);\n",
              "    fill: var(--disabled-fill-color);\n",
              "    box-shadow: none;\n",
              "  }\n",
              "\n",
              "  .colab-df-spinner {\n",
              "    border: 2px solid var(--fill-color);\n",
              "    border-color: transparent;\n",
              "    border-bottom-color: var(--fill-color);\n",
              "    animation:\n",
              "      spin 1s steps(1) infinite;\n",
              "  }\n",
              "\n",
              "  @keyframes spin {\n",
              "    0% {\n",
              "      border-color: transparent;\n",
              "      border-bottom-color: var(--fill-color);\n",
              "      border-left-color: var(--fill-color);\n",
              "    }\n",
              "    20% {\n",
              "      border-color: transparent;\n",
              "      border-left-color: var(--fill-color);\n",
              "      border-top-color: var(--fill-color);\n",
              "    }\n",
              "    30% {\n",
              "      border-color: transparent;\n",
              "      border-left-color: var(--fill-color);\n",
              "      border-top-color: var(--fill-color);\n",
              "      border-right-color: var(--fill-color);\n",
              "    }\n",
              "    40% {\n",
              "      border-color: transparent;\n",
              "      border-right-color: var(--fill-color);\n",
              "      border-top-color: var(--fill-color);\n",
              "    }\n",
              "    60% {\n",
              "      border-color: transparent;\n",
              "      border-right-color: var(--fill-color);\n",
              "    }\n",
              "    80% {\n",
              "      border-color: transparent;\n",
              "      border-right-color: var(--fill-color);\n",
              "      border-bottom-color: var(--fill-color);\n",
              "    }\n",
              "    90% {\n",
              "      border-color: transparent;\n",
              "      border-bottom-color: var(--fill-color);\n",
              "    }\n",
              "  }\n",
              "</style>\n",
              "\n",
              "  <script>\n",
              "    async function quickchart(key) {\n",
              "      const quickchartButtonEl =\n",
              "        document.querySelector('#' + key + ' button');\n",
              "      quickchartButtonEl.disabled = true;  // To prevent multiple clicks.\n",
              "      quickchartButtonEl.classList.add('colab-df-spinner');\n",
              "      try {\n",
              "        const charts = await google.colab.kernel.invokeFunction(\n",
              "            'suggestCharts', [key], {});\n",
              "      } catch (error) {\n",
              "        console.error('Error during call to suggestCharts:', error);\n",
              "      }\n",
              "      quickchartButtonEl.classList.remove('colab-df-spinner');\n",
              "      quickchartButtonEl.classList.add('colab-df-quickchart-complete');\n",
              "    }\n",
              "    (() => {\n",
              "      let quickchartButtonEl =\n",
              "        document.querySelector('#df-5848c1ac-9905-40ce-9acb-64ca28baa680 button');\n",
              "      quickchartButtonEl.style.display =\n",
              "        google.colab.kernel.accessAllowed ? 'block' : 'none';\n",
              "    })();\n",
              "  </script>\n",
              "</div>\n",
              "\n",
              "    </div>\n",
              "  </div>\n"
            ],
            "application/vnd.google.colaboratory.intrinsic+json": {
              "type": "dataframe"
            }
          },
          "metadata": {},
          "execution_count": 67
        }
      ]
    },
    {
      "cell_type": "code",
      "source": [
        "df = df.drop(columns=['Unnamed: 0'])\n"
      ],
      "metadata": {
        "id": "bDcv_nDhQr7k"
      },
      "execution_count": 68,
      "outputs": []
    },
    {
      "cell_type": "code",
      "source": [
        "\n",
        "missing_values = df.isnull().sum()\n",
        "\n",
        "print(\"Missing values in each column:\\n\", missing_values)\n"
      ],
      "metadata": {
        "colab": {
          "base_uri": "https://localhost:8080/"
        },
        "id": "-ExPJV6aaEzu",
        "outputId": "155a4f13-7295-4d0c-ba65-22c881e4db4e"
      },
      "execution_count": 69,
      "outputs": [
        {
          "output_type": "stream",
          "name": "stdout",
          "text": [
            "Missing values in each column:\n",
            " ID_code    0\n",
            "target     0\n",
            "var_0      0\n",
            "var_1      0\n",
            "var_2      0\n",
            "var_3      0\n",
            "var_4      0\n",
            "var_5      0\n",
            "var_6      0\n",
            "var_7      0\n",
            "var_8      0\n",
            "var_9      0\n",
            "var_10     0\n",
            "var_11     0\n",
            "var_12     0\n",
            "var_13     0\n",
            "var_14     0\n",
            "var_15     0\n",
            "var_16     0\n",
            "var_17     0\n",
            "var_18     0\n",
            "var_19     0\n",
            "var_20     0\n",
            "var_21     0\n",
            "var_22     0\n",
            "var_23     0\n",
            "var_24     0\n",
            "var_25     0\n",
            "var_26     0\n",
            "var_27     0\n",
            "var_28     0\n",
            "var_29     0\n",
            "var_30     0\n",
            "var_31     0\n",
            "var_32     0\n",
            "var_33     0\n",
            "var_34     0\n",
            "var_35     0\n",
            "var_36     0\n",
            "var_37     0\n",
            "var_38     0\n",
            "var_39     0\n",
            "var_40     0\n",
            "var_41     0\n",
            "var_42     0\n",
            "var_43     0\n",
            "var_44     0\n",
            "var_45     0\n",
            "var_46     0\n",
            "var_47     0\n",
            "var_48     0\n",
            "var_49     0\n",
            "dtype: int64\n"
          ]
        }
      ]
    },
    {
      "cell_type": "code",
      "source": [
        "\n",
        "df.isnull().sum().sum()\n",
        "# missing_values = df.isnull().sum().sum\n",
        "# print(\"Missing values in each column:\\n\", missing_values)"
      ],
      "metadata": {
        "id": "cKmNoagT_8Yn",
        "outputId": "c5674f0c-0c80-40ca-c4be-6ab40b243f7b",
        "colab": {
          "base_uri": "https://localhost:8080/"
        },
        "collapsed": true
      },
      "execution_count": 70,
      "outputs": [
        {
          "output_type": "execute_result",
          "data": {
            "text/plain": [
              "0"
            ]
          },
          "metadata": {},
          "execution_count": 70
        }
      ]
    },
    {
      "cell_type": "markdown",
      "source": [
        "# Exploratory Data Analysis\n",
        "\n",
        "\n",
        "\n",
        "\n",
        "\n"
      ],
      "metadata": {
        "id": "zQQdzokJ5FA3"
      }
    },
    {
      "cell_type": "code",
      "source": [
        "import seaborn as sns\n",
        "import matplotlib.pyplot as plt"
      ],
      "metadata": {
        "id": "dqpw0MOdddZ7"
      },
      "execution_count": 71,
      "outputs": []
    },
    {
      "cell_type": "code",
      "source": [
        "\n",
        "for var in ['var_0', 'var_1', 'var_2', 'var_3']:\n",
        "    plt.figure(figsize=(4, 2))\n",
        "    sns.histplot(df[var], kde=True)\n",
        "    plt.title(f'Distribution of {var}')\n",
        "    plt.show()\n"
      ],
      "metadata": {
        "colab": {
          "base_uri": "https://localhost:8080/",
          "height": 973
        },
        "id": "InSJ71XOTYZS",
        "outputId": "983c87fe-4282-40e4-aeca-a35fdda157d1"
      },
      "execution_count": 72,
      "outputs": [
        {
          "output_type": "display_data",
          "data": {
            "text/plain": [
              "<Figure size 400x200 with 1 Axes>"
            ],
            "image/png": "[encoded data removed]"
          },
          "metadata": {}
        },
        {
          "output_type": "display_data",
          "data": {
            "text/plain": [
              "<Figure size 400x200 with 1 Axes>"
            ],
            "image/png": "[encoded data removed]"
          },
          "metadata": {}
        },
        {
          "output_type": "display_data",
          "data": {
            "text/plain": [
              "<Figure size 400x200 with 1 Axes>"
            ],
            "image/png": "[encoded data removed]"
          },
          "metadata": {}
        },
        {
          "output_type": "display_data",
          "data": {
            "text/plain": [
              "<Figure size 400x200 with 1 Axes>"
            ],
            "image/png": "[encoded data removed]"
          },
          "metadata": {}
        }
      ]
    },
    {
      "cell_type": "markdown",
      "source": [
        "## target value"
      ],
      "metadata": {
        "id": "YMa6vlwGvIMR"
      }
    },
    {
      "cell_type": "code",
      "source": [
        "\n",
        "print(df['target'].unique())\n",
        "\n",
        "print(df['target'].value_counts())\n"
      ],
      "metadata": {
        "colab": {
          "base_uri": "https://localhost:8080/"
        },
        "id": "RU4IJSPMUrAK",
        "outputId": "af75182a-f826-455f-b224-348033549853"
      },
      "execution_count": 73,
      "outputs": [
        {
          "output_type": "stream",
          "name": "stdout",
          "text": [
            "[0 1]\n",
            "target\n",
            "0    161960\n",
            "1     18040\n",
            "Name: count, dtype: int64\n"
          ]
        }
      ]
    },
    {
      "cell_type": "code",
      "source": [
        "\n",
        "print(df['target'].unique())\n",
        "\n",
        "df['target'].value_counts()\n"
      ],
      "metadata": {
        "colab": {
          "base_uri": "https://localhost:8080/",
          "height": 195
        },
        "id": "L0idK0AbbfUQ",
        "outputId": "2f587a9a-9026-4199-e7d5-6c9ab333157a"
      },
      "execution_count": 74,
      "outputs": [
        {
          "output_type": "stream",
          "name": "stdout",
          "text": [
            "[0 1]\n"
          ]
        },
        {
          "output_type": "execute_result",
          "data": {
            "text/plain": [
              "target\n",
              "0    161960\n",
              "1     18040\n",
              "Name: count, dtype: int64"
            ],
            "text/html": [
              "<div>\n",
              "<style scoped>\n",
              "    .dataframe tbody tr th:only-of-type {\n",
              "        vertical-align: middle;\n",
              "    }\n",
              "\n",
              "    .dataframe tbody tr th {\n",
              "        vertical-align: top;\n",
              "    }\n",
              "\n",
              "    .dataframe thead th {\n",
              "        text-align: right;\n",
              "    }\n",
              "</style>\n",
              "<table border=\"1\" class=\"dataframe\">\n",
              "  <thead>\n",
              "    <tr style=\"text-align: right;\">\n",
              "      <th></th>\n",
              "      <th>count</th>\n",
              "    </tr>\n",
              "    <tr>\n",
              "      <th>target</th>\n",
              "      <th></th>\n",
              "    </tr>\n",
              "  </thead>\n",
              "  <tbody>\n",
              "    <tr>\n",
              "      <th>0</th>\n",
              "      <td>161960</td>\n",
              "    </tr>\n",
              "    <tr>\n",
              "      <th>1</th>\n",
              "      <td>18040</td>\n",
              "    </tr>\n",
              "  </tbody>\n",
              "</table>\n",
              "</div><br><label><b>dtype:</b> int64</label>"
            ]
          },
          "metadata": {},
          "execution_count": 74
        }
      ]
    },
    {
      "cell_type": "code",
      "source": [
        "numeric_df = df.select_dtypes(include=['number'])\n",
        "\n",
        "corr = numeric_df.corr()"
      ],
      "metadata": {
        "id": "2ArB91DBJi6j"
      },
      "execution_count": 75,
      "outputs": []
    },
    {
      "cell_type": "code",
      "source": [
        "\n",
        "plt.figure(figsize=(10,6))\n",
        "sns.heatmap(corr, cmap='Blues', annot=False)\n",
        "plt.show()\n"
      ],
      "metadata": {
        "colab": {
          "base_uri": "https://localhost:8080/",
          "height": 561
        },
        "id": "GlW5KRtxckyY",
        "outputId": "43b05389-2bdb-4768-f861-cefe21ad5de4"
      },
      "execution_count": 76,
      "outputs": [
        {
          "output_type": "display_data",
          "data": {
            "text/plain": [
              "<Figure size 1000x600 with 2 Axes>"
            ],
            "image/png": "[encoded data removed]"
          },
          "metadata": {}
        }
      ]
    },
    {
      "cell_type": "code",
      "source": [
        "selected_columns = ['var_0', 'var_1', 'var_2', 'var_3']\n",
        "corr_matrix_subset = numeric_df[selected_columns].corr()\n",
        "\n",
        "plt.figure(figsize=(8,6))\n",
        "sns.heatmap(corr_matrix_subset, annot=True, cmap='coolwarm')\n",
        "plt.title('Correlation Matrix (Subset)')\n",
        "plt.show()"
      ],
      "metadata": {
        "colab": {
          "base_uri": "https://localhost:8080/",
          "height": 545
        },
        "id": "VBuCO9ynd5rm",
        "outputId": "0d415409-5c3d-4686-9a32-596ff3bf7175"
      },
      "execution_count": 77,
      "outputs": [
        {
          "output_type": "display_data",
          "data": {
            "text/plain": [
              "<Figure size 800x600 with 2 Axes>"
            ],
            "image/png": "[encoded data removed]"
          },
          "metadata": {}
        }
      ]
    },
    {
      "cell_type": "code",
      "source": [
        "\n",
        "successful_transactions = df[df['target'] == 1].copy()\n",
        "\n",
        "unsuccessful_transactions = df[df['target'] == 0].copy()\n",
        "\n",
        "print(successful_transactions.head())\n",
        "print(unsuccessful_transactions.head())\n"
      ],
      "metadata": {
        "colab": {
          "base_uri": "https://localhost:8080/"
        },
        "id": "uTAH0JbncFRx",
        "outputId": "46df8587-02d5-4c55-8450-3a4738e0c041"
      },
      "execution_count": 78,
      "outputs": [
        {
          "output_type": "stream",
          "name": "stdout",
          "text": [
            "     ID_code  target    var_0   var_1    var_2   var_3   var_4    var_5  \\\n",
            "13  train_13       1  16.3699  1.5934  16.7395  4.8222  8.6978  13.7999   \n",
            "29  train_29       1   5.3301 -2.6064  13.1913  5.9064  9.1168  14.0957   \n",
            "63  train_63       1   7.7072  0.0183   9.9974  6.0425  6.6710  14.0503   \n",
            "65  train_65       1  10.5358 -2.5439   8.7394  5.1584  9.0358  13.6021   \n",
            "71  train_71       1   6.7547  2.5973  14.2141  4.2336  9.1282  13.9394   \n",
            "\n",
            "      var_6    var_7  ...  var_40   var_41  var_42   var_43  var_44   var_45  \\\n",
            "13   2.7925  14.3984  ...  5.6656   3.5750 -2.2723  15.7383  8.5618  11.8982   \n",
            "29  12.3335   1.6610  ...  5.4183   8.6643  4.1428   4.7056  4.3694  16.4554   \n",
            "63   9.0144  -2.3445  ...  6.0669   2.5841  2.2445  23.1283  2.9384  27.6213   \n",
            "65   4.2864  13.8723  ...  6.1149   2.2550 -7.2104  19.7545  6.3190  11.9410   \n",
            "71   3.6480  24.2658  ...  5.0565  11.9429  0.3140  20.4828  7.9488  11.2587   \n",
            "\n",
            "    var_46  var_47  var_48   var_49  \n",
            "13  7.4002  7.4031  4.3989  15.6064  \n",
            "29  5.9215  7.9676  2.3405  17.4105  \n",
            "63  1.5832  5.0039  3.8814  15.7685  \n",
            "65  4.6648  6.4227  3.4025  15.1340  \n",
            "71  1.4677  3.5935  2.0013  18.9013  \n",
            "\n",
            "[5 rows x 52 columns]\n",
            "   ID_code  target    var_0   var_1    var_2   var_3   var_4    var_5  \\\n",
            "0  train_0       0   8.9255 -6.7863  11.9081  5.1187  5.7470  14.0137   \n",
            "1  train_1       0  11.5006 -4.1473  13.8588  5.6208  8.0851  14.0239   \n",
            "2  train_2       0   8.6093 -2.7457  12.0805  6.9427  5.9525  14.1929   \n",
            "3  train_3       0  11.0604 -2.1518   8.9522  5.8428  8.2450  13.8463   \n",
            "4  train_4       0   9.8369 -1.4834  12.8746  5.9405  7.6784  13.8481   \n",
            "\n",
            "     var_6    var_7  ...  var_40  var_41   var_42   var_43   var_44   var_45  \\\n",
            "0   0.5745   4.2840  ...  5.4879 -4.7645   3.1531  18.5618   1.7202  25.8398   \n",
            "1   8.4135   7.8000  ...  5.7999  5.5378   5.5134  30.2645  11.0752  22.5441   \n",
            "2   7.3124   4.7011  ...  5.7690 -7.0927  -5.8234  25.6820   2.4013  23.0866   \n",
            "3  11.9704  15.9426  ...  5.3430 -7.1541  11.7134  14.7483   5.6961  -0.4639   \n",
            "4   7.8895   6.5263  ...  5.5518  1.4493   2.3705  18.4685   5.1743  11.8503   \n",
            "\n",
            "   var_46  var_47  var_48   var_49  \n",
            "0  4.4354  3.9642  3.1364  12.7803  \n",
            "1  7.6421  7.7214  2.5837  18.3560  \n",
            "2  2.9057  9.7905  1.6704  14.7222  \n",
            "3  4.4666  4.7433  0.7178  17.9697  \n",
            "4 -1.4905  9.5214 -0.1508  17.9974  \n",
            "\n",
            "[5 rows x 52 columns]\n"
          ]
        }
      ]
    },
    {
      "cell_type": "code",
      "source": [
        "\n",
        "successful_df = df[df['target'] == 1].copy()\n",
        "unsuccessful_df = df[df['target'] == 0].copy()\n",
        "\n",
        "print(\"Shape of successful transactions:\", successful_df.shape)\n",
        "print(\"Shape of unsuccessful transactions:\", unsuccessful_df.shape)\n"
      ],
      "metadata": {
        "colab": {
          "base_uri": "https://localhost:8080/"
        },
        "id": "t6XjGnNwMvAO",
        "outputId": "eadeecc6-484e-45c5-d6fe-a38f4617333a"
      },
      "execution_count": 79,
      "outputs": [
        {
          "output_type": "stream",
          "name": "stdout",
          "text": [
            "Shape of successful transactions: (18040, 52)\n",
            "Shape of unsuccessful transactions: (161960, 52)\n"
          ]
        }
      ]
    },
    {
      "cell_type": "code",
      "source": [
        "\n",
        "successful_df = df[df['target'] == 1].copy()              # Create a DataFrame for successful transactions (target = 1)\n",
        "\n",
        "\n",
        "unsuccessful_df = df[df['target'] == 0].copy()            # Create a DataFrame for unsuccessful transactions (target = 0)\n",
        "\n",
        "print(\"Successful transactions shape:\", successful_df.shape)\n",
        "print(\"Unsuccessful transactions shape:\", unsuccessful_df.shape)\n"
      ],
      "metadata": {
        "colab": {
          "base_uri": "https://localhost:8080/"
        },
        "id": "5SWUHlKzVAGY",
        "outputId": "bc00ebca-7178-4cfb-8e40-49ff4ef30035"
      },
      "execution_count": 80,
      "outputs": [
        {
          "output_type": "stream",
          "name": "stdout",
          "text": [
            "Successful transactions shape: (18040, 52)\n",
            "Unsuccessful transactions shape: (161960, 52)\n"
          ]
        }
      ]
    },
    {
      "cell_type": "code",
      "source": [
        "\n",
        "predictors_df = numeric_df.drop(columns=['target'])# Create a dataframe for the predictors\n",
        "\n",
        "target_df = df['target']                          # Create a dataframe for the target variable\n",
        "\n",
        "print(\"Predictors shape: \", predictors_df.shape)\n",
        "print(\"Target shape: \", target_df.shape)"
      ],
      "metadata": {
        "colab": {
          "base_uri": "https://localhost:8080/"
        },
        "id": "A79GiEu2bmGF",
        "outputId": "84879978-f624-4d30-fa60-168f75ecf5c5"
      },
      "execution_count": 81,
      "outputs": [
        {
          "output_type": "stream",
          "name": "stdout",
          "text": [
            "Predictors shape:  (180000, 50)\n",
            "Target shape:  (180000,)\n"
          ]
        }
      ]
    },
    {
      "cell_type": "code",
      "source": [
        "from sklearn.model_selection import train_test_split\n",
        "\n",
        "X = df.drop(columns=['target', 'ID_code'])\n",
        "y = df['target']\n",
        "\n",
        "X_train, X_test, y_train, y_test = train_test_split(X, y, test_size=0.2, random_state=42)\n"
      ],
      "metadata": {
        "id": "gCvbuVIuSppt"
      },
      "execution_count": 82,
      "outputs": []
    },
    {
      "cell_type": "code",
      "source": [
        "from sklearn.naive_bayes import GaussianNB\n",
        "from sklearn.metrics import accuracy_score, classification_report\n",
        "\n",
        "gnb = GaussianNB()\n",
        "gnb.fit(X_train, y_train)\n",
        "\n",
        "y_pred = gnb.predict(X_test)\n",
        "\n",
        "print(f'Accuracy: {accuracy_score(y_test, y_pred):.4f}')\n",
        "print(classification_report(y_test, y_pred))\n"
      ],
      "metadata": {
        "colab": {
          "base_uri": "https://localhost:8080/"
        },
        "id": "vNTmzcA5SyLz",
        "outputId": "ae8159c3-ff7f-4bb2-b4e3-fdb66678805f"
      },
      "execution_count": 83,
      "outputs": [
        {
          "output_type": "stream",
          "name": "stdout",
          "text": [
            "Accuracy: 0.9089\n",
            "              precision    recall  f1-score   support\n",
            "\n",
            "           0       0.92      0.99      0.95     32349\n",
            "           1       0.66      0.21      0.32      3651\n",
            "\n",
            "    accuracy                           0.91     36000\n",
            "   macro avg       0.79      0.60      0.64     36000\n",
            "weighted avg       0.89      0.91      0.89     36000\n",
            "\n"
          ]
        }
      ]
    },
    {
      "cell_type": "code",
      "source": [
        "\n",
        "import numpy as np\n",
        "\n",
        "\n",
        "numeric_df = df.select_dtypes(include=[np.number])\n",
        "numeric_df = numeric_df.fillna(0)  # Replace NaN values with 0\n"
      ],
      "metadata": {
        "id": "paajODXPnn58"
      },
      "execution_count": 84,
      "outputs": []
    },
    {
      "cell_type": "code",
      "source": [
        "# df.drop(“Unnamed: 0”, axis = 1, inplace = True) # Dropping our Columns labeling each training set with no additional information\n",
        "# df.drop(“ID_code”, axis = 1, inplace = True)"
      ],
      "metadata": {
        "id": "YRecSUwwjrV4"
      },
      "execution_count": 85,
      "outputs": []
    },
    {
      "cell_type": "code",
      "source": [
        "numeric_df = df.select_dtypes(include=[np.number])\n",
        "numeric_df = numeric_df.fillna(0)"
      ],
      "metadata": {
        "id": "5Ny2GO2TAfbZ"
      },
      "execution_count": 86,
      "outputs": []
    },
    {
      "cell_type": "code",
      "source": [
        "corr = numeric_df.drop(columns=['target']).corr()"
      ],
      "metadata": {
        "id": "WHHkZtKSAihg"
      },
      "execution_count": 87,
      "outputs": []
    },
    {
      "cell_type": "code",
      "source": [
        "corr =numeric_df.corr()\n",
        "plt.figure(figsize=(10,6))\n",
        "sns.heatmap(corr, cmap='Blues',annot = False);"
      ],
      "metadata": {
        "colab": {
          "base_uri": "https://localhost:8080/",
          "height": 561
        },
        "id": "qV9otAhOoA22",
        "outputId": "ba859394-fa55-4f81-e91b-ec33c851dd15"
      },
      "execution_count": 88,
      "outputs": [
        {
          "output_type": "display_data",
          "data": {
            "text/plain": [
              "<Figure size 1000x600 with 2 Axes>"
            ],
            "image/png": "[encoded data removed]"
          },
          "metadata": {}
        }
      ]
    },
    {
      "cell_type": "markdown",
      "source": [
        "## Data Processing\n",
        "\n",
        "\n",
        "\n"
      ],
      "metadata": {
        "id": "z_Xst-YM5DQp"
      }
    },
    {
      "cell_type": "markdown",
      "source": [
        "##Gaussian Naive Bayes Model"
      ],
      "metadata": {
        "id": "Amsw-GzJkgqq"
      }
    },
    {
      "cell_type": "code",
      "source": [
        "# solution 10\n",
        "if 'Unnamed: 0' in df.columns:\n",
        "    X = df.drop(columns=['Unnamed: 0', 'ID_code', 'target'])\n",
        "else:\n",
        "    X = df.drop(columns=['ID_code', 'target'])\n",
        "\n",
        "y = df['target']\n",
        "\n",
        "print(\"Shape of predictor variables (X):\", X.shape)\n",
        "print(\"Shape of target variable (y):\", y.shape)\n"
      ],
      "metadata": {
        "colab": {
          "base_uri": "https://localhost:8080/"
        },
        "id": "Lpw4RIotiBOM",
        "outputId": "28e48b79-e484-4349-a6b3-6c9a110641dd"
      },
      "execution_count": 89,
      "outputs": [
        {
          "output_type": "stream",
          "name": "stdout",
          "text": [
            "Shape of predictor variables (X): (180000, 50)\n",
            "Shape of target variable (y): (180000,)\n"
          ]
        }
      ]
    },
    {
      "cell_type": "code",
      "source": [
        "\n",
        "X.hist(figsize=(12, 10), bins=20)\n",
        "plt.suptitle('Distribution of Predictor Variables')\n",
        "plt.show()\n"
      ],
      "metadata": {
        "colab": {
          "base_uri": "https://localhost:8080/",
          "height": 930
        },
        "id": "OhRYm0wENm95",
        "outputId": "3be4423e-6002-4284-9ede-abd593b7f955"
      },
      "execution_count": 90,
      "outputs": [
        {
          "output_type": "display_data",
          "data": {
            "text/plain": [
              "<Figure size 1200x1000 with 56 Axes>"
            ],
            "image/png": "[encoded data removed]"
          },
          "metadata": {}
        }
      ]
    },
    {
      "cell_type": "code",
      "source": [
        "#solution 11\n",
        "from sklearn.naive_bayes import GaussianNB\n",
        "\n",
        "model = GaussianNB()\n",
        "\n",
        "\n",
        "model.fit(X, y)\n",
        "\n",
        "print(\"Model training completed successfully!\")\n",
        "\n"
      ],
      "metadata": {
        "colab": {
          "base_uri": "https://localhost:8080/"
        },
        "id": "GL0Rcs3XhKz5",
        "outputId": "ee7d095e-25d0-4baf-fd91-8a7fd267b89f"
      },
      "execution_count": 91,
      "outputs": [
        {
          "output_type": "stream",
          "name": "stdout",
          "text": [
            "Model training completed successfully!\n"
          ]
        }
      ]
    },
    {
      "cell_type": "code",
      "source": [
        "# solution 12\n",
        "from sklearn.model_selection import train_test_split\n",
        "\n",
        "X_train, X_test, y_train, y_test = train_test_split(X, y, test_size=0.2, random_state=42)  # Split the data into training and testing sets (80% train, 20% test)\n",
        "\n",
        "print(\"Shape of X_train:\", X_train.shape)\n",
        "print(\"Shape of X_test:\", X_test.shape)\n",
        "print(\"Shape of y_train:\", y_train.shape)\n",
        "print(\"Shape of y_test:\", y_test.shape)\n"
      ],
      "metadata": {
        "colab": {
          "base_uri": "https://localhost:8080/"
        },
        "id": "7TbuF0xwivw8",
        "outputId": "301e0a63-4c09-44f0-ce53-09dd003ab035"
      },
      "execution_count": 92,
      "outputs": [
        {
          "output_type": "stream",
          "name": "stdout",
          "text": [
            "Shape of X_train: (144000, 50)\n",
            "Shape of X_test: (36000, 50)\n",
            "Shape of y_train: (144000,)\n",
            "Shape of y_test: (36000,)\n"
          ]
        }
      ]
    },
    {
      "cell_type": "code",
      "source": [
        "# metho1\n",
        "from sklearn.model_selection import train_test_split\n",
        "\n",
        "X = numeric_df.drop(columns=['target'])         # Drop the target column from predictors\n",
        "y = numeric_df['target']                        # The target column\n",
        "\n",
        "# Split data into training (80%) and testing (20%) sets\n",
        "X_train, X_test, y_train, y_test = train_test_split(X, y, test_size=0.2, random_state=42)\n",
        "\n",
        "print(\"Training data shape:\", X_train.shape)\n",
        "print(\"Testing data shape:\", X_test.shape)"
      ],
      "metadata": {
        "colab": {
          "base_uri": "https://localhost:8080/"
        },
        "id": "pUbKyzTzcdGF",
        "outputId": "e449ecc0-8551-483e-af63-57ccd736af1c"
      },
      "execution_count": 93,
      "outputs": [
        {
          "output_type": "stream",
          "name": "stdout",
          "text": [
            "Training data shape: (144000, 50)\n",
            "Testing data shape: (36000, 50)\n"
          ]
        }
      ]
    },
    {
      "cell_type": "markdown",
      "source": [
        "\n",
        "##Gaussian Naive Bayes Model"
      ],
      "metadata": {
        "id": "5hrhPRlqlGN2"
      }
    },
    {
      "cell_type": "code",
      "source": [
        "\n",
        "from sklearn.naive_bayes import GaussianNB\n",
        "\n",
        "\n",
        "gnb = GaussianNB()\n",
        "\n",
        "\n",
        "gnb.fit(X_train, y_train)\n",
        "\n",
        "print(\"Model training complete.\")\n"
      ],
      "metadata": {
        "colab": {
          "base_uri": "https://localhost:8080/"
        },
        "id": "XJGfe5XXVArg",
        "outputId": "6e0a95b2-19b3-4b47-f046-46949fe66e0a"
      },
      "execution_count": 94,
      "outputs": [
        {
          "output_type": "stream",
          "name": "stdout",
          "text": [
            "Model training complete.\n"
          ]
        }
      ]
    },
    {
      "cell_type": "code",
      "source": [
        "\n",
        "model.fit(X_train, y_train)\n",
        "\n",
        "print(\"Model training on training data completed successfully!\")\n"
      ],
      "metadata": {
        "colab": {
          "base_uri": "https://localhost:8080/"
        },
        "id": "-6H9yQj8i1r2",
        "outputId": "640932a4-ce08-4cba-f062-24067b3abe4a"
      },
      "execution_count": 95,
      "outputs": [
        {
          "output_type": "stream",
          "name": "stdout",
          "text": [
            "Model training on training data completed successfully!\n"
          ]
        }
      ]
    },
    {
      "cell_type": "code",
      "source": [
        "# solution 14\n",
        "from sklearn.naive_bayes import GaussianNB\n",
        "from sklearn.metrics import accuracy_score\n",
        "\n",
        "gnb = GaussianNB()\n",
        "\n",
        "gnb.fit(X_train, y_train)\n",
        "\n",
        "y_pred = gnb.predict(X_test)\n",
        "\n",
        "accuracy = accuracy_score(y_test, y_pred)\n",
        "\n",
        "print(f\"Accuracy of the model on the test data: {accuracy:.4f}\")\n"
      ],
      "metadata": {
        "colab": {
          "base_uri": "https://localhost:8080/"
        },
        "id": "iU3uOB8Mj1R1",
        "outputId": "303a4c31-950d-44a5-acb8-e1804f329ec4"
      },
      "execution_count": 96,
      "outputs": [
        {
          "output_type": "stream",
          "name": "stdout",
          "text": [
            "Accuracy of the model on the test data: 0.9089\n"
          ]
        }
      ]
    },
    {
      "cell_type": "markdown",
      "source": [
        "##Cross-Validation"
      ],
      "metadata": {
        "id": "eTHWRFafk0fw"
      }
    },
    {
      "cell_type": "code",
      "source": [
        "# solution 15\n",
        "from sklearn.model_selection import cross_val_score\n",
        "import matplotlib.pyplot as plt\n",
        "\n",
        "cv_scores = cross_val_score(gnb, X_train, y_train, cv=5, scoring='accuracy')\n",
        "\n",
        "print(\"Cross-validation scores:\", cv_scores)\n",
        "print(f\"Mean cross-validation accuracy: {cv_scores.mean():.4f}\")"
      ],
      "metadata": {
        "colab": {
          "base_uri": "https://localhost:8080/"
        },
        "id": "sJwCxCnGkWFt",
        "outputId": "1679090a-c14d-4f3c-ed76-bfab925025e5"
      },
      "execution_count": 97,
      "outputs": [
        {
          "output_type": "stream",
          "name": "stdout",
          "text": [
            "Cross-validation scores: [0.9121875  0.91131944 0.91159722 0.91090278 0.9128125 ]\n",
            "Mean cross-validation accuracy: 0.9118\n"
          ]
        }
      ]
    },
    {
      "cell_type": "code",
      "source": [
        "# 2\n",
        "from sklearn.model_selection import cross_val_score\n",
        "\n",
        "cv_scores = cross_val_score(gnb, X_train, y_train, cv=5, scoring='accuracy')\n",
        "print(\"Cross-validation accuracy scores:\", cv_scores)\n",
        "print(\"Mean cross-validation accuracy:\", cv_scores.mean())\n",
        "\n"
      ],
      "metadata": {
        "colab": {
          "base_uri": "https://localhost:8080/"
        },
        "id": "WMfUmrjbkAuP",
        "outputId": "4222d341-ed6b-42d5-e8b4-98d70d37bf6b"
      },
      "execution_count": 98,
      "outputs": [
        {
          "output_type": "stream",
          "name": "stdout",
          "text": [
            "Cross-validation accuracy scores: [0.9121875  0.91131944 0.91159722 0.91090278 0.9128125 ]\n",
            "Mean cross-validation accuracy: 0.9117638888888889\n"
          ]
        }
      ]
    },
    {
      "cell_type": "code",
      "source": [
        "# solution 16\n",
        "plt.figure(figsize=(8, 6))\n",
        "plt.hist(cv_scores, bins=5, edgecolor='black')\n",
        "plt.title('Distribution of Cross-Validation Accuracy Scores')\n",
        "plt.xlabel('Accuracy')\n",
        "plt.ylabel('Frequency')\n",
        "plt.show()\n",
        "\n"
      ],
      "metadata": {
        "colab": {
          "base_uri": "https://localhost:8080/",
          "height": 564
        },
        "id": "1vfGcwTXkxlA",
        "outputId": "355b5d20-2774-4486-be78-c8a0bccaf867"
      },
      "execution_count": 99,
      "outputs": [
        {
          "output_type": "display_data",
          "data": {
            "text/plain": [
              "<Figure size 800x600 with 1 Axes>"
            ],
            "image/png": "[encoded data removed]"
          },
          "metadata": {}
        }
      ]
    },
    {
      "cell_type": "code",
      "source": [
        "# solution 18\n",
        "from sklearn.metrics import classification_report, confusion_matrix\n",
        "import seaborn as sns\n",
        "\n",
        "conf_matrix = confusion_matrix(y_test, y_pred)\n",
        "\n",
        "plt.figure(figsize=(8, 6))\n",
        "sns.heatmap(conf_matrix, annot=True, fmt='d', cmap='Blues', xticklabels=[0, 1], yticklabels=[0, 1])\n",
        "plt.title('Confusion Matrix')\n",
        "plt.xlabel('Predicted')\n",
        "plt.ylabel('Actual')\n",
        "plt.show()\n",
        "\n",
        "class_report = classification_report(y_test, y_pred)\n",
        "print(\"Classification Report:\")\n",
        "print(class_report)\n"
      ],
      "metadata": {
        "colab": {
          "base_uri": "https://localhost:8080/",
          "height": 738
        },
        "id": "-oauTmJ4lGR2",
        "outputId": "6d458658-ce50-4efb-8791-08874cb66d86"
      },
      "execution_count": 100,
      "outputs": [
        {
          "output_type": "display_data",
          "data": {
            "text/plain": [
              "<Figure size 800x600 with 2 Axes>"
            ],
            "image/png": "[encoded data removed]"
          },
          "metadata": {}
        },
        {
          "output_type": "stream",
          "name": "stdout",
          "text": [
            "Classification Report:\n",
            "              precision    recall  f1-score   support\n",
            "\n",
            "           0       0.92      0.99      0.95     32349\n",
            "           1       0.66      0.21      0.32      3651\n",
            "\n",
            "    accuracy                           0.91     36000\n",
            "   macro avg       0.79      0.60      0.64     36000\n",
            "weighted avg       0.89      0.91      0.89     36000\n",
            "\n"
          ]
        }
      ]
    },
    {
      "cell_type": "code",
      "source": [
        "#19\n",
        "from sklearn.model_selection import train_test_split\n",
        "from imblearn.over_sampling import SMOTE\n",
        "from sklearn.naive_bayes import GaussianNB\n",
        "\n",
        "\n",
        "X_train, X_test, y_train, y_test = train_test_split(X, y, test_size=0.2, random_state=42)\n",
        "\n",
        "smote = SMOTE(random_state=42)\n",
        "X_balanced, y_balanced = smote.fit_resample(X_train, y_train)\n",
        "\n",
        "gnb_balanced = GaussianNB()\n",
        "gnb_balanced.fit(X_balanced, y_balanced)\n",
        "\n",
        "y_pred = gnb_balanced.predict(X_test)\n",
        "\n",
        "from sklearn.metrics import classification_report, confusion_matrix\n",
        "\n",
        "conf_matrix = confusion_matrix(y_test, y_pred)\n",
        "class_report = classification_report(y_test, y_pred)\n",
        "\n",
        "print(\"Confusion Matrix:\\n\", conf_matrix)\n",
        "print(\"\\nClassification Report:\\n\", class_report)\n"
      ],
      "metadata": {
        "colab": {
          "base_uri": "https://localhost:8080/"
        },
        "id": "Q0640J1IXZRN",
        "outputId": "2e0f0d03-b3bf-41bb-a06f-4442b3c9607d"
      },
      "execution_count": 101,
      "outputs": [
        {
          "output_type": "stream",
          "name": "stdout",
          "text": [
            "Confusion Matrix:\n",
            " [[25433  6916]\n",
            " [ 1927  1724]]\n",
            "\n",
            "Classification Report:\n",
            "               precision    recall  f1-score   support\n",
            "\n",
            "           0       0.93      0.79      0.85     32349\n",
            "           1       0.20      0.47      0.28      3651\n",
            "\n",
            "    accuracy                           0.75     36000\n",
            "   macro avg       0.56      0.63      0.57     36000\n",
            "weighted avg       0.86      0.75      0.79     36000\n",
            "\n"
          ]
        }
      ]
    },
    {
      "cell_type": "code",
      "source": [
        "\n",
        "cv_scores_balanced = cross_val_score(gnb_balanced, X_balanced, y_balanced, cv=5, scoring='accuracy')\n",
        "\n",
        "\n",
        "print(\"Cross-validation accuracy scores on the balanced dataset:\", cv_scores_balanced)\n",
        "\n",
        "print(f\"Mean cross-validation accuracy on the balanced dataset: {cv_scores_balanced.mean():.4f}\")\n"
      ],
      "metadata": {
        "colab": {
          "base_uri": "https://localhost:8080/"
        },
        "id": "eEbfCmqwYQ2f",
        "outputId": "a0cd50e2-cba8-484c-f241-a356b5f600e5"
      },
      "execution_count": 102,
      "outputs": [
        {
          "output_type": "stream",
          "name": "stdout",
          "text": [
            "Cross-validation accuracy scores on the balanced dataset: [0.69599769 0.80237246 0.80597562 0.80088342 0.80383458]\n",
            "Mean cross-validation accuracy on the balanced dataset: 0.7818\n"
          ]
        }
      ]
    },
    {
      "cell_type": "code",
      "source": [
        "import matplotlib.pyplot as plt\n",
        "\n",
        "plt.figure(figsize=(8, 6))\n",
        "plt.hist(cv_scores, bins=5, edgecolor='black', alpha=0.7, label='Whole Dataset')\n",
        "plt.hist(cv_scores_balanced, bins=5, edgecolor='black', alpha=0.7, label='Balanced Dataset')\n",
        "plt.title('Cross-Validation Accuracy Scores Comparison')\n",
        "plt.xlabel('Accuracy')\n",
        "plt.ylabel('Frequency')\n",
        "plt.legend()\n",
        "plt.show()\n",
        "\n",
        "print(f\"Mean accuracy on whole dataset: {cv_scores.mean():.4f}\")\n",
        "print(f\"Mean accuracy on balanced dataset: {cv_scores_balanced.mean():.4f}\")\n"
      ],
      "metadata": {
        "colab": {
          "base_uri": "https://localhost:8080/",
          "height": 599
        },
        "id": "G17LYhl9Z_cY",
        "outputId": "9ed129cc-0624-4c32-a263-27e1870cc15e"
      },
      "execution_count": 103,
      "outputs": [
        {
          "output_type": "display_data",
          "data": {
            "text/plain": [
              "<Figure size 800x600 with 1 Axes>"
            ],
            "image/png": "[encoded data removed]"
          },
          "metadata": {}
        },
        {
          "output_type": "stream",
          "name": "stdout",
          "text": [
            "Mean accuracy on whole dataset: 0.9118\n",
            "Mean accuracy on balanced dataset: 0.7818\n"
          ]
        }
      ]
    },
    {
      "cell_type": "markdown",
      "source": [
        "#*Data Visualization*"
      ],
      "metadata": {
        "id": "0wAQIzlgl9pP"
      }
    },
    {
      "cell_type": "code",
      "source": [
        "\n",
        "from sklearn.metrics import classification_report, confusion_matrix\n",
        "import seaborn as sns\n",
        "\n",
        "conf_matrix_whole = confusion_matrix(y_test, y_pred) # Whole dataset confusion matrix\n",
        "\n",
        "plt.figure(figsize=(8, 6))# Plot Confusion Matrix for the whole dataset\n",
        "sns.heatmap(conf_matrix_whole, annot=True, fmt='d', cmap='Blues')\n",
        "plt.title('Confusion Matrix - Whole Dataset')\n",
        "plt.xlabel('Predicted')\n",
        "plt.ylabel('Actual')\n",
        "plt.show()\n",
        "\n",
        "class_report_whole = classification_report(y_test, y_pred) # Classification Report for the whole dataset\n",
        "\n",
        "print(\"Classification Report - Whole Dataset:\")\n",
        "print(class_report_whole)\n"
      ],
      "metadata": {
        "colab": {
          "base_uri": "https://localhost:8080/",
          "height": 738
        },
        "id": "YdWfB2AUmp15",
        "outputId": "ece1c317-ef65-4c12-c8e4-14ef268bb8cd"
      },
      "execution_count": 104,
      "outputs": [
        {
          "output_type": "display_data",
          "data": {
            "text/plain": [
              "<Figure size 800x600 with 2 Axes>"
            ],
            "image/png": "[encoded data removed]"
          },
          "metadata": {}
        },
        {
          "output_type": "stream",
          "name": "stdout",
          "text": [
            "Classification Report - Whole Dataset:\n",
            "              precision    recall  f1-score   support\n",
            "\n",
            "           0       0.93      0.79      0.85     32349\n",
            "           1       0.20      0.47      0.28      3651\n",
            "\n",
            "    accuracy                           0.75     36000\n",
            "   macro avg       0.56      0.63      0.57     36000\n",
            "weighted avg       0.86      0.75      0.79     36000\n",
            "\n"
          ]
        }
      ]
    },
    {
      "cell_type": "code",
      "source": [
        "from sklearn.model_selection import train_test_split\n",
        "from sklearn.naive_bayes import GaussianNB\n",
        "from sklearn.metrics import confusion_matrix, classification_report\n",
        "import seaborn as sns\n",
        "import matplotlib.pyplot as plt\n"
      ],
      "metadata": {
        "id": "VgCZ7BK2ZoA6"
      },
      "execution_count": 105,
      "outputs": []
    },
    {
      "cell_type": "code",
      "source": [
        "\n",
        "\n",
        "X_train_balanced, X_test_balanced, y_train_balanced, y_test_balanced = train_test_split(\n",
        "    X_balanced, y_balanced, test_size=0.2, random_state=42\n",
        "    )\n",
        "\n",
        "gnb_balanced = GaussianNB()\n",
        "gnb_balanced.fit(X_train_balanced, y_train_balanced)\n",
        "\n",
        "\n",
        "y_pred_balanced = gnb_balanced.predict(X_test_balanced)\n",
        "\n",
        "\n",
        "conf_matrix_balanced = confusion_matrix(y_test_balanced, y_pred_balanced)\n",
        "\n",
        "plt.figure(figsize=(8, 6))\n",
        "sns.heatmap(conf_matrix_balanced, annot=True, fmt='d', cmap='Blues')\n",
        "plt.title('Confusion Matrix - Balanced Dataset')\n",
        "plt.xlabel('Predicted')\n",
        "plt.ylabel('Actual')\n",
        "plt.show()\n",
        "\n",
        "class_report_balanced = classification_report(y_test_balanced, y_pred_balanced)\n",
        "print(\"Classification Report - Balanced Dataset:\")\n",
        "print(class_report_balanced)\n"
      ],
      "metadata": {
        "colab": {
          "base_uri": "https://localhost:8080/",
          "height": 738
        },
        "id": "SAZxye-EbTAn",
        "outputId": "e5910efd-517b-4364-8e14-8c35a47b196e"
      },
      "execution_count": 106,
      "outputs": [
        {
          "output_type": "display_data",
          "data": {
            "text/plain": [
              "<Figure size 800x600 with 2 Axes>"
            ],
            "image/png": "[encoded data removed]"
          },
          "metadata": {}
        },
        {
          "output_type": "stream",
          "name": "stdout",
          "text": [
            "Classification Report - Balanced Dataset:\n",
            "              precision    recall  f1-score   support\n",
            "\n",
            "           0       0.79      0.79      0.79     25814\n",
            "           1       0.79      0.79      0.79     26031\n",
            "\n",
            "    accuracy                           0.79     51845\n",
            "   macro avg       0.79      0.79      0.79     51845\n",
            "weighted avg       0.79      0.79      0.79     51845\n",
            "\n"
          ]
        }
      ]
    },
    {
      "cell_type": "code",
      "source": [
        "from sklearn.naive_bayes import GaussianNB\n",
        "from sklearn.model_selection import train_test_split, cross_val_score\n",
        "from sklearn.metrics import accuracy_score, classification_report, confusion_matrix\n",
        "import matplotlib.pyplot as plt\n",
        "import seaborn as sns"
      ],
      "metadata": {
        "id": "KCtd3mHWqhQE"
      },
      "execution_count": 109,
      "outputs": []
    },
    {
      "cell_type": "code",
      "source": [
        "\n",
        "# Step 1: Split the training data into 50/50\n",
        "X_train_50, _, y_train_50, _ = train_test_split(X_train, y_train, test_size=0.5, random_state=42)\n",
        "\n",
        "# Step 2: Initialize the model\n",
        "gnb_full = GaussianNB()\n",
        "gnb_half = GaussianNB()\n"
      ],
      "metadata": {
        "id": "9YDpZgJOqgzi"
      },
      "execution_count": 108,
      "outputs": []
    },
    {
      "cell_type": "code",
      "source": [
        "v_scores_full = cross_val_score(gnb_full, X_train, y_train, cv=5, scoring='accuracy')\n",
        "print(f\"Cross-validation scores (full data): {cv_scores_full}\")\n",
        "print(f\"Mean cross-validation accuracy (full data): {cv_scores_full.mean():.4f}\")\n",
        "\n",
        "# Perform cross-validation on the 50/50 split training data\n",
        "cv_scores_half = cross_val_score(gnb_half, X_train_50, y_train_50, cv=5, scoring='accuracy')\n",
        "print(f\"Cross-validation scores (50/50 split data): {cv_scores_half}\")\n",
        "print(f\"Mean cross-validation accuracy (50/50 split data): {cv_scores_half.mean():.4f}\")"
      ],
      "metadata": {
        "colab": {
          "base_uri": "https://localhost:8080/"
        },
        "id": "b7FYUZ_RqVQr",
        "outputId": "08a46921-18ed-4490-ad25-ce5acafc4b77"
      },
      "execution_count": 110,
      "outputs": [
        {
          "output_type": "stream",
          "name": "stdout",
          "text": [
            "Cross-validation scores (full data): [0.9121875  0.91131944 0.91159722 0.91090278 0.9128125 ]\n",
            "Mean cross-validation accuracy (full data): 0.9118\n",
            "Cross-validation scores (50/50 split data): [0.9125     0.91409722 0.91375    0.91479167 0.91451389]\n",
            "Mean cross-validation accuracy (50/50 split data): 0.9139\n"
          ]
        }
      ]
    },
    {
      "cell_type": "code",
      "source": [
        "# Step 4: Train the model on the full data and make predictions\n",
        "gnb_full.fit(X_train, y_train)\n",
        "y_pred_full = gnb_full.predict(X_test)\n",
        "\n",
        "# Train the model on the 50/50 split data and make predictions\n",
        "gnb_half.fit(X_train_50, y_train_50)\n",
        "y_pred_half = gnb_half.predict(X_test)"
      ],
      "metadata": {
        "id": "AH-TH2LVqVBw"
      },
      "execution_count": 111,
      "outputs": []
    },
    {
      "cell_type": "code",
      "source": [
        "# Step 5: Calculate accuracy, confusion matrix, and classification report for both models\n",
        "accuracy_full = accuracy_score(y_test, y_pred_full)\n",
        "conf_matrix_full = confusion_matrix(y_test, y_pred_full)\n",
        "class_report_full = classification_report(y_test, y_pred_full)\n",
        "\n",
        "# 50/50 split data\n",
        "accuracy_half = accuracy_score(y_test, y_pred_half)\n",
        "conf_matrix_half = confusion_matrix(y_test, y_pred_half)\n",
        "class_report_half = classification_report(y_test, y_pred_half)\n",
        "\n",
        "# Print out the results\n",
        "print(f\"Accuracy (full data): {accuracy_full:.4f}\")\n",
        "print(f\"Classification Report (full data):\\n{class_report_full}\")\n",
        "print(f\"Confusion Matrix (full data):\\n{conf_matrix_full}\")\n",
        "\n",
        "print(f\"Accuracy (50/50 split data): {accuracy_half:.4f}\")\n",
        "print(f\"Classification Report (50/50 split data):\\n{class_report_half}\")\n",
        "print(f\"Confusion Matrix (50/50 split data):\\n{conf_matrix_half}\")"
      ],
      "metadata": {
        "colab": {
          "base_uri": "https://localhost:8080/"
        },
        "id": "1TaN0I7BqKkX",
        "outputId": "2959a46a-f653-49b4-fefd-e36c5a65cba6"
      },
      "execution_count": 112,
      "outputs": [
        {
          "output_type": "stream",
          "name": "stdout",
          "text": [
            "Accuracy (full data): 0.9089\n",
            "Classification Report (full data):\n",
            "              precision    recall  f1-score   support\n",
            "\n",
            "           0       0.92      0.99      0.95     32349\n",
            "           1       0.66      0.21      0.32      3651\n",
            "\n",
            "    accuracy                           0.91     36000\n",
            "   macro avg       0.79      0.60      0.64     36000\n",
            "weighted avg       0.89      0.91      0.89     36000\n",
            "\n",
            "Confusion Matrix (full data):\n",
            "[[31940   409]\n",
            " [ 2872   779]]\n",
            "Accuracy (50/50 split data): 0.9090\n",
            "Classification Report (50/50 split data):\n",
            "              precision    recall  f1-score   support\n",
            "\n",
            "           0       0.92      0.99      0.95     32349\n",
            "           1       0.66      0.21      0.32      3651\n",
            "\n",
            "    accuracy                           0.91     36000\n",
            "   macro avg       0.79      0.60      0.64     36000\n",
            "weighted avg       0.89      0.91      0.89     36000\n",
            "\n",
            "Confusion Matrix (50/50 split data):\n",
            "[[31952   397]\n",
            " [ 2880   771]]\n"
          ]
        }
      ]
    },
    {
      "cell_type": "code",
      "source": [
        "plt.figure(figsize=(8, 6))\n",
        "plt.hist(cv_scores_full, bins=5, alpha=0.6, label='Full Data', edgecolor='black')\n",
        "plt.hist(cv_scores_half, bins=5, alpha=0.6, label='50/50 Split Data', edgecolor='black')\n",
        "plt.title(\"Cross-Validation Accuracy Scores\")\n",
        "plt.xlabel(\"Accuracy\")\n",
        "plt.ylabel(\"Frequency\")\n",
        "plt.legend()\n",
        "plt.show()"
      ],
      "metadata": {
        "colab": {
          "base_uri": "https://localhost:8080/",
          "height": 564
        },
        "id": "D--uFRaaqKTz",
        "outputId": "f63f21ee-48e0-4a81-9c38-e717bd97a07f"
      },
      "execution_count": 113,
      "outputs": [
        {
          "output_type": "display_data",
          "data": {
            "text/plain": [
              "<Figure size 800x600 with 1 Axes>"
            ],
            "image/png": "[encoded data removed]"
          },
          "metadata": {}
        }
      ]
    },
    {
      "cell_type": "code",
      "source": [
        "fig, axes = plt.subplots(1, 2, figsize=(14, 5))\n",
        "sns.heatmap(conf_matrix_full, annot=True, fmt=\"d\", cmap=\"Blues\", ax=axes[0])\n",
        "axes[0].set_title(\"Confusion Matrix (Full Data)\")\n",
        "axes[0].set_xlabel(\"Predicted Label\")\n",
        "axes[0].set_ylabel(\"True Label\")\n",
        "\n",
        "sns.heatmap(conf_matrix_half, annot=True, fmt=\"d\", cmap=\"Blues\", ax=axes[1])\n",
        "axes[1].set_title(\"Confusion Matrix (50/50 Split Data)\")\n",
        "axes[1].set_xlabel(\"Predicted Label\")\n",
        "axes[1].set_ylabel(\"True Label\")\n",
        "\n",
        "plt.tight_layout()\n",
        "plt.show()\n"
      ],
      "metadata": {
        "colab": {
          "base_uri": "https://localhost:8080/",
          "height": 477
        },
        "id": "qgYzKkCmqJ0Q",
        "outputId": "c89fdc26-513f-4733-bb96-465d47cd7326"
      },
      "execution_count": 114,
      "outputs": [
        {
          "output_type": "display_data",
          "data": {
            "text/plain": [
              "<Figure size 1400x500 with 4 Axes>"
            ],
            "image/png": "[encoded data removed]"
          },
          "metadata": {}
        }
      ]
    },
    {
      "cell_type": "markdown",
      "source": [
        "#Conclusion\n",
        "\n",
        "The original data had mostly unsuccessful transactions, which made the model predict unsuccessful transactions very well but struggled with successful ones.\n",
        "\n",
        "We fixed this by balancing the data, so there were equal successful and unsuccessful transactions. After that, the model got better at predicting both types.\n",
        "\n",
        "Even though the accuracy dropped a little, it was now much better at predicting successful transactions.\n",
        "\n",
        "In short, balancing the data made the model more accurate for both successful and unsuccessful transactions.\n",
        "\n",
        ">\n",
        "\n",
        "\n"
      ],
      "metadata": {
        "id": "e9vPr74ofIJz"
      }
    }
  ],
  "metadata": {
    "colab": {
      "provenance": [],
      "toc_visible": true,
      "include_colab_link": true
    },
    "kernelspec": {
      "display_name": "Python 3",
      "name": "python3"
    },
    "language_info": {
      "name": "python"
    }
  },
  "nbformat": 4,
  "nbformat_minor": 0
}